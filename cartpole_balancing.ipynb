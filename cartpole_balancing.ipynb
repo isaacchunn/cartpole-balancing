{
  "nbformat": 4,
  "nbformat_minor": 0,
  "metadata": {
    "colab": {
      "provenance": [],
      "gpuType": "T4",
      "include_colab_link": true
    },
    "kernelspec": {
      "name": "python3",
      "display_name": "Python 3"
    },
    "language_info": {
      "name": "python"
    },
    "accelerator": "GPU",
    "widgets": {
      "application/vnd.jupyter.widget-state+json": {
        "9e7b1c3aabad4d8d87e1832a539c8ac2": {
          "model_module": "@jupyter-widgets/controls",
          "model_name": "HBoxModel",
          "model_module_version": "1.5.0",
          "state": {
            "_dom_classes": [],
            "_model_module": "@jupyter-widgets/controls",
            "_model_module_version": "1.5.0",
            "_model_name": "HBoxModel",
            "_view_count": null,
            "_view_module": "@jupyter-widgets/controls",
            "_view_module_version": "1.5.0",
            "_view_name": "HBoxView",
            "box_style": "",
            "children": [
              "IPY_MODEL_0e491131e7884521b1b83f1b0d597405",
              "IPY_MODEL_06e784796ab34feabfc8076f918da690",
              "IPY_MODEL_fe0441fef47d4b2b8daaa79be92f04b3"
            ],
            "layout": "IPY_MODEL_17b2632e74054c46a20ea48d4bdf71e3"
          }
        },
        "0e491131e7884521b1b83f1b0d597405": {
          "model_module": "@jupyter-widgets/controls",
          "model_name": "HTMLModel",
          "model_module_version": "1.5.0",
          "state": {
            "_dom_classes": [],
            "_model_module": "@jupyter-widgets/controls",
            "_model_module_version": "1.5.0",
            "_model_name": "HTMLModel",
            "_view_count": null,
            "_view_module": "@jupyter-widgets/controls",
            "_view_module_version": "1.5.0",
            "_view_name": "HTMLView",
            "description": "",
            "description_tooltip": null,
            "layout": "IPY_MODEL_dab0069e34384076bfa4f339f5de8350",
            "placeholder": "​",
            "style": "IPY_MODEL_8b8e166f964840f391398cb39d608398",
            "value": "100%"
          }
        },
        "06e784796ab34feabfc8076f918da690": {
          "model_module": "@jupyter-widgets/controls",
          "model_name": "FloatProgressModel",
          "model_module_version": "1.5.0",
          "state": {
            "_dom_classes": [],
            "_model_module": "@jupyter-widgets/controls",
            "_model_module_version": "1.5.0",
            "_model_name": "FloatProgressModel",
            "_view_count": null,
            "_view_module": "@jupyter-widgets/controls",
            "_view_module_version": "1.5.0",
            "_view_name": "ProgressView",
            "bar_style": "success",
            "description": "",
            "description_tooltip": null,
            "layout": "IPY_MODEL_1934e5dacf454c8d98f1b5ef94729c31",
            "max": 50000,
            "min": 0,
            "orientation": "horizontal",
            "style": "IPY_MODEL_29da1b161c974d9b88c3721b578e7bd3",
            "value": 50000
          }
        },
        "fe0441fef47d4b2b8daaa79be92f04b3": {
          "model_module": "@jupyter-widgets/controls",
          "model_name": "HTMLModel",
          "model_module_version": "1.5.0",
          "state": {
            "_dom_classes": [],
            "_model_module": "@jupyter-widgets/controls",
            "_model_module_version": "1.5.0",
            "_model_name": "HTMLModel",
            "_view_count": null,
            "_view_module": "@jupyter-widgets/controls",
            "_view_module_version": "1.5.0",
            "_view_name": "HTMLView",
            "description": "",
            "description_tooltip": null,
            "layout": "IPY_MODEL_930e46c5118f40cf948378019c961717",
            "placeholder": "​",
            "style": "IPY_MODEL_cf8d4e282e1e41fcabe1a68f0602c07f",
            "value": " 50000/50000 [07:10&lt;00:00, 92.72it/s]"
          }
        },
        "17b2632e74054c46a20ea48d4bdf71e3": {
          "model_module": "@jupyter-widgets/base",
          "model_name": "LayoutModel",
          "model_module_version": "1.2.0",
          "state": {
            "_model_module": "@jupyter-widgets/base",
            "_model_module_version": "1.2.0",
            "_model_name": "LayoutModel",
            "_view_count": null,
            "_view_module": "@jupyter-widgets/base",
            "_view_module_version": "1.2.0",
            "_view_name": "LayoutView",
            "align_content": null,
            "align_items": null,
            "align_self": null,
            "border": null,
            "bottom": null,
            "display": null,
            "flex": null,
            "flex_flow": null,
            "grid_area": null,
            "grid_auto_columns": null,
            "grid_auto_flow": null,
            "grid_auto_rows": null,
            "grid_column": null,
            "grid_gap": null,
            "grid_row": null,
            "grid_template_areas": null,
            "grid_template_columns": null,
            "grid_template_rows": null,
            "height": null,
            "justify_content": null,
            "justify_items": null,
            "left": null,
            "margin": null,
            "max_height": null,
            "max_width": null,
            "min_height": null,
            "min_width": null,
            "object_fit": null,
            "object_position": null,
            "order": null,
            "overflow": null,
            "overflow_x": null,
            "overflow_y": null,
            "padding": null,
            "right": null,
            "top": null,
            "visibility": null,
            "width": null
          }
        },
        "dab0069e34384076bfa4f339f5de8350": {
          "model_module": "@jupyter-widgets/base",
          "model_name": "LayoutModel",
          "model_module_version": "1.2.0",
          "state": {
            "_model_module": "@jupyter-widgets/base",
            "_model_module_version": "1.2.0",
            "_model_name": "LayoutModel",
            "_view_count": null,
            "_view_module": "@jupyter-widgets/base",
            "_view_module_version": "1.2.0",
            "_view_name": "LayoutView",
            "align_content": null,
            "align_items": null,
            "align_self": null,
            "border": null,
            "bottom": null,
            "display": null,
            "flex": null,
            "flex_flow": null,
            "grid_area": null,
            "grid_auto_columns": null,
            "grid_auto_flow": null,
            "grid_auto_rows": null,
            "grid_column": null,
            "grid_gap": null,
            "grid_row": null,
            "grid_template_areas": null,
            "grid_template_columns": null,
            "grid_template_rows": null,
            "height": null,
            "justify_content": null,
            "justify_items": null,
            "left": null,
            "margin": null,
            "max_height": null,
            "max_width": null,
            "min_height": null,
            "min_width": null,
            "object_fit": null,
            "object_position": null,
            "order": null,
            "overflow": null,
            "overflow_x": null,
            "overflow_y": null,
            "padding": null,
            "right": null,
            "top": null,
            "visibility": null,
            "width": null
          }
        },
        "8b8e166f964840f391398cb39d608398": {
          "model_module": "@jupyter-widgets/controls",
          "model_name": "DescriptionStyleModel",
          "model_module_version": "1.5.0",
          "state": {
            "_model_module": "@jupyter-widgets/controls",
            "_model_module_version": "1.5.0",
            "_model_name": "DescriptionStyleModel",
            "_view_count": null,
            "_view_module": "@jupyter-widgets/base",
            "_view_module_version": "1.2.0",
            "_view_name": "StyleView",
            "description_width": ""
          }
        },
        "1934e5dacf454c8d98f1b5ef94729c31": {
          "model_module": "@jupyter-widgets/base",
          "model_name": "LayoutModel",
          "model_module_version": "1.2.0",
          "state": {
            "_model_module": "@jupyter-widgets/base",
            "_model_module_version": "1.2.0",
            "_model_name": "LayoutModel",
            "_view_count": null,
            "_view_module": "@jupyter-widgets/base",
            "_view_module_version": "1.2.0",
            "_view_name": "LayoutView",
            "align_content": null,
            "align_items": null,
            "align_self": null,
            "border": null,
            "bottom": null,
            "display": null,
            "flex": null,
            "flex_flow": null,
            "grid_area": null,
            "grid_auto_columns": null,
            "grid_auto_flow": null,
            "grid_auto_rows": null,
            "grid_column": null,
            "grid_gap": null,
            "grid_row": null,
            "grid_template_areas": null,
            "grid_template_columns": null,
            "grid_template_rows": null,
            "height": null,
            "justify_content": null,
            "justify_items": null,
            "left": null,
            "margin": null,
            "max_height": null,
            "max_width": null,
            "min_height": null,
            "min_width": null,
            "object_fit": null,
            "object_position": null,
            "order": null,
            "overflow": null,
            "overflow_x": null,
            "overflow_y": null,
            "padding": null,
            "right": null,
            "top": null,
            "visibility": null,
            "width": null
          }
        },
        "29da1b161c974d9b88c3721b578e7bd3": {
          "model_module": "@jupyter-widgets/controls",
          "model_name": "ProgressStyleModel",
          "model_module_version": "1.5.0",
          "state": {
            "_model_module": "@jupyter-widgets/controls",
            "_model_module_version": "1.5.0",
            "_model_name": "ProgressStyleModel",
            "_view_count": null,
            "_view_module": "@jupyter-widgets/base",
            "_view_module_version": "1.2.0",
            "_view_name": "StyleView",
            "bar_color": null,
            "description_width": ""
          }
        },
        "930e46c5118f40cf948378019c961717": {
          "model_module": "@jupyter-widgets/base",
          "model_name": "LayoutModel",
          "model_module_version": "1.2.0",
          "state": {
            "_model_module": "@jupyter-widgets/base",
            "_model_module_version": "1.2.0",
            "_model_name": "LayoutModel",
            "_view_count": null,
            "_view_module": "@jupyter-widgets/base",
            "_view_module_version": "1.2.0",
            "_view_name": "LayoutView",
            "align_content": null,
            "align_items": null,
            "align_self": null,
            "border": null,
            "bottom": null,
            "display": null,
            "flex": null,
            "flex_flow": null,
            "grid_area": null,
            "grid_auto_columns": null,
            "grid_auto_flow": null,
            "grid_auto_rows": null,
            "grid_column": null,
            "grid_gap": null,
            "grid_row": null,
            "grid_template_areas": null,
            "grid_template_columns": null,
            "grid_template_rows": null,
            "height": null,
            "justify_content": null,
            "justify_items": null,
            "left": null,
            "margin": null,
            "max_height": null,
            "max_width": null,
            "min_height": null,
            "min_width": null,
            "object_fit": null,
            "object_position": null,
            "order": null,
            "overflow": null,
            "overflow_x": null,
            "overflow_y": null,
            "padding": null,
            "right": null,
            "top": null,
            "visibility": null,
            "width": null
          }
        },
        "cf8d4e282e1e41fcabe1a68f0602c07f": {
          "model_module": "@jupyter-widgets/controls",
          "model_name": "DescriptionStyleModel",
          "model_module_version": "1.5.0",
          "state": {
            "_model_module": "@jupyter-widgets/controls",
            "_model_module_version": "1.5.0",
            "_model_name": "DescriptionStyleModel",
            "_view_count": null,
            "_view_module": "@jupyter-widgets/base",
            "_view_module_version": "1.2.0",
            "_view_name": "StyleView",
            "description_width": ""
          }
        }
      }
    }
  },
  "cells": [
    {
      "cell_type": "markdown",
      "metadata": {
        "id": "view-in-github",
        "colab_type": "text"
      },
      "source": [
        "<a href=\"https://colab.research.google.com/github/isaacchunn/cartpole-balancing/blob/main/cartpole_balancing.ipynb\" target=\"_parent\"><img src=\"https://colab.research.google.com/assets/colab-badge.svg\" alt=\"Open In Colab\"/></a>"
      ]
    },
    {
      "cell_type": "code",
      "source": [
        "# Import progress bar and other dependencies\n",
        "!pip install tqdm\n",
        "!pip3 install ipywidgets --user"
      ],
      "metadata": {
        "colab": {
          "base_uri": "https://localhost:8080/"
        },
        "id": "9KgDkjOsGCLQ",
        "outputId": "ad326150-73ff-4a3a-b529-d96a186e082f"
      },
      "execution_count": null,
      "outputs": [
        {
          "output_type": "stream",
          "name": "stdout",
          "text": [
            "Requirement already satisfied: tqdm in /usr/local/lib/python3.10/dist-packages (4.66.2)\n",
            "Requirement already satisfied: ipywidgets in /usr/local/lib/python3.10/dist-packages (7.7.1)\n",
            "Requirement already satisfied: ipykernel>=4.5.1 in /usr/local/lib/python3.10/dist-packages (from ipywidgets) (5.5.6)\n",
            "Requirement already satisfied: ipython-genutils~=0.2.0 in /usr/local/lib/python3.10/dist-packages (from ipywidgets) (0.2.0)\n",
            "Requirement already satisfied: traitlets>=4.3.1 in /usr/local/lib/python3.10/dist-packages (from ipywidgets) (5.7.1)\n",
            "Requirement already satisfied: widgetsnbextension~=3.6.0 in /usr/local/lib/python3.10/dist-packages (from ipywidgets) (3.6.6)\n",
            "Requirement already satisfied: ipython>=4.0.0 in /usr/local/lib/python3.10/dist-packages (from ipywidgets) (7.34.0)\n",
            "Requirement already satisfied: jupyterlab-widgets>=1.0.0 in /usr/local/lib/python3.10/dist-packages (from ipywidgets) (3.0.10)\n",
            "Requirement already satisfied: jupyter-client in /usr/local/lib/python3.10/dist-packages (from ipykernel>=4.5.1->ipywidgets) (6.1.12)\n",
            "Requirement already satisfied: tornado>=4.2 in /usr/local/lib/python3.10/dist-packages (from ipykernel>=4.5.1->ipywidgets) (6.3.3)\n",
            "Requirement already satisfied: setuptools>=18.5 in /usr/local/lib/python3.10/dist-packages (from ipython>=4.0.0->ipywidgets) (67.7.2)\n",
            "Requirement already satisfied: jedi>=0.16 in /root/.local/lib/python3.10/site-packages (from ipython>=4.0.0->ipywidgets) (0.19.1)\n",
            "Requirement already satisfied: decorator in /usr/local/lib/python3.10/dist-packages (from ipython>=4.0.0->ipywidgets) (4.4.2)\n",
            "Requirement already satisfied: pickleshare in /usr/local/lib/python3.10/dist-packages (from ipython>=4.0.0->ipywidgets) (0.7.5)\n",
            "Requirement already satisfied: prompt-toolkit!=3.0.0,!=3.0.1,<3.1.0,>=2.0.0 in /usr/local/lib/python3.10/dist-packages (from ipython>=4.0.0->ipywidgets) (3.0.43)\n",
            "Requirement already satisfied: pygments in /usr/local/lib/python3.10/dist-packages (from ipython>=4.0.0->ipywidgets) (2.16.1)\n",
            "Requirement already satisfied: backcall in /usr/local/lib/python3.10/dist-packages (from ipython>=4.0.0->ipywidgets) (0.2.0)\n",
            "Requirement already satisfied: matplotlib-inline in /usr/local/lib/python3.10/dist-packages (from ipython>=4.0.0->ipywidgets) (0.1.6)\n",
            "Requirement already satisfied: pexpect>4.3 in /usr/local/lib/python3.10/dist-packages (from ipython>=4.0.0->ipywidgets) (4.9.0)\n",
            "Requirement already satisfied: notebook>=4.4.1 in /usr/local/lib/python3.10/dist-packages (from widgetsnbextension~=3.6.0->ipywidgets) (6.5.5)\n",
            "Requirement already satisfied: parso<0.9.0,>=0.8.3 in /usr/local/lib/python3.10/dist-packages (from jedi>=0.16->ipython>=4.0.0->ipywidgets) (0.8.3)\n",
            "Requirement already satisfied: jinja2 in /usr/local/lib/python3.10/dist-packages (from notebook>=4.4.1->widgetsnbextension~=3.6.0->ipywidgets) (3.1.3)\n",
            "Requirement already satisfied: pyzmq<25,>=17 in /usr/local/lib/python3.10/dist-packages (from notebook>=4.4.1->widgetsnbextension~=3.6.0->ipywidgets) (23.2.1)\n",
            "Requirement already satisfied: argon2-cffi in /usr/local/lib/python3.10/dist-packages (from notebook>=4.4.1->widgetsnbextension~=3.6.0->ipywidgets) (23.1.0)\n",
            "Requirement already satisfied: jupyter-core>=4.6.1 in /usr/local/lib/python3.10/dist-packages (from notebook>=4.4.1->widgetsnbextension~=3.6.0->ipywidgets) (5.7.2)\n",
            "Requirement already satisfied: nbformat in /usr/local/lib/python3.10/dist-packages (from notebook>=4.4.1->widgetsnbextension~=3.6.0->ipywidgets) (5.10.3)\n",
            "Requirement already satisfied: nbconvert>=5 in /usr/local/lib/python3.10/dist-packages (from notebook>=4.4.1->widgetsnbextension~=3.6.0->ipywidgets) (6.5.4)\n",
            "Requirement already satisfied: nest-asyncio>=1.5 in /usr/local/lib/python3.10/dist-packages (from notebook>=4.4.1->widgetsnbextension~=3.6.0->ipywidgets) (1.6.0)\n",
            "Requirement already satisfied: Send2Trash>=1.8.0 in /usr/local/lib/python3.10/dist-packages (from notebook>=4.4.1->widgetsnbextension~=3.6.0->ipywidgets) (1.8.2)\n",
            "Requirement already satisfied: terminado>=0.8.3 in /usr/local/lib/python3.10/dist-packages (from notebook>=4.4.1->widgetsnbextension~=3.6.0->ipywidgets) (0.18.1)\n",
            "Requirement already satisfied: prometheus-client in /usr/local/lib/python3.10/dist-packages (from notebook>=4.4.1->widgetsnbextension~=3.6.0->ipywidgets) (0.20.0)\n",
            "Requirement already satisfied: nbclassic>=0.4.7 in /usr/local/lib/python3.10/dist-packages (from notebook>=4.4.1->widgetsnbextension~=3.6.0->ipywidgets) (1.0.0)\n",
            "Requirement already satisfied: python-dateutil>=2.1 in /usr/local/lib/python3.10/dist-packages (from jupyter-client->ipykernel>=4.5.1->ipywidgets) (2.8.2)\n",
            "Requirement already satisfied: ptyprocess>=0.5 in /usr/local/lib/python3.10/dist-packages (from pexpect>4.3->ipython>=4.0.0->ipywidgets) (0.7.0)\n",
            "Requirement already satisfied: wcwidth in /usr/local/lib/python3.10/dist-packages (from prompt-toolkit!=3.0.0,!=3.0.1,<3.1.0,>=2.0.0->ipython>=4.0.0->ipywidgets) (0.2.13)\n",
            "Requirement already satisfied: platformdirs>=2.5 in /usr/local/lib/python3.10/dist-packages (from jupyter-core>=4.6.1->notebook>=4.4.1->widgetsnbextension~=3.6.0->ipywidgets) (4.2.0)\n",
            "Requirement already satisfied: jupyter-server>=1.8 in /usr/local/lib/python3.10/dist-packages (from nbclassic>=0.4.7->notebook>=4.4.1->widgetsnbextension~=3.6.0->ipywidgets) (1.24.0)\n",
            "Requirement already satisfied: notebook-shim>=0.2.3 in /usr/local/lib/python3.10/dist-packages (from nbclassic>=0.4.7->notebook>=4.4.1->widgetsnbextension~=3.6.0->ipywidgets) (0.2.4)\n",
            "Requirement already satisfied: lxml in /usr/local/lib/python3.10/dist-packages (from nbconvert>=5->notebook>=4.4.1->widgetsnbextension~=3.6.0->ipywidgets) (4.9.4)\n",
            "Requirement already satisfied: beautifulsoup4 in /usr/local/lib/python3.10/dist-packages (from nbconvert>=5->notebook>=4.4.1->widgetsnbextension~=3.6.0->ipywidgets) (4.12.3)\n",
            "Requirement already satisfied: bleach in /usr/local/lib/python3.10/dist-packages (from nbconvert>=5->notebook>=4.4.1->widgetsnbextension~=3.6.0->ipywidgets) (6.1.0)\n",
            "Requirement already satisfied: defusedxml in /usr/local/lib/python3.10/dist-packages (from nbconvert>=5->notebook>=4.4.1->widgetsnbextension~=3.6.0->ipywidgets) (0.7.1)\n",
            "Requirement already satisfied: entrypoints>=0.2.2 in /usr/local/lib/python3.10/dist-packages (from nbconvert>=5->notebook>=4.4.1->widgetsnbextension~=3.6.0->ipywidgets) (0.4)\n",
            "Requirement already satisfied: jupyterlab-pygments in /usr/local/lib/python3.10/dist-packages (from nbconvert>=5->notebook>=4.4.1->widgetsnbextension~=3.6.0->ipywidgets) (0.3.0)\n",
            "Requirement already satisfied: MarkupSafe>=2.0 in /usr/local/lib/python3.10/dist-packages (from nbconvert>=5->notebook>=4.4.1->widgetsnbextension~=3.6.0->ipywidgets) (2.1.5)\n",
            "Requirement already satisfied: mistune<2,>=0.8.1 in /usr/local/lib/python3.10/dist-packages (from nbconvert>=5->notebook>=4.4.1->widgetsnbextension~=3.6.0->ipywidgets) (0.8.4)\n",
            "Requirement already satisfied: nbclient>=0.5.0 in /usr/local/lib/python3.10/dist-packages (from nbconvert>=5->notebook>=4.4.1->widgetsnbextension~=3.6.0->ipywidgets) (0.10.0)\n",
            "Requirement already satisfied: packaging in /usr/local/lib/python3.10/dist-packages (from nbconvert>=5->notebook>=4.4.1->widgetsnbextension~=3.6.0->ipywidgets) (24.0)\n",
            "Requirement already satisfied: pandocfilters>=1.4.1 in /usr/local/lib/python3.10/dist-packages (from nbconvert>=5->notebook>=4.4.1->widgetsnbextension~=3.6.0->ipywidgets) (1.5.1)\n",
            "Requirement already satisfied: tinycss2 in /usr/local/lib/python3.10/dist-packages (from nbconvert>=5->notebook>=4.4.1->widgetsnbextension~=3.6.0->ipywidgets) (1.2.1)\n",
            "Requirement already satisfied: fastjsonschema in /usr/local/lib/python3.10/dist-packages (from nbformat->notebook>=4.4.1->widgetsnbextension~=3.6.0->ipywidgets) (2.19.1)\n",
            "Requirement already satisfied: jsonschema>=2.6 in /usr/local/lib/python3.10/dist-packages (from nbformat->notebook>=4.4.1->widgetsnbextension~=3.6.0->ipywidgets) (4.19.2)\n",
            "Requirement already satisfied: six>=1.5 in /usr/local/lib/python3.10/dist-packages (from python-dateutil>=2.1->jupyter-client->ipykernel>=4.5.1->ipywidgets) (1.16.0)\n",
            "Requirement already satisfied: argon2-cffi-bindings in /usr/local/lib/python3.10/dist-packages (from argon2-cffi->notebook>=4.4.1->widgetsnbextension~=3.6.0->ipywidgets) (21.2.0)\n",
            "Requirement already satisfied: attrs>=22.2.0 in /usr/local/lib/python3.10/dist-packages (from jsonschema>=2.6->nbformat->notebook>=4.4.1->widgetsnbextension~=3.6.0->ipywidgets) (23.2.0)\n",
            "Requirement already satisfied: jsonschema-specifications>=2023.03.6 in /usr/local/lib/python3.10/dist-packages (from jsonschema>=2.6->nbformat->notebook>=4.4.1->widgetsnbextension~=3.6.0->ipywidgets) (2023.12.1)\n",
            "Requirement already satisfied: referencing>=0.28.4 in /usr/local/lib/python3.10/dist-packages (from jsonschema>=2.6->nbformat->notebook>=4.4.1->widgetsnbextension~=3.6.0->ipywidgets) (0.34.0)\n",
            "Requirement already satisfied: rpds-py>=0.7.1 in /usr/local/lib/python3.10/dist-packages (from jsonschema>=2.6->nbformat->notebook>=4.4.1->widgetsnbextension~=3.6.0->ipywidgets) (0.18.0)\n",
            "Requirement already satisfied: anyio<4,>=3.1.0 in /usr/local/lib/python3.10/dist-packages (from jupyter-server>=1.8->nbclassic>=0.4.7->notebook>=4.4.1->widgetsnbextension~=3.6.0->ipywidgets) (3.7.1)\n",
            "Requirement already satisfied: websocket-client in /usr/local/lib/python3.10/dist-packages (from jupyter-server>=1.8->nbclassic>=0.4.7->notebook>=4.4.1->widgetsnbextension~=3.6.0->ipywidgets) (1.7.0)\n",
            "Requirement already satisfied: cffi>=1.0.1 in /usr/local/lib/python3.10/dist-packages (from argon2-cffi-bindings->argon2-cffi->notebook>=4.4.1->widgetsnbextension~=3.6.0->ipywidgets) (1.16.0)\n",
            "Requirement already satisfied: soupsieve>1.2 in /usr/local/lib/python3.10/dist-packages (from beautifulsoup4->nbconvert>=5->notebook>=4.4.1->widgetsnbextension~=3.6.0->ipywidgets) (2.5)\n",
            "Requirement already satisfied: webencodings in /usr/local/lib/python3.10/dist-packages (from bleach->nbconvert>=5->notebook>=4.4.1->widgetsnbextension~=3.6.0->ipywidgets) (0.5.1)\n",
            "Requirement already satisfied: idna>=2.8 in /usr/local/lib/python3.10/dist-packages (from anyio<4,>=3.1.0->jupyter-server>=1.8->nbclassic>=0.4.7->notebook>=4.4.1->widgetsnbextension~=3.6.0->ipywidgets) (3.6)\n",
            "Requirement already satisfied: sniffio>=1.1 in /usr/local/lib/python3.10/dist-packages (from anyio<4,>=3.1.0->jupyter-server>=1.8->nbclassic>=0.4.7->notebook>=4.4.1->widgetsnbextension~=3.6.0->ipywidgets) (1.3.1)\n",
            "Requirement already satisfied: exceptiongroup in /usr/local/lib/python3.10/dist-packages (from anyio<4,>=3.1.0->jupyter-server>=1.8->nbclassic>=0.4.7->notebook>=4.4.1->widgetsnbextension~=3.6.0->ipywidgets) (1.2.0)\n",
            "Requirement already satisfied: pycparser in /usr/local/lib/python3.10/dist-packages (from cffi>=1.0.1->argon2-cffi-bindings->argon2-cffi->notebook>=4.4.1->widgetsnbextension~=3.6.0->ipywidgets) (2.21)\n"
          ]
        }
      ]
    },
    {
      "cell_type": "code",
      "execution_count": null,
      "metadata": {
        "id": "oglE_xDO6DPe"
      },
      "outputs": [],
      "source": [
        "import gym\n",
        "from gym import logger as gymlogger\n",
        "from gym.wrappers import RecordVideo\n",
        "gymlogger.set_level(40) #error only\n",
        "import tensorflow as tf\n",
        "import numpy as np\n",
        "import random\n",
        "import matplotlib\n",
        "import matplotlib.pyplot as plt\n",
        "%matplotlib inline\n",
        "import math\n",
        "import glob\n",
        "import io\n",
        "import base64\n",
        "from IPython.display import HTML\n",
        "from IPython import display as ipythondisplay\n",
        "from tqdm.notebook import trange\n"
      ]
    },
    {
      "cell_type": "markdown",
      "source": [
        "# Render Video Function\n",
        "---"
      ],
      "metadata": {
        "id": "6819w6hLBHvM"
      }
    },
    {
      "cell_type": "code",
      "source": [
        "def show_video():\n",
        "  mp4list = glob.glob('video/*.mp4')\n",
        "  if len(mp4list) > 0:\n",
        "    mp4 = mp4list[0]\n",
        "    video = io.open(mp4, 'r+b').read()\n",
        "    encoded = base64.b64encode(video)\n",
        "    ipythondisplay.display(HTML(data='''<video alt=\"test\" autoplay\n",
        "                loop controls style=\"height: 400px;\">\n",
        "                <source src=\"data:video/mp4;base64,{0}\" type=\"video/mp4\" />\n",
        "             </video>'''.format(encoded.decode('ascii'))))\n",
        "  else:\n",
        "    print(\"Could not find video\")"
      ],
      "metadata": {
        "id": "2ADx08_pA48S"
      },
      "execution_count": null,
      "outputs": []
    },
    {
      "cell_type": "markdown",
      "source": [
        "# Loading CartPole Environment\n",
        "---"
      ],
      "metadata": {
        "id": "dA-cuaSnA9zE"
      }
    },
    {
      "cell_type": "code",
      "source": [
        "env = gym.make(\"CartPole-v1\")"
      ],
      "metadata": {
        "id": "tfFM0YfZA9Jk"
      },
      "execution_count": null,
      "outputs": []
    },
    {
      "cell_type": "code",
      "source": [
        "#Print our observation space\n",
        "print(\"Observation Space\", env.observation_space)\n",
        "print(\"Sample Observation\", env.observation_space.sample()) #Display a random observation"
      ],
      "metadata": {
        "colab": {
          "base_uri": "https://localhost:8080/"
        },
        "id": "QW5myMibGlv5",
        "outputId": "2a8f4757-428f-408f-ecd8-0ba1d8305389"
      },
      "execution_count": null,
      "outputs": [
        {
          "output_type": "stream",
          "name": "stdout",
          "text": [
            "Observation Space Box([-4.8000002e+00 -3.4028235e+38 -4.1887903e-01 -3.4028235e+38], [4.8000002e+00 3.4028235e+38 4.1887903e-01 3.4028235e+38], (4,), float32)\n",
            "Sample Observation [-2.7142329e+00 -9.3176386e+37  4.4986211e-02 -1.9643822e+38]\n"
          ]
        }
      ]
    },
    {
      "cell_type": "code",
      "source": [
        "#Print action space\n",
        "print(\"Action Space Shape\", env.action_space.n)\n",
        "print(\"Action Space Sample\", env.action_space.sample())"
      ],
      "metadata": {
        "colab": {
          "base_uri": "https://localhost:8080/"
        },
        "id": "D7fw3RxxG1RM",
        "outputId": "0edb9b4d-b565-4f63-db70-6e4a8630d66e"
      },
      "execution_count": null,
      "outputs": [
        {
          "output_type": "stream",
          "name": "stdout",
          "text": [
            "Action Space Shape 2\n",
            "Action Space Sample 1\n"
          ]
        }
      ]
    },
    {
      "cell_type": "markdown",
      "source": [
        "## Initializing Hyperameters\n",
        "---\n"
      ],
      "metadata": {
        "id": "bM1yHzUCaAzE"
      }
    },
    {
      "cell_type": "markdown",
      "source": [
        "Definition of each hyperparameters :\n",
        "1. learning_rate =\n",
        "2. discount =\n",
        "3. epsilon =\n",
        "4. num_episodes =\n",
        "5."
      ],
      "metadata": {
        "id": "aJtPIXb4amuZ"
      }
    },
    {
      "cell_type": "markdown",
      "source": [
        "## Initializing Q-Table\n",
        "---\n",
        "\n"
      ],
      "metadata": {
        "id": "PBvry0bzdPmX"
      }
    },
    {
      "cell_type": "code",
      "source": [
        "#state_space = env.observation_space.shape\n",
        "#print(\"There are \", state_space, \" possible states\")\n",
        "\n",
        "#action_space = env.action_space.n\n",
        "#print(\"There are \", action_space, \" possible actions\")"
      ],
      "metadata": {
        "id": "xybR-BzIHfom"
      },
      "execution_count": null,
      "outputs": []
    },
    {
      "cell_type": "code",
      "source": [
        "#Training parameters\n",
        "learning_rate = 0.2\n",
        "gamma = 0.95\n",
        "num_episodes = 50000\n",
        "\n",
        "#Environment parameters\n",
        "observation_size = [40,40,50,50]\n",
        "np_array_win_size = np.array([0.25, 0.25, 0.05, 0.5])\n",
        "\n",
        "#Exploration parameters\n",
        "max_epsilon = 1.0\n",
        "min_epsilon = 0.05\n",
        "epsilon_decay_rate = 0.0005\n",
        "\n",
        "rewardArr = []"
      ],
      "metadata": {
        "id": "OHlN7oZ_aJBX"
      },
      "execution_count": null,
      "outputs": []
    },
    {
      "cell_type": "code",
      "source": [
        "q_table = np.zeros((observation_size + [env.action_space.n]))\n",
        "q_table.shape"
      ],
      "metadata": {
        "id": "J-i_1f97XAmR",
        "colab": {
          "base_uri": "https://localhost:8080/"
        },
        "outputId": "35f9a299-7d57-4627-bc30-f2edb124750f"
      },
      "execution_count": null,
      "outputs": [
        {
          "output_type": "execute_result",
          "data": {
            "text/plain": [
              "(40, 40, 50, 50, 2)"
            ]
          },
          "metadata": {},
          "execution_count": 237
        }
      ]
    },
    {
      "cell_type": "markdown",
      "source": [
        "## Discretize the state space\n",
        "---"
      ],
      "metadata": {
        "id": "qvaTeXKhde03"
      }
    },
    {
      "cell_type": "code",
      "source": [
        "def discretize_state(state):\n",
        "    discrete_state = state/np_array_win_size + np.array([15,10,1,10])\n",
        "    return tuple(discrete_state.astype(int))"
      ],
      "metadata": {
        "id": "-mHEHpVidxIF"
      },
      "execution_count": null,
      "outputs": []
    },
    {
      "cell_type": "code",
      "source": [
        "print(\"Action Space Shape : \", env.action_space.n)\n",
        "print(\"Observation Space : \", env.observation_space)"
      ],
      "metadata": {
        "colab": {
          "base_uri": "https://localhost:8080/"
        },
        "id": "Sm_JMty7hAST",
        "outputId": "88540869-5d81-4309-ca87-5ab4bed1aa51"
      },
      "execution_count": null,
      "outputs": [
        {
          "output_type": "stream",
          "name": "stdout",
          "text": [
            "Action Space Shape :  2\n",
            "Observation Space :  Box([-4.8000002e+00 -3.4028235e+38 -4.1887903e-01 -3.4028235e+38], [4.8000002e+00 3.4028235e+38 4.1887903e-01 3.4028235e+38], (4,), float32)\n"
          ]
        }
      ]
    },
    {
      "cell_type": "code",
      "source": [
        "#Epsilon greedy policy (acting policy)\n",
        "def epsilon_greedy_policy(q_table, state, epsilon):\n",
        "    random_d = np.random.random()\n",
        "    if(random_d > epsilon):\n",
        "        action = np.argmax(q_table[state])\n",
        "    else:\n",
        "        action = env.action_space.sample()\n",
        "    return action"
      ],
      "metadata": {
        "id": "-cwhOzSbJLc1"
      },
      "execution_count": null,
      "outputs": []
    },
    {
      "cell_type": "markdown",
      "source": [
        "## Task 1 - Training the Agent\n",
        "---\n"
      ],
      "metadata": {
        "id": "TW-mqgt0_pmC"
      }
    },
    {
      "cell_type": "code",
      "source": [
        "hello = env.reset()\n",
        "def train_agent(env, num_episodes, learning_rate, gamma, max_epsilon, epsilon_decay_rate, q_table):\n",
        "  global hello\n",
        "  for episode in trange(num_episodes):\n",
        "    #Calculate the new epsilon\n",
        "    epsilon = min_epsilon + (max_epsilon - min_epsilon) * np.exp(-epsilon_decay_rate * episode)\n",
        "    #Reset the environment\n",
        "    state = env.reset()\n",
        "    #Find out the curr discrete state\n",
        "    curr_discrete_state = discretize_state(state[0])\n",
        "    hello = curr_discrete_state\n",
        "    done = False\n",
        "    #print(q_table[curr_discrete_state])\n",
        "    #Run till all the episodes are complete\n",
        "    while not done:\n",
        "        #Determine our policy based on epsilon greedy\n",
        "        action = epsilon_greedy_policy(q_table, curr_discrete_state, epsilon)\n",
        "\n",
        "        #Take the chosen action and observe the new state\n",
        "        new_state, reward, done, info = env.step(action)\n",
        "        #Find the new discrete state given the new state calculated from action\n",
        "        new_discrete_state = discretize_state(new_state)\n",
        "        #print(q_table[curr_discrete_state])\n",
        "        #Update our q table based on the formula\n",
        "        q_table[curr_discrete_state + (action,)] += learning_rate * (reward + gamma * np.max(q_table[new_discrete_state]) - q_table[curr_discrete_state + (action,)])\n",
        "        #print(q_table[curr_discrete_state + (action,)])\n",
        "        #Setup some rewards\n",
        "        if done:\n",
        "          break\n",
        "\n",
        "        #update the current state to the new state\n",
        "        curr_discrete_state = new_discrete_state\n",
        "\n",
        "  return q_table, curr_discrete_state, new_discrete_state\n"
      ],
      "metadata": {
        "id": "7J4NBfnHoCvB"
      },
      "execution_count": null,
      "outputs": []
    },
    {
      "cell_type": "code",
      "source": [
        "#Train the table\n",
        "q_table_cart, cd, nd = train_agent(env, num_episodes, learning_rate, gamma, max_epsilon, epsilon_decay_rate, q_table)\n",
        "\n",
        "#q_table_cart\n",
        "cd"
      ],
      "metadata": {
        "colab": {
          "base_uri": "https://localhost:8080/",
          "height": 66,
          "referenced_widgets": [
            "9e7b1c3aabad4d8d87e1832a539c8ac2",
            "0e491131e7884521b1b83f1b0d597405",
            "06e784796ab34feabfc8076f918da690",
            "fe0441fef47d4b2b8daaa79be92f04b3",
            "17b2632e74054c46a20ea48d4bdf71e3",
            "dab0069e34384076bfa4f339f5de8350",
            "8b8e166f964840f391398cb39d608398",
            "1934e5dacf454c8d98f1b5ef94729c31",
            "29da1b161c974d9b88c3721b578e7bd3",
            "930e46c5118f40cf948378019c961717",
            "cf8d4e282e1e41fcabe1a68f0602c07f"
          ]
        },
        "id": "VZKXsty3M90S",
        "outputId": "9a39110b-c817-4c55-9964-d1fe005b129d"
      },
      "execution_count": null,
      "outputs": [
        {
          "output_type": "display_data",
          "data": {
            "text/plain": [
              "  0%|          | 0/50000 [00:00<?, ?it/s]"
            ],
            "application/vnd.jupyter.widget-view+json": {
              "version_major": 2,
              "version_minor": 0,
              "model_id": "9e7b1c3aabad4d8d87e1832a539c8ac2"
            }
          },
          "metadata": {}
        },
        {
          "output_type": "execute_result",
          "data": {
            "text/plain": [
              "(16, 4, -3, 9)"
            ]
          },
          "metadata": {},
          "execution_count": 242
        }
      ]
    },
    {
      "cell_type": "code",
      "source": [
        "q_table_cart[(15, 10, -3, 8)]"
      ],
      "metadata": {
        "colab": {
          "base_uri": "https://localhost:8080/"
        },
        "id": "sJxQDMRpT6sC",
        "outputId": "fb5328b6-2d8b-4c20-db13-46b890f965fa"
      },
      "execution_count": null,
      "outputs": [
        {
          "output_type": "execute_result",
          "data": {
            "text/plain": [
              "array([7.30845074, 4.28693444])"
            ]
          },
          "metadata": {},
          "execution_count": 243
        }
      ]
    },
    {
      "cell_type": "code",
      "source": [
        "def count(env, q_table):\n",
        "  counter = 0\n",
        "  while True:\n",
        "    counter += 1\n",
        "    env.render()\n",
        "    #your agent goes here\n",
        "    action = np.argmax(q_table[discrete_state])\n",
        "    new_state, reward, done, info = env.step(action)\n",
        "    discrete_state = discretize_state(new_state)\n",
        "    if done:\n",
        "      break;\n",
        "  return counter"
      ],
      "metadata": {
        "id": "9BIS3jsJikrL"
      },
      "execution_count": null,
      "outputs": []
    },
    {
      "cell_type": "code",
      "source": [
        "env = RecordVideo(gym.make(\"CartPole-v1\", render_mode=\"human\"), \"./video\")\n",
        "observation = env.reset()\n",
        "discrete_state = discretize_state(observation[0])\n",
        "while True:\n",
        "    env.render()\n",
        "    #your agent goes here\n",
        "    action = np.argmax(q_table[discrete_state])\n",
        "    new_state, reward, done, info = env.step(action)\n",
        "    discrete_state = discretize_state(new_state)\n",
        "    if done:\n",
        "      break;\n",
        "    if\n",
        "env.close()\n",
        "show_video()"
      ],
      "metadata": {
        "colab": {
          "base_uri": "https://localhost:8080/",
          "height": 421
        },
        "id": "_CergYBNbGe2",
        "outputId": "793e887e-d380-4c22-8e85-47337424c96c"
      },
      "execution_count": null,
      "outputs": [
        {
          "output_type": "display_data",
          "data": {
            "text/plain": [
              "<IPython.core.display.HTML object>"
            ],
            "text/html": [
              "<video alt=\"test\" autoplay\n",
              "                loop controls style=\"height: 400px;\">\n",
              "                <source src=\"data:video/mp4;base64,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\" type=\"video/mp4\" />\n",
              "             </video>"
            ]
          },
          "metadata": {}
        }
      ]
    },
    {
      "cell_type": "markdown",
      "source": [
        "## Task 2 - Effectiveness of Agent\n",
        "---"
      ],
      "metadata": {
        "id": "88Ev9PEyn6ft"
      }
    },
    {
      "cell_type": "markdown",
      "source": [
        "**Episode End**\n",
        "1. The episode ends if any one of the following occurs:\n",
        "2. Termination: Pole Angle is greater than ±12°\n",
        "3. Termination: Cart Position is greater than ±2.4 (center of the cart reaches the edge of the display)\n",
        "4. Truncation: Episode length is greater than 500.\n"
      ],
      "metadata": {
        "id": "wKJVGnBjmfPk"
      }
    },
    {
      "cell_type": "code",
      "source": [],
      "metadata": {
        "id": "Vq3cFbicn8nD",
        "colab": {
          "base_uri": "https://localhost:8080/"
        },
        "outputId": "95ac9176-be33-402a-8029-15a538cbcdf9"
      },
      "execution_count": null,
      "outputs": [
        {
          "output_type": "stream",
          "name": "stderr",
          "text": [
            "/usr/local/lib/python3.10/dist-packages/ipykernel/ipkernel.py:283: DeprecationWarning: `should_run_async` will not call `transform_cell` automatically in the future. Please pass the result to `transformed_cell` argument and any exception that happen during thetransform in `preprocessing_exc_tuple` in IPython 7.17 and above.\n",
            "  and should_run_async(code)\n"
          ]
        }
      ]
    },
    {
      "cell_type": "code",
      "source": [
        "# def train_agent(env, NUM_EPISODES, LEARNING_RATE, DISCOUNT, max_epsilon, epsilon_decay_rate, q_table):\n",
        "#   total_reward = 0\n",
        "#   rewardsArr = []\n",
        "\n",
        "#   for episode in range(NUM_EPISODES):\n",
        "#     #reset the environment and initialize the state\n",
        "#     discrete_state = discretize_state(env.reset()[0])\n",
        "#     done = False\n",
        "#     episode_reward = 0\n",
        "\n",
        "#     #Run all the episodes until done flag is set to True\n",
        "#     while not done:\n",
        "\n",
        "#         #Using Q-Table, we choose the best action to take for current state\n",
        "#         action = np.argmax(q_table[discrete_state])\n",
        "\n",
        "#         #obtain the new state, reward and done flag after taking the best action\n",
        "#         updated_env = env.step(action)\n",
        "#         updated_state, reward, done = updated_env\n",
        "#         episode_reward += reward\n",
        "\n",
        "#         #We truncate the training if episodes length is greater than 500\n",
        "#         if episode_reward > 500:\n",
        "#           done = True\n",
        "\n",
        "#         #discretize the new state and update discrete_state\n",
        "#         discrete_state = discretize_state(updated_state)\n",
        "\n",
        "#         #if episode is completed, we reset the environment and reinitialize the observation and discrete state\n",
        "#         if done:\n",
        "#           observation = env.reset()\n",
        "#           discrete_state = discretize_state(observation[0])\n",
        "\n",
        "#     rewardsArr.append(episode_reward)\n",
        "\n",
        "#     env.close()\n",
        "#     return q_table, rewardArr\n",
        "\n",
        "# q_table, rewards = train_agent(env, NUM_EPISODES, LEARNING_RATE, DISCOUNT, max_epsilon, epsilon_decay_rate, q_table)"
      ],
      "metadata": {
        "id": "DRyzq_Wj_oA8"
      },
      "execution_count": null,
      "outputs": []
    },
    {
      "cell_type": "code",
      "source": [],
      "metadata": {
        "id": "ZBiMsxcAk_TE"
      },
      "execution_count": null,
      "outputs": []
    }
  ]
}