{
  "cells": [
    {
      "cell_type": "markdown",
      "metadata": {
        "colab_type": "text",
        "id": "view-in-github"
      },
      "source": [
        "<a href=\"https://colab.research.google.com/github/isaacchunn/cartpole-balancing/blob/main/cartpole_balancing.ipynb\" target=\"_parent\"><img src=\"https://colab.research.google.com/assets/colab-badge.svg\" alt=\"Open In Colab\"/></a>"
      ]
    },
    {
      "cell_type": "markdown",
      "metadata": {},
      "source": [
        "# Balancing a Pole on a Cart\n",
        "23S2 SC3000/CZ3005 Assignment 1\n",
        "\n",
        "Team Members:\n",
        "\n",
        "1. Isaac Chun Jun Heng U2221389B\n",
        "2. J'sen Ong Jia Xuan U2220457J\n",
        "3. Marcus Ho Jian Feng"
      ]
    },
    {
      "cell_type": "markdown",
      "metadata": {},
      "source": [
        "### References\n",
        "\n",
        "1. https://github.com/openai/gym/blob/master/gym/envs/classic_control/cartpole.py\n",
        "    - Usage: To understand more about cartpole environment and how rewards are given.\n",
        "\n",
        "2. https://www.youtube.com/watch?v=nOBm4aYEYR4&ab_channel=YannicKilcher\n",
        "    - Usage: Understanding Q Learning fundamentals and how it works / updating q-tables\n",
        "\n",
        "3. https://www.datacamp.com/tutorial/introduction-q-learning-beginner-tutorial\n",
        "    - Usage: Practice Q Learning on Discrete environments such as Frozen Lake and help us setup the base for notebook on what to import and how to render videos and gifs\n"
      ]
    },
    {
      "cell_type": "markdown",
      "metadata": {},
      "source": [
        "### Importing Libraries"
      ]
    },
    {
      "cell_type": "code",
      "execution_count": 16,
      "metadata": {
        "id": "oglE_xDO6DPe"
      },
      "outputs": [],
      "source": [
        "#Gymnasium\n",
        "import gym\n",
        "from gym import logger as gymlogger\n",
        "from gym.wrappers import RecordVideo\n",
        "from gym.error import DependencyNotInstalled\n",
        "gymlogger.set_level(40) #error only\n",
        "#I dont think we use tensorflow though\n",
        "import tensorflow as tf\n",
        "#Graph plotting stuff\n",
        "import numpy as np\n",
        "import matplotlib.pyplot as plt\n",
        "%matplotlib inline\n",
        "#Globals and os for file paths\n",
        "import glob\n",
        "import io\n",
        "import os\n",
        "import base64\n",
        "import math\n",
        "#Python displays\n",
        "from IPython.display import HTML\n",
        "from IPython import display as ipythondisplay\n",
        "#Progress bars to visualize training\n",
        "from tqdm.notebook import trange\n"
      ]
    },
    {
      "cell_type": "code",
      "execution_count": 82,
      "metadata": {},
      "outputs": [
        {
          "data": {
            "text/plain": [
              "True"
            ]
          },
          "execution_count": 82,
          "metadata": {},
          "output_type": "execute_result"
        }
      ],
      "source": [
        "#GPU accelerated notebooks to speed up the training of our agent in case I want to create custom environments and run in parallel\n",
        "import torch\n",
        "torch.cuda.is_available()"
      ]
    },
    {
      "cell_type": "markdown",
      "metadata": {
        "id": "6819w6hLBHvM"
      },
      "source": [
        "### Render Video Function\n",
        "---"
      ]
    },
    {
      "cell_type": "code",
      "execution_count": 83,
      "metadata": {
        "colab": {
          "base_uri": "https://localhost:8080/"
        },
        "id": "2ADx08_pA48S",
        "outputId": "17e86587-32ac-435a-c586-0659106f7c1d"
      },
      "outputs": [],
      "source": [
        "def show_video():\n",
        "  '''\n",
        "  Collects all videos in the /video subfolder and picks the first file in that list to open and display a video.\n",
        "  '''\n",
        "  mp4list = glob.glob('video/*.mp4')\n",
        "  if len(mp4list) > 0:\n",
        "    mp4 = mp4list[0]\n",
        "    video = io.open(mp4, 'r+b').read()\n",
        "    encoded = base64.b64encode(video)\n",
        "    ipythondisplay.display(HTML(data='''<video alt=\"test\" autoplay\n",
        "                loop controls style=\"height: 400px;\">\n",
        "                <source src=\"data:video/mp4;base64,{0}\" type=\"video/mp4\" />\n",
        "             </video>'''.format(encoded.decode('ascii'))))\n",
        "  else:\n",
        "    print(\"Could not find video\")"
      ]
    },
    {
      "cell_type": "markdown",
      "metadata": {
        "id": "dA-cuaSnA9zE"
      },
      "source": [
        "# Loading CartPole Environment\n",
        "---\n",
        "\n",
        "gym reference : https://www.gymlibrary.dev/environments/classic_control/cart_pole/"
      ]
    },
    {
      "cell_type": "code",
      "execution_count": 19,
      "metadata": {
        "id": "tfFM0YfZA9Jk"
      },
      "outputs": [],
      "source": [
        "#Load our cartpole environment based on v1 version\n",
        "env = gym.make(\"CartPole-v1\")"
      ]
    },
    {
      "cell_type": "markdown",
      "metadata": {},
      "source": [
        "The observation space is given below. The first two arrays define the min and max values of the 4 observed values, corresponding to cart position, velocity and pole angle, angular velocity."
      ]
    },
    {
      "cell_type": "code",
      "execution_count": 20,
      "metadata": {},
      "outputs": [
        {
          "name": "stdout",
          "output_type": "stream",
          "text": [
            "Observation Space Box([-4.8000002e+00 -3.4028235e+38 -4.1887903e-01 -3.4028235e+38], [4.8000002e+00 3.4028235e+38 4.1887903e-01 3.4028235e+38], (4,), float32)\n",
            "Sample Observation [ 2.4263921e+00  4.2934418e+37 -2.5099844e-01  1.6049178e+38]\n"
          ]
        }
      ],
      "source": [
        "#Print our observation space\n",
        "print(\"Observation Space\", env.observation_space)\n",
        "print(\"Sample Observation\", env.observation_space.sample()) #Display a random observation"
      ]
    },
    {
      "cell_type": "code",
      "execution_count": 21,
      "metadata": {
        "colab": {
          "base_uri": "https://localhost:8080/"
        },
        "id": "D7fw3RxxG1RM",
        "outputId": "c3dc1839-6b1f-4bc4-e000-1e48fe9c4068"
      },
      "outputs": [
        {
          "name": "stdout",
          "output_type": "stream",
          "text": [
            "Action Space Discrete(2)\n",
            "Action Space Shape 2\n",
            "Action Space Sample 0\n"
          ]
        }
      ],
      "source": [
        "#Print action space\n",
        "print(\"Action Space\", env.action_space)\n",
        "print(\"Action Space Shape\", env.action_space.n)\n",
        "print(\"Action Space Sample\", env.action_space.sample())"
      ]
    },
    {
      "cell_type": "markdown",
      "metadata": {},
      "source": [
        "Our action space is discrete, its either we tell the thing to go left or go right, so our q table should have 2 columns, and for each possible state, it would be a A x B x C x ... x 2"
      ]
    },
    {
      "cell_type": "markdown",
      "metadata": {
        "id": "PBvry0bzdPmX"
      },
      "source": [
        "### Initializing Q-Table\n",
        "---\n",
        "\n"
      ]
    },
    {
      "cell_type": "markdown",
      "metadata": {},
      "source": [
        "Since the space is continuous, we will split the observation space into a set amount of segments to be refined and tested. For each of the continuous variables in the observation space, we will split them into discrete sections.\n",
        "\n",
        "| Num | Observation | Min | Max|\n",
        "|--|--|--|--|\n",
        "| 0 | Cart Position |-4.8| 4.8\n",
        "| 1 | Cart Velocity |-Inf| Inf\n",
        "| 2 | Pole Angle |~ -0.418 rad (-24°)| ~ 0.418 rad (24°)\n",
        "| 3 | Pole Angular Velocity |-Inf| Inf\n",
        "\n",
        "However, even if the observation space has their own min and maxes, the following is noted:\n",
        "\n",
        "1. The cart x-position (index 0) can take values between (-4.8, 4.8), but the episode *terminates* if the cart leaves the (-2.4, 2.4) range.\n",
        "\n",
        "2. The pole angle can be observed between (-.418, .418) radians (or ±24°), but the episode *terminates* if the pole angle is not in the range (-.2095, .2095) (or ±12°)\n",
        "\n",
        "3. For cart velocity and cart angular velocity, there are inf, but we cant divide them infinite into discrete segments, so our range of -4 to 4 is the usual range that the cart goes by printing out the max and min velocity of the cart between episodes."
      ]
    },
    {
      "cell_type": "code",
      "execution_count": 22,
      "metadata": {},
      "outputs": [],
      "source": [
        "#Declare num of segments to split continuous space into\n",
        "num_segments = 10\n",
        "\n",
        "#Converted into a linear space of segments given our requirements\n",
        "pos_space = np.linspace(-2.4, 2.4, num_segments)\n",
        "vel_space = np.linspace(-4, 4, num_segments)\n",
        "ang_space = np.linspace(-0.2095, 0.2095, num_segments)\n",
        "angvel_space = np.linspace(-4, 4, num_segments)\n",
        "\n",
        "def initialize_qtable(pos_space = pos_space, vel_space = vel_space, ang_space = ang_space, av_space = angvel_space, num_segments = num_segments):\n",
        "    #Make our q table which is a 11 x 11 x 11 x 11 x 2 (a very large table that increases exponentially with more segments!) -> +1 due to np.digitize function\n",
        "    Qtable = np.zeros((len(pos_space) + 1, len(vel_space) + 1, len(ang_space) + 1, len(angvel_space) + 1, env.action_space.n))\n",
        "    return Qtable\n",
        "\n",
        "#Make our q table which is a 11 x 11 x 11 x 11 x 2 (a very large table that increases exponentially with more segments!) -> +1 due to np.digitize function\n",
        "q_table_cart = initialize_qtable()"
      ]
    },
    {
      "cell_type": "code",
      "execution_count": 23,
      "metadata": {},
      "outputs": [
        {
          "data": {
            "text/plain": [
              "(11, 11, 11, 11, 2)"
            ]
          },
          "execution_count": 23,
          "metadata": {},
          "output_type": "execute_result"
        }
      ],
      "source": [
        "q_table_cart.shape"
      ]
    },
    {
      "cell_type": "markdown",
      "metadata": {
        "id": "bM1yHzUCaAzE"
      },
      "source": [
        "### Initializing Hyperpameters\n",
        "---\n"
      ]
    },
    {
      "cell_type": "code",
      "execution_count": 47,
      "metadata": {
        "id": "OHlN7oZ_aJBX"
      },
      "outputs": [],
      "source": [
        "#Training parameters\n",
        "learning_rate = 0.1\n",
        "gamma = 0.99\n",
        "num_episodes = 50000\n",
        "\n",
        "#Exploration parameters\n",
        "max_epsilon = 1.0\n",
        "min_epsilon = 0.01\n",
        "epsilon_decay_rate = 0.0001\n",
        "\n",
        "#Other training parameters\n",
        "desired_mean_reward = 480"
      ]
    },
    {
      "cell_type": "code",
      "execution_count": 25,
      "metadata": {},
      "outputs": [],
      "source": [
        "#Other parameters such as episodic steps to print out progress\n",
        "episode_steps = 250"
      ]
    },
    {
      "cell_type": "markdown",
      "metadata": {
        "id": "qvaTeXKhde03"
      },
      "source": [
        "### Declare an epsilon greedy policy\n",
        "---"
      ]
    },
    {
      "cell_type": "code",
      "execution_count": 26,
      "metadata": {
        "id": "-cwhOzSbJLc1"
      },
      "outputs": [],
      "source": [
        "#Epsilon greedy policy (acting policy)\n",
        "#In this case, state is a tuple that is passed in where state holds the following information at this time\n",
        "# state[0] = cart position\n",
        "# state[1] = cart velocity\n",
        "# state[2] = cart angle\n",
        "# state[3] = cart ang velocity\n",
        "def epsilon_greedy_policy(q_table, state, epsilon):\n",
        "    #Random some number\n",
        "    random_d = np.random.random()\n",
        "    #If its above epsilon, then the action is the optimal given this current state with the highest q value\n",
        "    if(random_d > epsilon):\n",
        "        action = np.argmax(q_table[state[0], state[1], state[2], state[3], :])\n",
        "    else:\n",
        "        #Else the action is random to allow exploration\n",
        "        action = env.action_space.sample()\n",
        "    return action"
      ]
    },
    {
      "cell_type": "markdown",
      "metadata": {
        "id": "TW-mqgt0_pmC"
      },
      "source": [
        "## Task 1 - Training the Agent\n",
        "---\n",
        "\n",
        "For training, we will attempt two different strategies to train our agent.\n",
        "\n",
        "1. Episodic Default Training (user defined episode)\n",
        "2. Training till Desired Mean (user defined target mean)\n",
        "\n",
        "For our epsilon decay formula, we will use epsilon = min_epsilon + (max_epsilon - min_epsilon) * np.exp(-epsilon_decay_rate * episode), and exponential curve such it never goes past min epsilon and allows smooth decay for intiial rapid decline and slow as epsilon reaches minimal value for still chances at exploration\n"
      ]
    },
    {
      "cell_type": "markdown",
      "metadata": {},
      "source": [
        "### 1. Episodic Default Training of Agent\n",
        "\n",
        "This approach uses a set amount of episodes based on hyperparameters and trains the agent using epsilon greedy policy and simple updating of the policies. The rewards are used as is to update the qtable"
      ]
    },
    {
      "cell_type": "code",
      "execution_count": 40,
      "metadata": {
        "id": "7J4NBfnHoCvB"
      },
      "outputs": [],
      "source": [
        "#Store an array of zeros for the rewards per episode to keep track for plotting later on\n",
        "reward_per_episode = []\n",
        "def train_agent_default(env, num_episodes, learning_rate, gamma, max_epsilon, epsilon_decay_rate, q_table):\n",
        "  total_reward = 0\n",
        "  #Initialize epsilon to the max\n",
        "  #epsilon = max_epsilon\n",
        "  for episode in trange(num_episodes):\n",
        "    #Calculate the new epsilon using a formula that decreases exponentially through episodes\n",
        "    epsilon = min_epsilon + (max_epsilon - min_epsilon) * np.exp(-epsilon_decay_rate * episode)   \n",
        "    #Reset the environment\n",
        "    state = env.reset()\n",
        "    #Digitize and get the state data\n",
        "    state_pos = np.digitize(state[0], pos_space)\n",
        "    state_vel = np.digitize(state[1], vel_space)\n",
        "    state_ang = np.digitize(state[2], ang_space)\n",
        "    state_angVel = np.digitize(state[3], angvel_space)\n",
        "  \n",
        "    done = False\n",
        "    episode_reward = 0\n",
        "\n",
        "    #Run till all the episodes are complete\n",
        "    while not done:\n",
        "      #Determine our policy based on epsilon greedy\n",
        "      action = epsilon_greedy_policy(q_table, (state_pos, state_vel, state_ang, state_angVel), epsilon)\n",
        "\n",
        "      #Take the chosen action and observe the new state\n",
        "      new_state, reward, done, info = env.step(action)\n",
        "      #Update on the new state stuff\n",
        "      new_state_pos = np.digitize(new_state[0], pos_space)\n",
        "      new_state_vel = np.digitize(new_state[1], vel_space)\n",
        "      new_state_ang = np.digitize(new_state[2], ang_space)\n",
        "      new_state_angVel = np.digitize(new_state[3], angvel_space)\n",
        "      \n",
        "      #Update our q table based on the formula\n",
        "      q_table[state_pos, state_vel, state_ang, state_angVel, action] = q_table[state_pos, state_vel, state_ang, state_angVel, action] + learning_rate * (reward + gamma * np.max(q_table[new_state_pos, new_state_vel, new_state_ang, new_state_angVel, :]) -  q_table[state_pos, state_vel, state_ang, state_angVel, action])\n",
        "      \n",
        "      #update the current state to the new state\n",
        "      state = new_state\n",
        "      state_pos = new_state_pos\n",
        "      state_vel = new_state_vel\n",
        "      state_ang = new_state_ang\n",
        "      state_angVel = new_state_angVel\n",
        "      #Update our rewards for this episode\n",
        "      episode_reward += reward\n",
        "    \n",
        "    #Update our rewards per episode array\n",
        "    reward_per_episode.append(episode_reward)\n",
        "    #Update total reward\n",
        "    total_reward += episode_reward\n",
        "    #Print out progress every X episodes\n",
        "    mean_rewards = np.mean(reward_per_episode[len(reward_per_episode)-episode_steps:])\n",
        "    #Print out the results every \"episode_steps\" -> default value 100\n",
        "    if episode % episode_steps == 0:\n",
        "      print(f'Episode: {episode} Episode Reward: {episode_reward}  Epsilon: {epsilon:0.2f}  Mean Rewards for past {episode_steps} episodes : {mean_rewards:0.1f}')\n",
        "    \n",
        "    #Decreate epsilon by decay rate\n",
        "    #epsilon = max(epsilon - epsilon_decay_rate, 0)\n",
        "  env.close()\n",
        "  return q_table"
      ]
    },
    {
      "cell_type": "code",
      "execution_count": 53,
      "metadata": {
        "colab": {
          "base_uri": "https://localhost:8080/",
          "height": 448,
          "referenced_widgets": [
            "b597fb8db36e4ce7be5e83a950526466",
            "2b9e81127f8f419da62098e6cff7ca88",
            "92ce9a5a22434fd8b0be95e8f22653c3",
            "977ed80f092b45bebe84f520038177cb",
            "cf32df7141fc4119859f3d741cab6f28",
            "004fd3a750ca4f60a0ce0ca8ef3469c8",
            "f24eb274832c457dac17f47afd8d7c41",
            "89410b430787401190190c1ed651539c",
            "0c1494cc69194096bf1c0efa98fbb393",
            "c92ebdbbaf144b8fbbc01d381f4c71f3",
            "9bcc4337b2244541b58eb83653b21cdc"
          ]
        },
        "id": "VZKXsty3M90S",
        "outputId": "9bdcf4e0-8276-49b9-f630-29e9b090ba35"
      },
      "outputs": [
        {
          "data": {
            "application/vnd.jupyter.widget-view+json": {
              "model_id": "c05071e439e34964979f04458fd4a5ea",
              "version_major": 2,
              "version_minor": 0
            },
            "text/plain": [
              "  0%|          | 0/50000 [00:00<?, ?it/s]"
            ]
          },
          "metadata": {},
          "output_type": "display_data"
        },
        {
          "name": "stdout",
          "output_type": "stream",
          "text": [
            "Episode: 0 Episode Reward: 25.0  Epsilon: 1.00  Mean Rewards for past 250 episodes : 297.9\n",
            "Episode: 250 Episode Reward: 36.0  Epsilon: 0.98  Mean Rewards for past 250 episodes : 23.0\n",
            "Episode: 500 Episode Reward: 26.0  Epsilon: 0.95  Mean Rewards for past 250 episodes : 23.9\n",
            "Episode: 750 Episode Reward: 44.0  Epsilon: 0.93  Mean Rewards for past 250 episodes : 22.5\n",
            "Episode: 1000 Episode Reward: 33.0  Epsilon: 0.91  Mean Rewards for past 250 episodes : 24.9\n",
            "Episode: 1250 Episode Reward: 47.0  Epsilon: 0.88  Mean Rewards for past 250 episodes : 26.1\n",
            "Episode: 1500 Episode Reward: 17.0  Epsilon: 0.86  Mean Rewards for past 250 episodes : 26.7\n",
            "Episode: 1750 Episode Reward: 43.0  Epsilon: 0.84  Mean Rewards for past 250 episodes : 28.0\n",
            "Episode: 2000 Episode Reward: 69.0  Epsilon: 0.82  Mean Rewards for past 250 episodes : 30.8\n",
            "Episode: 2250 Episode Reward: 48.0  Epsilon: 0.80  Mean Rewards for past 250 episodes : 31.2\n",
            "Episode: 2500 Episode Reward: 23.0  Epsilon: 0.78  Mean Rewards for past 250 episodes : 33.8\n",
            "Episode: 2750 Episode Reward: 24.0  Epsilon: 0.76  Mean Rewards for past 250 episodes : 35.3\n",
            "Episode: 3000 Episode Reward: 42.0  Epsilon: 0.74  Mean Rewards for past 250 episodes : 38.8\n",
            "Episode: 3250 Episode Reward: 34.0  Epsilon: 0.73  Mean Rewards for past 250 episodes : 37.6\n",
            "Episode: 3500 Episode Reward: 131.0  Epsilon: 0.71  Mean Rewards for past 250 episodes : 41.0\n",
            "Episode: 3750 Episode Reward: 11.0  Epsilon: 0.69  Mean Rewards for past 250 episodes : 40.5\n",
            "Episode: 4000 Episode Reward: 13.0  Epsilon: 0.67  Mean Rewards for past 250 episodes : 43.7\n",
            "Episode: 4250 Episode Reward: 32.0  Epsilon: 0.66  Mean Rewards for past 250 episodes : 44.6\n",
            "Episode: 4500 Episode Reward: 15.0  Epsilon: 0.64  Mean Rewards for past 250 episodes : 48.5\n",
            "Episode: 4750 Episode Reward: 32.0  Epsilon: 0.63  Mean Rewards for past 250 episodes : 47.1\n",
            "Episode: 5000 Episode Reward: 12.0  Epsilon: 0.61  Mean Rewards for past 250 episodes : 53.0\n",
            "Episode: 5250 Episode Reward: 55.0  Epsilon: 0.60  Mean Rewards for past 250 episodes : 58.2\n",
            "Episode: 5500 Episode Reward: 125.0  Epsilon: 0.58  Mean Rewards for past 250 episodes : 63.2\n",
            "Episode: 5750 Episode Reward: 46.0  Epsilon: 0.57  Mean Rewards for past 250 episodes : 60.2\n",
            "Episode: 6000 Episode Reward: 106.0  Epsilon: 0.55  Mean Rewards for past 250 episodes : 67.6\n",
            "Episode: 6250 Episode Reward: 32.0  Epsilon: 0.54  Mean Rewards for past 250 episodes : 66.9\n",
            "Episode: 6500 Episode Reward: 178.0  Epsilon: 0.53  Mean Rewards for past 250 episodes : 65.6\n",
            "Episode: 6750 Episode Reward: 21.0  Epsilon: 0.51  Mean Rewards for past 250 episodes : 70.0\n",
            "Episode: 7000 Episode Reward: 105.0  Epsilon: 0.50  Mean Rewards for past 250 episodes : 73.0\n",
            "Episode: 7250 Episode Reward: 75.0  Epsilon: 0.49  Mean Rewards for past 250 episodes : 79.7\n",
            "Episode: 7500 Episode Reward: 57.0  Epsilon: 0.48  Mean Rewards for past 250 episodes : 78.4\n",
            "Episode: 7750 Episode Reward: 16.0  Epsilon: 0.47  Mean Rewards for past 250 episodes : 79.3\n",
            "Episode: 8000 Episode Reward: 95.0  Epsilon: 0.45  Mean Rewards for past 250 episodes : 89.5\n",
            "Episode: 8250 Episode Reward: 158.0  Epsilon: 0.44  Mean Rewards for past 250 episodes : 85.9\n",
            "Episode: 8500 Episode Reward: 148.0  Epsilon: 0.43  Mean Rewards for past 250 episodes : 86.8\n",
            "Episode: 8750 Episode Reward: 31.0  Epsilon: 0.42  Mean Rewards for past 250 episodes : 91.6\n",
            "Episode: 9000 Episode Reward: 180.0  Epsilon: 0.41  Mean Rewards for past 250 episodes : 98.7\n",
            "Episode: 9250 Episode Reward: 153.0  Epsilon: 0.40  Mean Rewards for past 250 episodes : 101.3\n",
            "Episode: 9500 Episode Reward: 40.0  Epsilon: 0.39  Mean Rewards for past 250 episodes : 104.9\n",
            "Episode: 9750 Episode Reward: 25.0  Epsilon: 0.38  Mean Rewards for past 250 episodes : 110.3\n",
            "Episode: 10000 Episode Reward: 81.0  Epsilon: 0.37  Mean Rewards for past 250 episodes : 124.1\n",
            "Episode: 10250 Episode Reward: 80.0  Epsilon: 0.37  Mean Rewards for past 250 episodes : 121.5\n",
            "Episode: 10500 Episode Reward: 18.0  Epsilon: 0.36  Mean Rewards for past 250 episodes : 122.5\n",
            "Episode: 10750 Episode Reward: 124.0  Epsilon: 0.35  Mean Rewards for past 250 episodes : 124.3\n",
            "Episode: 11000 Episode Reward: 100.0  Epsilon: 0.34  Mean Rewards for past 250 episodes : 133.6\n",
            "Episode: 11250 Episode Reward: 167.0  Epsilon: 0.33  Mean Rewards for past 250 episodes : 140.3\n",
            "Episode: 11500 Episode Reward: 169.0  Epsilon: 0.32  Mean Rewards for past 250 episodes : 143.2\n",
            "Episode: 11750 Episode Reward: 147.0  Epsilon: 0.32  Mean Rewards for past 250 episodes : 142.7\n",
            "Episode: 12000 Episode Reward: 61.0  Epsilon: 0.31  Mean Rewards for past 250 episodes : 151.1\n",
            "Episode: 12250 Episode Reward: 152.0  Epsilon: 0.30  Mean Rewards for past 250 episodes : 143.4\n",
            "Episode: 12500 Episode Reward: 231.0  Epsilon: 0.29  Mean Rewards for past 250 episodes : 163.3\n",
            "Episode: 12750 Episode Reward: 223.0  Epsilon: 0.29  Mean Rewards for past 250 episodes : 162.9\n",
            "Episode: 13000 Episode Reward: 211.0  Epsilon: 0.28  Mean Rewards for past 250 episodes : 159.3\n",
            "Episode: 13250 Episode Reward: 83.0  Epsilon: 0.27  Mean Rewards for past 250 episodes : 177.1\n",
            "Episode: 13500 Episode Reward: 73.0  Epsilon: 0.27  Mean Rewards for past 250 episodes : 182.9\n",
            "Episode: 13750 Episode Reward: 91.0  Epsilon: 0.26  Mean Rewards for past 250 episodes : 206.3\n",
            "Episode: 14000 Episode Reward: 102.0  Epsilon: 0.25  Mean Rewards for past 250 episodes : 196.4\n",
            "Episode: 14250 Episode Reward: 135.0  Epsilon: 0.25  Mean Rewards for past 250 episodes : 202.2\n",
            "Episode: 14500 Episode Reward: 40.0  Epsilon: 0.24  Mean Rewards for past 250 episodes : 168.4\n",
            "Episode: 14750 Episode Reward: 261.0  Epsilon: 0.24  Mean Rewards for past 250 episodes : 193.2\n",
            "Episode: 15000 Episode Reward: 500.0  Epsilon: 0.23  Mean Rewards for past 250 episodes : 190.6\n",
            "Episode: 15250 Episode Reward: 210.0  Epsilon: 0.23  Mean Rewards for past 250 episodes : 232.6\n",
            "Episode: 15500 Episode Reward: 211.0  Epsilon: 0.22  Mean Rewards for past 250 episodes : 241.9\n",
            "Episode: 15750 Episode Reward: 161.0  Epsilon: 0.21  Mean Rewards for past 250 episodes : 226.6\n",
            "Episode: 16000 Episode Reward: 216.0  Epsilon: 0.21  Mean Rewards for past 250 episodes : 203.4\n",
            "Episode: 16250 Episode Reward: 147.0  Epsilon: 0.20  Mean Rewards for past 250 episodes : 206.0\n",
            "Episode: 16500 Episode Reward: 370.0  Epsilon: 0.20  Mean Rewards for past 250 episodes : 184.5\n",
            "Episode: 16750 Episode Reward: 164.0  Epsilon: 0.20  Mean Rewards for past 250 episodes : 230.1\n",
            "Episode: 17000 Episode Reward: 80.0  Epsilon: 0.19  Mean Rewards for past 250 episodes : 221.2\n",
            "Episode: 17250 Episode Reward: 500.0  Epsilon: 0.19  Mean Rewards for past 250 episodes : 224.4\n",
            "Episode: 17500 Episode Reward: 325.0  Epsilon: 0.18  Mean Rewards for past 250 episodes : 214.1\n",
            "Episode: 17750 Episode Reward: 226.0  Epsilon: 0.18  Mean Rewards for past 250 episodes : 208.2\n",
            "Episode: 18000 Episode Reward: 500.0  Epsilon: 0.17  Mean Rewards for past 250 episodes : 253.2\n",
            "Episode: 18250 Episode Reward: 290.0  Epsilon: 0.17  Mean Rewards for past 250 episodes : 242.7\n",
            "Episode: 18500 Episode Reward: 132.0  Epsilon: 0.17  Mean Rewards for past 250 episodes : 261.2\n",
            "Episode: 18750 Episode Reward: 359.0  Epsilon: 0.16  Mean Rewards for past 250 episodes : 297.8\n",
            "Episode: 19000 Episode Reward: 285.0  Epsilon: 0.16  Mean Rewards for past 250 episodes : 256.6\n",
            "Episode: 19250 Episode Reward: 136.0  Epsilon: 0.15  Mean Rewards for past 250 episodes : 268.7\n",
            "Episode: 19500 Episode Reward: 198.0  Epsilon: 0.15  Mean Rewards for past 250 episodes : 253.1\n",
            "Episode: 19750 Episode Reward: 142.0  Epsilon: 0.15  Mean Rewards for past 250 episodes : 271.7\n",
            "Episode: 20000 Episode Reward: 500.0  Epsilon: 0.14  Mean Rewards for past 250 episodes : 234.1\n",
            "Episode: 20250 Episode Reward: 500.0  Epsilon: 0.14  Mean Rewards for past 250 episodes : 241.0\n",
            "Episode: 20500 Episode Reward: 202.0  Epsilon: 0.14  Mean Rewards for past 250 episodes : 265.6\n",
            "Episode: 20750 Episode Reward: 335.0  Epsilon: 0.13  Mean Rewards for past 250 episodes : 284.6\n",
            "Episode: 21000 Episode Reward: 170.0  Epsilon: 0.13  Mean Rewards for past 250 episodes : 296.0\n",
            "Episode: 21250 Episode Reward: 284.0  Epsilon: 0.13  Mean Rewards for past 250 episodes : 325.8\n",
            "Episode: 21500 Episode Reward: 500.0  Epsilon: 0.13  Mean Rewards for past 250 episodes : 310.8\n",
            "Episode: 21750 Episode Reward: 30.0  Epsilon: 0.12  Mean Rewards for past 250 episodes : 263.8\n",
            "Episode: 22000 Episode Reward: 151.0  Epsilon: 0.12  Mean Rewards for past 250 episodes : 303.4\n",
            "Episode: 22250 Episode Reward: 362.0  Epsilon: 0.12  Mean Rewards for past 250 episodes : 340.7\n",
            "Episode: 22500 Episode Reward: 311.0  Epsilon: 0.11  Mean Rewards for past 250 episodes : 313.5\n",
            "Episode: 22750 Episode Reward: 245.0  Epsilon: 0.11  Mean Rewards for past 250 episodes : 312.3\n",
            "Episode: 23000 Episode Reward: 500.0  Epsilon: 0.11  Mean Rewards for past 250 episodes : 332.3\n",
            "Episode: 23250 Episode Reward: 294.0  Epsilon: 0.11  Mean Rewards for past 250 episodes : 354.2\n",
            "Episode: 23500 Episode Reward: 409.0  Epsilon: 0.10  Mean Rewards for past 250 episodes : 365.3\n",
            "Episode: 23750 Episode Reward: 500.0  Epsilon: 0.10  Mean Rewards for past 250 episodes : 360.2\n",
            "Episode: 24000 Episode Reward: 176.0  Epsilon: 0.10  Mean Rewards for past 250 episodes : 349.5\n",
            "Episode: 24250 Episode Reward: 500.0  Epsilon: 0.10  Mean Rewards for past 250 episodes : 400.6\n",
            "Episode: 24500 Episode Reward: 500.0  Epsilon: 0.10  Mean Rewards for past 250 episodes : 343.7\n",
            "Episode: 24750 Episode Reward: 342.0  Epsilon: 0.09  Mean Rewards for past 250 episodes : 361.1\n",
            "Episode: 25000 Episode Reward: 499.0  Epsilon: 0.09  Mean Rewards for past 250 episodes : 355.9\n",
            "Episode: 25250 Episode Reward: 500.0  Epsilon: 0.09  Mean Rewards for past 250 episodes : 372.5\n",
            "Episode: 25500 Episode Reward: 500.0  Epsilon: 0.09  Mean Rewards for past 250 episodes : 316.1\n",
            "Episode: 25750 Episode Reward: 500.0  Epsilon: 0.09  Mean Rewards for past 250 episodes : 328.8\n",
            "Episode: 26000 Episode Reward: 498.0  Epsilon: 0.08  Mean Rewards for past 250 episodes : 331.6\n",
            "Episode: 26250 Episode Reward: 153.0  Epsilon: 0.08  Mean Rewards for past 250 episodes : 324.7\n",
            "Episode: 26500 Episode Reward: 351.0  Epsilon: 0.08  Mean Rewards for past 250 episodes : 288.7\n",
            "Episode: 26750 Episode Reward: 500.0  Epsilon: 0.08  Mean Rewards for past 250 episodes : 371.8\n",
            "Episode: 27000 Episode Reward: 326.0  Epsilon: 0.08  Mean Rewards for past 250 episodes : 368.8\n",
            "Episode: 27250 Episode Reward: 232.0  Epsilon: 0.07  Mean Rewards for past 250 episodes : 287.8\n",
            "Episode: 27500 Episode Reward: 500.0  Epsilon: 0.07  Mean Rewards for past 250 episodes : 389.8\n",
            "Episode: 27750 Episode Reward: 73.0  Epsilon: 0.07  Mean Rewards for past 250 episodes : 360.9\n",
            "Episode: 28000 Episode Reward: 243.0  Epsilon: 0.07  Mean Rewards for past 250 episodes : 329.1\n",
            "Episode: 28250 Episode Reward: 500.0  Epsilon: 0.07  Mean Rewards for past 250 episodes : 345.8\n",
            "Episode: 28500 Episode Reward: 210.0  Epsilon: 0.07  Mean Rewards for past 250 episodes : 327.6\n",
            "Episode: 28750 Episode Reward: 500.0  Epsilon: 0.07  Mean Rewards for past 250 episodes : 357.5\n",
            "Episode: 29000 Episode Reward: 367.0  Epsilon: 0.06  Mean Rewards for past 250 episodes : 310.3\n",
            "Episode: 29250 Episode Reward: 500.0  Epsilon: 0.06  Mean Rewards for past 250 episodes : 285.0\n",
            "Episode: 29500 Episode Reward: 500.0  Epsilon: 0.06  Mean Rewards for past 250 episodes : 261.2\n",
            "Episode: 29750 Episode Reward: 500.0  Epsilon: 0.06  Mean Rewards for past 250 episodes : 434.1\n",
            "Episode: 30000 Episode Reward: 500.0  Epsilon: 0.06  Mean Rewards for past 250 episodes : 467.8\n",
            "Episode: 30250 Episode Reward: 500.0  Epsilon: 0.06  Mean Rewards for past 250 episodes : 351.8\n",
            "Episode: 30500 Episode Reward: 346.0  Epsilon: 0.06  Mean Rewards for past 250 episodes : 316.1\n",
            "Episode: 30750 Episode Reward: 165.0  Epsilon: 0.06  Mean Rewards for past 250 episodes : 279.9\n",
            "Episode: 31000 Episode Reward: 263.0  Epsilon: 0.05  Mean Rewards for past 250 episodes : 257.4\n",
            "Episode: 31250 Episode Reward: 500.0  Epsilon: 0.05  Mean Rewards for past 250 episodes : 354.2\n",
            "Episode: 31500 Episode Reward: 262.0  Epsilon: 0.05  Mean Rewards for past 250 episodes : 331.5\n",
            "Episode: 31750 Episode Reward: 454.0  Epsilon: 0.05  Mean Rewards for past 250 episodes : 296.1\n",
            "Episode: 32000 Episode Reward: 397.0  Epsilon: 0.05  Mean Rewards for past 250 episodes : 261.0\n",
            "Episode: 32250 Episode Reward: 246.0  Epsilon: 0.05  Mean Rewards for past 250 episodes : 355.3\n",
            "Episode: 32500 Episode Reward: 500.0  Epsilon: 0.05  Mean Rewards for past 250 episodes : 350.9\n",
            "Episode: 32750 Episode Reward: 500.0  Epsilon: 0.05  Mean Rewards for past 250 episodes : 452.0\n",
            "Episode: 33000 Episode Reward: 500.0  Epsilon: 0.05  Mean Rewards for past 250 episodes : 337.4\n",
            "Episode: 33250 Episode Reward: 370.0  Epsilon: 0.05  Mean Rewards for past 250 episodes : 406.3\n",
            "Episode: 33500 Episode Reward: 500.0  Epsilon: 0.04  Mean Rewards for past 250 episodes : 390.8\n",
            "Episode: 33750 Episode Reward: 500.0  Epsilon: 0.04  Mean Rewards for past 250 episodes : 439.3\n",
            "Episode: 34000 Episode Reward: 500.0  Epsilon: 0.04  Mean Rewards for past 250 episodes : 443.0\n",
            "Episode: 34250 Episode Reward: 500.0  Epsilon: 0.04  Mean Rewards for past 250 episodes : 447.3\n",
            "Episode: 34500 Episode Reward: 230.0  Epsilon: 0.04  Mean Rewards for past 250 episodes : 440.6\n",
            "Episode: 34750 Episode Reward: 500.0  Epsilon: 0.04  Mean Rewards for past 250 episodes : 327.5\n",
            "Episode: 35000 Episode Reward: 182.0  Epsilon: 0.04  Mean Rewards for past 250 episodes : 343.8\n",
            "Episode: 35250 Episode Reward: 500.0  Epsilon: 0.04  Mean Rewards for past 250 episodes : 357.0\n",
            "Episode: 35500 Episode Reward: 316.0  Epsilon: 0.04  Mean Rewards for past 250 episodes : 291.1\n",
            "Episode: 35750 Episode Reward: 500.0  Epsilon: 0.04  Mean Rewards for past 250 episodes : 344.5\n",
            "Episode: 36000 Episode Reward: 384.0  Epsilon: 0.04  Mean Rewards for past 250 episodes : 319.1\n",
            "Episode: 36250 Episode Reward: 500.0  Epsilon: 0.04  Mean Rewards for past 250 episodes : 351.7\n",
            "Episode: 36500 Episode Reward: 173.0  Epsilon: 0.04  Mean Rewards for past 250 episodes : 250.6\n",
            "Episode: 36750 Episode Reward: 272.0  Epsilon: 0.04  Mean Rewards for past 250 episodes : 286.8\n",
            "Episode: 37000 Episode Reward: 500.0  Epsilon: 0.03  Mean Rewards for past 250 episodes : 301.2\n",
            "Episode: 37250 Episode Reward: 500.0  Epsilon: 0.03  Mean Rewards for past 250 episodes : 435.7\n",
            "Episode: 37500 Episode Reward: 403.0  Epsilon: 0.03  Mean Rewards for past 250 episodes : 445.6\n",
            "Episode: 37750 Episode Reward: 500.0  Epsilon: 0.03  Mean Rewards for past 250 episodes : 435.0\n",
            "Episode: 38000 Episode Reward: 304.0  Epsilon: 0.03  Mean Rewards for past 250 episodes : 354.1\n",
            "Episode: 38250 Episode Reward: 61.0  Epsilon: 0.03  Mean Rewards for past 250 episodes : 283.2\n",
            "Episode: 38500 Episode Reward: 156.0  Epsilon: 0.03  Mean Rewards for past 250 episodes : 297.6\n",
            "Episode: 38750 Episode Reward: 500.0  Epsilon: 0.03  Mean Rewards for past 250 episodes : 303.2\n",
            "Episode: 39000 Episode Reward: 435.0  Epsilon: 0.03  Mean Rewards for past 250 episodes : 285.1\n",
            "Episode: 39250 Episode Reward: 391.0  Epsilon: 0.03  Mean Rewards for past 250 episodes : 299.4\n",
            "Episode: 39500 Episode Reward: 147.0  Epsilon: 0.03  Mean Rewards for past 250 episodes : 285.0\n",
            "Episode: 39750 Episode Reward: 301.0  Epsilon: 0.03  Mean Rewards for past 250 episodes : 254.9\n",
            "Episode: 40000 Episode Reward: 235.0  Epsilon: 0.03  Mean Rewards for past 250 episodes : 263.6\n",
            "Episode: 40250 Episode Reward: 168.0  Epsilon: 0.03  Mean Rewards for past 250 episodes : 219.6\n",
            "Episode: 40500 Episode Reward: 338.0  Epsilon: 0.03  Mean Rewards for past 250 episodes : 248.4\n",
            "Episode: 40750 Episode Reward: 231.0  Epsilon: 0.03  Mean Rewards for past 250 episodes : 258.5\n",
            "Episode: 41000 Episode Reward: 500.0  Epsilon: 0.03  Mean Rewards for past 250 episodes : 314.0\n",
            "Episode: 41250 Episode Reward: 292.0  Epsilon: 0.03  Mean Rewards for past 250 episodes : 313.4\n",
            "Episode: 41500 Episode Reward: 288.0  Epsilon: 0.03  Mean Rewards for past 250 episodes : 307.1\n",
            "Episode: 41750 Episode Reward: 500.0  Epsilon: 0.03  Mean Rewards for past 250 episodes : 301.3\n",
            "Episode: 42000 Episode Reward: 268.0  Epsilon: 0.02  Mean Rewards for past 250 episodes : 351.8\n",
            "Episode: 42250 Episode Reward: 500.0  Epsilon: 0.02  Mean Rewards for past 250 episodes : 304.1\n",
            "Episode: 42500 Episode Reward: 500.0  Epsilon: 0.02  Mean Rewards for past 250 episodes : 470.4\n",
            "Episode: 42750 Episode Reward: 500.0  Epsilon: 0.02  Mean Rewards for past 250 episodes : 497.9\n",
            "Episode: 43000 Episode Reward: 500.0  Epsilon: 0.02  Mean Rewards for past 250 episodes : 477.4\n",
            "Episode: 43250 Episode Reward: 500.0  Epsilon: 0.02  Mean Rewards for past 250 episodes : 440.0\n",
            "Episode: 43500 Episode Reward: 500.0  Epsilon: 0.02  Mean Rewards for past 250 episodes : 373.9\n",
            "Episode: 43750 Episode Reward: 301.0  Epsilon: 0.02  Mean Rewards for past 250 episodes : 453.3\n",
            "Episode: 44000 Episode Reward: 500.0  Epsilon: 0.02  Mean Rewards for past 250 episodes : 372.1\n",
            "Episode: 44250 Episode Reward: 205.0  Epsilon: 0.02  Mean Rewards for past 250 episodes : 292.4\n",
            "Episode: 44500 Episode Reward: 162.0  Epsilon: 0.02  Mean Rewards for past 250 episodes : 272.4\n",
            "Episode: 44750 Episode Reward: 129.0  Epsilon: 0.02  Mean Rewards for past 250 episodes : 234.7\n",
            "Episode: 45000 Episode Reward: 266.0  Epsilon: 0.02  Mean Rewards for past 250 episodes : 233.0\n",
            "Episode: 45250 Episode Reward: 273.0  Epsilon: 0.02  Mean Rewards for past 250 episodes : 276.8\n",
            "Episode: 45500 Episode Reward: 187.0  Epsilon: 0.02  Mean Rewards for past 250 episodes : 408.6\n",
            "Episode: 45750 Episode Reward: 214.0  Epsilon: 0.02  Mean Rewards for past 250 episodes : 423.6\n",
            "Episode: 46000 Episode Reward: 500.0  Epsilon: 0.02  Mean Rewards for past 250 episodes : 336.2\n",
            "Episode: 46250 Episode Reward: 500.0  Epsilon: 0.02  Mean Rewards for past 250 episodes : 495.8\n",
            "Episode: 46500 Episode Reward: 500.0  Epsilon: 0.02  Mean Rewards for past 250 episodes : 452.5\n",
            "Episode: 46750 Episode Reward: 500.0  Epsilon: 0.02  Mean Rewards for past 250 episodes : 497.7\n",
            "Episode: 47000 Episode Reward: 500.0  Epsilon: 0.02  Mean Rewards for past 250 episodes : 499.8\n",
            "Episode: 47250 Episode Reward: 500.0  Epsilon: 0.02  Mean Rewards for past 250 episodes : 496.0\n",
            "Episode: 47500 Episode Reward: 500.0  Epsilon: 0.02  Mean Rewards for past 250 episodes : 433.6\n",
            "Episode: 47750 Episode Reward: 500.0  Epsilon: 0.02  Mean Rewards for past 250 episodes : 459.3\n",
            "Episode: 48000 Episode Reward: 500.0  Epsilon: 0.02  Mean Rewards for past 250 episodes : 475.8\n",
            "Episode: 48250 Episode Reward: 417.0  Epsilon: 0.02  Mean Rewards for past 250 episodes : 496.0\n",
            "Episode: 48500 Episode Reward: 500.0  Epsilon: 0.02  Mean Rewards for past 250 episodes : 492.9\n",
            "Episode: 48750 Episode Reward: 500.0  Epsilon: 0.02  Mean Rewards for past 250 episodes : 494.5\n",
            "Episode: 49000 Episode Reward: 500.0  Epsilon: 0.02  Mean Rewards for past 250 episodes : 417.9\n",
            "Episode: 49250 Episode Reward: 500.0  Epsilon: 0.02  Mean Rewards for past 250 episodes : 495.9\n",
            "Episode: 49500 Episode Reward: 452.0  Epsilon: 0.02  Mean Rewards for past 250 episodes : 481.2\n",
            "Episode: 49750 Episode Reward: 500.0  Epsilon: 0.02  Mean Rewards for past 250 episodes : 498.7\n"
          ]
        }
      ],
      "source": [
        "#Train the table\n",
        "#initialize q_table cart\n",
        "q_table_cart = initialize_qtable()\n",
        "q_table_cart = train_agent_default(env, num_episodes, learning_rate, gamma, max_epsilon, epsilon_decay_rate, q_table_cart)"
      ]
    },
    {
      "cell_type": "code",
      "execution_count": 55,
      "metadata": {},
      "outputs": [
        {
          "data": {
            "text/plain": [
              "[<matplotlib.lines.Line2D at 0x27e0bebefd0>]"
            ]
          },
          "execution_count": 55,
          "metadata": {},
          "output_type": "execute_result"
        },
        {
          "data": {
            "image/png": "[encoded data removed]",
            "text/plain": [
              "<Figure size 500x400 with 1 Axes>"
            ]
          },
          "metadata": {},
          "output_type": "display_data"
        }
      ],
      "source": [
        "mean_rewards = []\n",
        "for t in range(num_episodes):\n",
        "    mean_rewards.append(np.mean(reward_per_episode[max(0, t-100):(t+1)]))\n",
        "\n",
        "plt.figure(figsize = (5,4))\n",
        "plt.xlabel(\"Episodes\")\n",
        "plt.ylabel(\"Mean Reward\")\n",
        "plt.plot(mean_rewards)"
      ]
    },
    {
      "cell_type": "markdown",
      "metadata": {},
      "source": [
        "### 2. Training of Agent till Desired Mean Reward\n",
        "\n",
        "This approach trains the agent until the mean rewards has hit the amount defined in the hyperparameters, and also serves as a guide to approximate how many episodes are needed to achieve a mean reward to help finetune our hyperparameters"
      ]
    },
    {
      "cell_type": "code",
      "execution_count": 30,
      "metadata": {},
      "outputs": [],
      "source": [
        "#Setup some parameters for this type of training\n",
        "reward_per_episode_mean = []\n",
        "def train_agent_to_desired_mean(env, learning_rate, gamma, max_epsilon, epsilon_decay_rate, q_table):\n",
        "  #Starting from episode 1\n",
        "  episode = 0\n",
        "  while True: \n",
        "    #Calculate the new epsilon using a formula that decreases exponentially through episodes\n",
        "    epsilon = min_epsilon + (max_epsilon - min_epsilon) * np.exp(-epsilon_decay_rate * episode)   \n",
        "    #Reset the environment\n",
        "    state = env.reset()\n",
        "    #Digitize and get the state data\n",
        "    state_pos = np.digitize(state[0], pos_space)\n",
        "    state_vel = np.digitize(state[1], vel_space)\n",
        "    state_ang = np.digitize(state[2], ang_space)\n",
        "    state_angVel = np.digitize(state[3], angvel_space)\n",
        "  \n",
        "    done = False\n",
        "    episode_reward = 0\n",
        "\n",
        "    #Run till we have hit our desired episode rewards\n",
        "    while not done:\n",
        "      #Determine our policy based on epsilon greedy\n",
        "      action = epsilon_greedy_policy(q_table, (state_pos, state_vel, state_ang, state_angVel), epsilon)\n",
        "\n",
        "      #Take the chosen action and observe the new state\n",
        "      new_state, reward, done, info = env.step(action)\n",
        "      #Update on the new state stuff\n",
        "      new_state_pos = np.digitize(new_state[0], pos_space)\n",
        "      new_state_vel = np.digitize(new_state[1], vel_space)\n",
        "      new_state_ang = np.digitize(new_state[2], ang_space)\n",
        "      new_state_angVel = np.digitize(new_state[3], angvel_space)\n",
        "\n",
        "      #Update our qtable based on this state\n",
        "      q_table[state_pos, state_vel, state_ang, state_angVel, action] = q_table[state_pos, state_vel, state_ang, state_angVel, action] + learning_rate * (reward + gamma * np.max(q_table[new_state_pos, new_state_vel, new_state_ang, new_state_angVel, :]) -  q_table[state_pos, state_vel, state_ang, state_angVel, action])\n",
        "      \n",
        "      #update the current state to the new state\n",
        "      state = new_state\n",
        "      state_pos = new_state_pos\n",
        "      state_vel = new_state_vel\n",
        "      state_ang = new_state_ang\n",
        "      state_angVel = new_state_angVel\n",
        "      \n",
        "      #Update our rewards for this episode\n",
        "      episode_reward += reward\n",
        "    \n",
        "    #Append this reward into the episode dynamic list\n",
        "    reward_per_episode_mean.append(episode_reward)\n",
        "    #Calculate the mean rewards for the past 100 episodes\n",
        "    mean_rewards = np.mean(reward_per_episode_mean[len(reward_per_episode_mean)-episode_steps:])\n",
        "    #Print out the results every \"episode_steps\" -> default value 100\n",
        "    if episode % episode_steps == 0:\n",
        "      print(f'Episode: {episode} Episode Reward: {episode_reward}  Epsilon: {epsilon:0.2f}  Mean Rewards for past {episode_steps} episodes : {mean_rewards:0.1f}')\n",
        "    \n",
        "    #Break if we have reached our desired mean (set in hyper parameters)\n",
        "    if mean_rewards >= desired_mean_reward:\n",
        "      print(f'Finished at Episode: {episode} Episode Reward: {episode_reward}  Epsilon: {epsilon:0.2f}  Mean Rewards for past {episode_steps} episodes : {mean_rewards:0.1f}')\n",
        "      break\n",
        "\n",
        "    #Increment our episode\n",
        "    episode += 1\n",
        "  env.close()\n",
        "  return q_table\n"
      ]
    },
    {
      "cell_type": "code",
      "execution_count": 31,
      "metadata": {},
      "outputs": [
        {
          "name": "stdout",
          "output_type": "stream",
          "text": [
            "Episode: 0 Episode Reward: 19.0  Epsilon: 1.00  Mean Rewards for past 250 episodes : 19.0\n",
            "Episode: 250 Episode Reward: 16.0  Epsilon: 0.98  Mean Rewards for past 250 episodes : 23.2\n",
            "Episode: 500 Episode Reward: 18.0  Epsilon: 0.95  Mean Rewards for past 250 episodes : 23.9\n",
            "Episode: 750 Episode Reward: 27.0  Epsilon: 0.93  Mean Rewards for past 250 episodes : 26.3\n",
            "Episode: 1000 Episode Reward: 14.0  Epsilon: 0.91  Mean Rewards for past 250 episodes : 26.4\n",
            "Episode: 1250 Episode Reward: 28.0  Epsilon: 0.88  Mean Rewards for past 250 episodes : 25.8\n",
            "Episode: 1500 Episode Reward: 52.0  Epsilon: 0.86  Mean Rewards for past 250 episodes : 27.8\n",
            "Episode: 1750 Episode Reward: 42.0  Epsilon: 0.84  Mean Rewards for past 250 episodes : 29.0\n",
            "Episode: 2000 Episode Reward: 45.0  Epsilon: 0.82  Mean Rewards for past 250 episodes : 32.5\n",
            "Episode: 2250 Episode Reward: 36.0  Epsilon: 0.80  Mean Rewards for past 250 episodes : 32.0\n",
            "Episode: 2500 Episode Reward: 72.0  Epsilon: 0.78  Mean Rewards for past 250 episodes : 35.9\n",
            "Episode: 2750 Episode Reward: 39.0  Epsilon: 0.76  Mean Rewards for past 250 episodes : 40.9\n",
            "Episode: 3000 Episode Reward: 32.0  Epsilon: 0.74  Mean Rewards for past 250 episodes : 38.5\n",
            "Episode: 3250 Episode Reward: 134.0  Epsilon: 0.73  Mean Rewards for past 250 episodes : 41.3\n",
            "Episode: 3500 Episode Reward: 17.0  Epsilon: 0.71  Mean Rewards for past 250 episodes : 42.8\n",
            "Episode: 3750 Episode Reward: 45.0  Epsilon: 0.69  Mean Rewards for past 250 episodes : 51.7\n",
            "Episode: 4000 Episode Reward: 19.0  Epsilon: 0.67  Mean Rewards for past 250 episodes : 49.0\n",
            "Episode: 4250 Episode Reward: 18.0  Epsilon: 0.66  Mean Rewards for past 250 episodes : 55.4\n",
            "Episode: 4500 Episode Reward: 34.0  Epsilon: 0.64  Mean Rewards for past 250 episodes : 57.6\n",
            "Episode: 4750 Episode Reward: 108.0  Epsilon: 0.63  Mean Rewards for past 250 episodes : 67.4\n",
            "Episode: 5000 Episode Reward: 12.0  Epsilon: 0.61  Mean Rewards for past 250 episodes : 64.7\n",
            "Episode: 5250 Episode Reward: 72.0  Epsilon: 0.60  Mean Rewards for past 250 episodes : 72.6\n",
            "Episode: 5500 Episode Reward: 76.0  Epsilon: 0.58  Mean Rewards for past 250 episodes : 72.5\n",
            "Episode: 5750 Episode Reward: 39.0  Epsilon: 0.57  Mean Rewards for past 250 episodes : 75.4\n",
            "Episode: 6000 Episode Reward: 17.0  Epsilon: 0.55  Mean Rewards for past 250 episodes : 84.7\n",
            "Episode: 6250 Episode Reward: 25.0  Epsilon: 0.54  Mean Rewards for past 250 episodes : 98.2\n",
            "Episode: 6500 Episode Reward: 56.0  Epsilon: 0.53  Mean Rewards for past 250 episodes : 88.6\n",
            "Episode: 6750 Episode Reward: 30.0  Epsilon: 0.51  Mean Rewards for past 250 episodes : 97.1\n",
            "Episode: 7000 Episode Reward: 22.0  Epsilon: 0.50  Mean Rewards for past 250 episodes : 98.1\n",
            "Episode: 7250 Episode Reward: 128.0  Epsilon: 0.49  Mean Rewards for past 250 episodes : 104.1\n",
            "Episode: 7500 Episode Reward: 111.0  Epsilon: 0.48  Mean Rewards for past 250 episodes : 122.9\n",
            "Episode: 7750 Episode Reward: 140.0  Epsilon: 0.47  Mean Rewards for past 250 episodes : 128.1\n",
            "Episode: 8000 Episode Reward: 90.0  Epsilon: 0.45  Mean Rewards for past 250 episodes : 128.3\n",
            "Episode: 8250 Episode Reward: 27.0  Epsilon: 0.44  Mean Rewards for past 250 episodes : 136.3\n",
            "Episode: 8500 Episode Reward: 197.0  Epsilon: 0.43  Mean Rewards for past 250 episodes : 131.9\n",
            "Episode: 8750 Episode Reward: 103.0  Epsilon: 0.42  Mean Rewards for past 250 episodes : 146.8\n",
            "Episode: 9000 Episode Reward: 371.0  Epsilon: 0.41  Mean Rewards for past 250 episodes : 150.9\n",
            "Episode: 9250 Episode Reward: 139.0  Epsilon: 0.40  Mean Rewards for past 250 episodes : 160.0\n",
            "Episode: 9500 Episode Reward: 87.0  Epsilon: 0.39  Mean Rewards for past 250 episodes : 158.3\n",
            "Episode: 9750 Episode Reward: 226.0  Epsilon: 0.38  Mean Rewards for past 250 episodes : 165.6\n",
            "Episode: 10000 Episode Reward: 415.0  Epsilon: 0.37  Mean Rewards for past 250 episodes : 179.9\n",
            "Episode: 10250 Episode Reward: 170.0  Epsilon: 0.37  Mean Rewards for past 250 episodes : 182.6\n",
            "Episode: 10500 Episode Reward: 208.0  Epsilon: 0.36  Mean Rewards for past 250 episodes : 170.1\n",
            "Episode: 10750 Episode Reward: 82.0  Epsilon: 0.35  Mean Rewards for past 250 episodes : 183.0\n",
            "Episode: 11000 Episode Reward: 239.0  Epsilon: 0.34  Mean Rewards for past 250 episodes : 210.6\n",
            "Episode: 11250 Episode Reward: 105.0  Epsilon: 0.33  Mean Rewards for past 250 episodes : 173.9\n",
            "Episode: 11500 Episode Reward: 18.0  Epsilon: 0.32  Mean Rewards for past 250 episodes : 219.8\n",
            "Episode: 11750 Episode Reward: 104.0  Epsilon: 0.32  Mean Rewards for past 250 episodes : 225.3\n",
            "Episode: 12000 Episode Reward: 160.0  Epsilon: 0.31  Mean Rewards for past 250 episodes : 230.2\n",
            "Episode: 12250 Episode Reward: 401.0  Epsilon: 0.30  Mean Rewards for past 250 episodes : 220.9\n",
            "Episode: 12500 Episode Reward: 171.0  Epsilon: 0.29  Mean Rewards for past 250 episodes : 200.8\n",
            "Episode: 12750 Episode Reward: 127.0  Epsilon: 0.29  Mean Rewards for past 250 episodes : 237.6\n",
            "Episode: 13000 Episode Reward: 196.0  Epsilon: 0.28  Mean Rewards for past 250 episodes : 231.9\n",
            "Episode: 13250 Episode Reward: 88.0  Epsilon: 0.27  Mean Rewards for past 250 episodes : 239.2\n",
            "Episode: 13500 Episode Reward: 251.0  Epsilon: 0.27  Mean Rewards for past 250 episodes : 238.7\n",
            "Episode: 13750 Episode Reward: 234.0  Epsilon: 0.26  Mean Rewards for past 250 episodes : 244.6\n",
            "Episode: 14000 Episode Reward: 335.0  Epsilon: 0.25  Mean Rewards for past 250 episodes : 253.2\n",
            "Episode: 14250 Episode Reward: 147.0  Epsilon: 0.25  Mean Rewards for past 250 episodes : 275.3\n",
            "Episode: 14500 Episode Reward: 103.0  Epsilon: 0.24  Mean Rewards for past 250 episodes : 265.1\n",
            "Episode: 14750 Episode Reward: 200.0  Epsilon: 0.24  Mean Rewards for past 250 episodes : 267.4\n",
            "Episode: 15000 Episode Reward: 135.0  Epsilon: 0.23  Mean Rewards for past 250 episodes : 228.2\n",
            "Episode: 15250 Episode Reward: 500.0  Epsilon: 0.23  Mean Rewards for past 250 episodes : 236.7\n",
            "Episode: 15500 Episode Reward: 500.0  Epsilon: 0.22  Mean Rewards for past 250 episodes : 282.2\n",
            "Episode: 15750 Episode Reward: 165.0  Epsilon: 0.21  Mean Rewards for past 250 episodes : 281.2\n",
            "Episode: 16000 Episode Reward: 175.0  Epsilon: 0.21  Mean Rewards for past 250 episodes : 301.6\n",
            "Episode: 16250 Episode Reward: 378.0  Epsilon: 0.20  Mean Rewards for past 250 episodes : 278.3\n",
            "Episode: 16500 Episode Reward: 159.0  Epsilon: 0.20  Mean Rewards for past 250 episodes : 299.8\n",
            "Episode: 16750 Episode Reward: 500.0  Epsilon: 0.20  Mean Rewards for past 250 episodes : 269.0\n",
            "Episode: 17000 Episode Reward: 377.0  Epsilon: 0.19  Mean Rewards for past 250 episodes : 307.2\n",
            "Episode: 17250 Episode Reward: 159.0  Epsilon: 0.19  Mean Rewards for past 250 episodes : 294.8\n",
            "Episode: 17500 Episode Reward: 341.0  Epsilon: 0.18  Mean Rewards for past 250 episodes : 232.3\n",
            "Episode: 17750 Episode Reward: 33.0  Epsilon: 0.18  Mean Rewards for past 250 episodes : 319.2\n",
            "Episode: 18000 Episode Reward: 500.0  Epsilon: 0.17  Mean Rewards for past 250 episodes : 327.8\n",
            "Episode: 18250 Episode Reward: 500.0  Epsilon: 0.17  Mean Rewards for past 250 episodes : 325.6\n",
            "Episode: 18500 Episode Reward: 209.0  Epsilon: 0.17  Mean Rewards for past 250 episodes : 311.0\n",
            "Episode: 18750 Episode Reward: 463.0  Epsilon: 0.16  Mean Rewards for past 250 episodes : 276.0\n",
            "Episode: 19000 Episode Reward: 151.0  Epsilon: 0.16  Mean Rewards for past 250 episodes : 271.5\n",
            "Episode: 19250 Episode Reward: 500.0  Epsilon: 0.15  Mean Rewards for past 250 episodes : 275.4\n",
            "Episode: 19500 Episode Reward: 133.0  Epsilon: 0.15  Mean Rewards for past 250 episodes : 286.0\n",
            "Episode: 19750 Episode Reward: 368.0  Epsilon: 0.15  Mean Rewards for past 250 episodes : 290.2\n",
            "Episode: 20000 Episode Reward: 464.0  Epsilon: 0.14  Mean Rewards for past 250 episodes : 348.6\n",
            "Episode: 20250 Episode Reward: 450.0  Epsilon: 0.14  Mean Rewards for past 250 episodes : 366.5\n",
            "Episode: 20500 Episode Reward: 344.0  Epsilon: 0.14  Mean Rewards for past 250 episodes : 380.6\n",
            "Episode: 20750 Episode Reward: 425.0  Epsilon: 0.13  Mean Rewards for past 250 episodes : 348.0\n",
            "Episode: 21000 Episode Reward: 373.0  Epsilon: 0.13  Mean Rewards for past 250 episodes : 312.1\n",
            "Episode: 21250 Episode Reward: 188.0  Epsilon: 0.13  Mean Rewards for past 250 episodes : 376.0\n",
            "Episode: 21500 Episode Reward: 180.0  Epsilon: 0.13  Mean Rewards for past 250 episodes : 256.0\n",
            "Episode: 21750 Episode Reward: 500.0  Epsilon: 0.12  Mean Rewards for past 250 episodes : 263.7\n",
            "Episode: 22000 Episode Reward: 500.0  Epsilon: 0.12  Mean Rewards for past 250 episodes : 324.9\n",
            "Episode: 22250 Episode Reward: 170.0  Epsilon: 0.12  Mean Rewards for past 250 episodes : 360.4\n",
            "Episode: 22500 Episode Reward: 255.0  Epsilon: 0.11  Mean Rewards for past 250 episodes : 336.6\n",
            "Episode: 22750 Episode Reward: 380.0  Epsilon: 0.11  Mean Rewards for past 250 episodes : 307.0\n",
            "Episode: 23000 Episode Reward: 185.0  Epsilon: 0.11  Mean Rewards for past 250 episodes : 328.1\n",
            "Episode: 23250 Episode Reward: 142.0  Epsilon: 0.11  Mean Rewards for past 250 episodes : 326.9\n",
            "Episode: 23500 Episode Reward: 486.0  Epsilon: 0.10  Mean Rewards for past 250 episodes : 358.5\n",
            "Episode: 23750 Episode Reward: 123.0  Epsilon: 0.10  Mean Rewards for past 250 episodes : 330.2\n",
            "Episode: 24000 Episode Reward: 158.0  Epsilon: 0.10  Mean Rewards for past 250 episodes : 329.0\n",
            "Episode: 24250 Episode Reward: 500.0  Epsilon: 0.10  Mean Rewards for past 250 episodes : 418.0\n",
            "Episode: 24500 Episode Reward: 500.0  Epsilon: 0.10  Mean Rewards for past 250 episodes : 476.4\n",
            "Finished at Episode: 24531 Episode Reward: 500.0  Epsilon: 0.10  Mean Rewards for past 250 episodes : 480.9\n"
          ]
        }
      ],
      "source": [
        "#Train the table\n",
        "#initialize q_table cart\n",
        "q_table_cart_mean = initialize_qtable()\n",
        "q_table_cart_mean = train_agent_to_desired_mean(env, learning_rate, gamma, max_epsilon, epsilon_decay_rate, q_table_cart)"
      ]
    },
    {
      "cell_type": "code",
      "execution_count": 48,
      "metadata": {},
      "outputs": [
        {
          "data": {
            "text/plain": [
              "[<matplotlib.lines.Line2D at 0x27e0bf1ba10>]"
            ]
          },
          "execution_count": 48,
          "metadata": {},
          "output_type": "execute_result"
        },
        {
          "data": {
            "image/png": "[encoded data removed]",
            "text/plain": [
              "<Figure size 500x400 with 1 Axes>"
            ]
          },
          "metadata": {},
          "output_type": "display_data"
        }
      ],
      "source": [
        "mean_rewards = []\n",
        "for t in range(len(reward_per_episode_mean)):\n",
        "    mean_rewards.append(np.mean(reward_per_episode_mean[max(0, t-100):(t+1)]))\n",
        "plt.figure(figsize = (5,4))\n",
        "plt.xlabel(\"Episodes\")\n",
        "plt.ylabel(\"Mean Reward\")\n",
        "plt.plot(mean_rewards)"
      ]
    },
    {
      "cell_type": "markdown",
      "metadata": {},
      "source": [
        "### Answer for Task 1 : Sampling random state and outputting chosen action\n",
        "---"
      ]
    },
    {
      "cell_type": "code",
      "execution_count": 80,
      "metadata": {},
      "outputs": [
        {
          "data": {
            "image/png": "[encoded data removed]",
            "text/plain": [
              "<Figure size 640x480 with 1 Axes>"
            ]
          },
          "metadata": {},
          "output_type": "display_data"
        },
        {
          "name": "stdout",
          "output_type": "stream",
          "text": [
            "Observation:  [-0.04204608 -0.00924733 -0.01830408  0.02997212]\n",
            "Chosen action:  0\n"
          ]
        }
      ],
      "source": [
        "#Remake our environment\n",
        "env = gym.make(\"CartPole-v1\")\n",
        "#Reset the environment and get our initial state\n",
        "state = env.reset()\n",
        "\n",
        "#Render the current state \n",
        "img = env.render(mode=\"rgb_array\")\n",
        "#Hide the ticks\n",
        "plt.xticks([])  # Set label locations.\n",
        "plt.yticks([])\n",
        "plt.imshow(img)\n",
        "plt.show()\n",
        "#\n",
        "#Print out the state\n",
        "print(\"Observation: \", state)\n",
        "#Get the discrete values from the state\n",
        "state_pos = np.digitize(state[0], pos_space)\n",
        "state_vel = np.digitize(state[1], vel_space)\n",
        "state_ang = np.digitize(state[2], ang_space)\n",
        "state_angVel = np.digitize(state[3], angvel_space)\n",
        "\n",
        "#Get the action using our q_table calculated\n",
        "action = np.argmax(q_table_cart_mean[state_pos, state_vel, state_ang, state_angVel, :])\n",
        "\n",
        "#Print chosen action\n",
        "print(\"Chosen action: \", action)"
      ]
    },
    {
      "cell_type": "markdown",
      "metadata": {},
      "source": [
        "From the above diagram, the cartpole is slightly bent towards the left, which means the cartpole should move left to balance it, which means our agent is correct in this decision."
      ]
    },
    {
      "cell_type": "markdown",
      "metadata": {
        "id": "88Ev9PEyn6ft"
      },
      "source": [
        "## Task 2 - Effectiveness of Agent\n",
        "---\n",
        "\n",
        "For this task, use the agent developed in Task 1 to play the game for 100 episodes (refer to tutorial for how to play a round), record the cumulative reward for each round, and plot the reward for each round. A sample plotting code is given below. Note that you must include code to play for 100 episodes and use the code to obtain round_results for plotting. DO NOT record the round results in advance and paste the results to the notebook."
      ]
    },
    {
      "cell_type": "markdown",
      "metadata": {
        "id": "wKJVGnBjmfPk"
      },
      "source": [
        "**Episode End**\n",
        "1. The episode ends if any one of the following occurs:\n",
        "2. Termination: Pole Angle is greater than ±12°\n",
        "3. Termination: Cart Position is greater than ±2.4 (center of the cart reaches the edge of the display)\n",
        "4. Truncation: Episode length is greater than 500.\n"
      ]
    },
    {
      "cell_type": "code",
      "execution_count": 94,
      "metadata": {
        "id": "Vq3cFbicn8nD"
      },
      "outputs": [],
      "source": [
        "#Store the rewards stored in each episode\n",
        "def evaluate_agent(env, q_table, n_eval_episodes = 100):\n",
        "  episode_rewards = np.zeros(100)\n",
        "  for episode in trange(n_eval_episodes):\n",
        "    #Reset the environment\n",
        "    state = env.reset()\n",
        "    \n",
        "    #Get each discrete variable\n",
        "    state_pos = np.digitize(state[0], pos_space)\n",
        "    state_vel = np.digitize(state[1], vel_space)\n",
        "    state_ang = np.digitize(state[2], ang_space)\n",
        "    state_angVel = np.digitize(state[3], angvel_space)\n",
        "\n",
        "    done = False\n",
        "    #Store the reward in each episode\n",
        "    episode_reward = 0\n",
        "    \n",
        "    #Run each episode until it ends using our agent\n",
        "    while not done:\n",
        "      #Use our previously calculated q_table to always choose the best action instead of our greedy epsilon for training\n",
        "      action = np.argmax(q_table[state_pos, state_vel, state_ang, state_angVel])\n",
        "      \n",
        "      #Take the chosen action and observe the new state\n",
        "      new_state, reward, done, info = env.step(action)\n",
        "      #Update on the new state stuff\n",
        "      new_state_pos = np.digitize(new_state[0], pos_space)\n",
        "      new_state_vel = np.digitize(new_state[1], vel_space)\n",
        "      new_state_ang = np.digitize(new_state[2], ang_space)\n",
        "      new_state_angVel = np.digitize(new_state[3], angvel_space)\n",
        "      \n",
        "      #Add the reward into our current episode reward\n",
        "      episode_reward += reward\n",
        "      \n",
        "      #Then update our states and previous states\n",
        "      state = new_state\n",
        "      state_pos = new_state_pos\n",
        "      state_vel = new_state_vel\n",
        "      state_ang = new_state_ang\n",
        "      state_angVel = new_state_angVel\n",
        "    \n",
        "  \n",
        "    #Append the reward gotten in this episode into our total reward arrays\n",
        "    episode_rewards[episode] = (episode_reward)\n",
        "\n",
        "  #Calculate the mean and std of our episode rewards array\n",
        "  mean_reward = np.mean(episode_rewards)\n",
        "  std_reward = np.std(episode_rewards)\n",
        "  env.close()\n",
        "  return episode_rewards, mean_reward, std_reward\n"
      ]
    },
    {
      "cell_type": "code",
      "execution_count": 95,
      "metadata": {},
      "outputs": [
        {
          "data": {
            "application/vnd.jupyter.widget-view+json": {
              "model_id": "b097e605641f4d81b31c79be12d87a3d",
              "version_major": 2,
              "version_minor": 0
            },
            "text/plain": [
              "  0%|          | 0/100 [00:00<?, ?it/s]"
            ]
          },
          "metadata": {},
          "output_type": "display_data"
        },
        {
          "name": "stdout",
          "output_type": "stream",
          "text": [
            "Mean_reward=500.00 +/- 0.00\n"
          ]
        }
      ],
      "source": [
        "episode_rewards, mean_reward, std_reward = evaluate_agent(env, q_table_cart_mean)"
      ]
    },
    {
      "cell_type": "code",
      "execution_count": 97,
      "metadata": {},
      "outputs": [
        {
          "name": "stdout",
          "output_type": "stream",
          "text": [
            "Mean_reward=500.00 +/- 0.00\n"
          ]
        }
      ],
      "source": [
        "print(f\"Mean_reward={mean_reward:.2f} +/- {std_reward:.2f}\")\n"
      ]
    },
    {
      "cell_type": "code",
      "execution_count": 96,
      "metadata": {},
      "outputs": [
        {
          "name": "stdout",
          "output_type": "stream",
          "text": [
            "Average cumulative reward: 500.0\n",
            "\n"
          ]
        },
        {
          "data": {
            "image/png": "[encoded data removed]",
            "text/plain": [
              "<Figure size 640x480 with 1 Axes>"
            ]
          },
          "metadata": {},
          "output_type": "display_data"
        }
      ],
      "source": [
        "print(\"Average cumulative reward:\", episode_rewards.mean())\n",
        "print(\"\")\n",
        "plt.title('Cumulative reward for each episode')\n",
        "plt.ylabel('Cumulative reward')\n",
        "plt.xlabel('episode')\n",
        "plt.plot(episode_rewards)\n",
        "plt.show()\n"
      ]
    },
    {
      "cell_type": "markdown",
      "metadata": {},
      "source": [
        "## Task 3 - Render one episode played by the agent\n",
        "---\n",
        "\n"
      ]
    },
    {
      "cell_type": "code",
      "execution_count": 98,
      "metadata": {
        "id": "ZBiMsxcAk_TE"
      },
      "outputs": [
        {
          "name": "stderr",
          "output_type": "stream",
          "text": [
            "C:\\Users\\isaac\\AppData\\Local\\Packages\\PythonSoftwareFoundation.Python.3.11_qbz5n2kfra8p0\\LocalCache\\local-packages\\Python311\\site-packages\\gym\\utils\\passive_env_checker.py:241: DeprecationWarning: `np.bool8` is a deprecated alias for `np.bool_`.  (Deprecated NumPy 1.24)\n",
            "  if not isinstance(terminated, (bool, np.bool8)):\n"
          ]
        },
        {
          "data": {
            "text/html": [
              "<video alt=\"test\" autoplay\n",
              "                loop controls style=\"height: 400px;\">\n",
              "                <source src=\"data:video/mp4;base64,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\" type=\"video/mp4\" />\n",
              "             </video>"
            ],
            "text/plain": [
              "<IPython.core.display.HTML object>"
            ]
          },
          "metadata": {},
          "output_type": "display_data"
        }
      ],
      "source": [
        "env = RecordVideo(gym.make(\"CartPole-v1\"), \"./video\")\n",
        "state = env.reset()\n",
        "state_pos = np.digitize(state[0], pos_space)\n",
        "state_vel = np.digitize(state[1], vel_space)\n",
        "state_ang = np.digitize(state[2], ang_space)\n",
        "state_angVel = np.digitize(state[3], angvel_space)\n",
        "\n",
        "while True:\n",
        "    env.render()\n",
        "    #your agent goes here\n",
        "    action = np.argmax(q_table_cart[state_pos, state_vel, state_ang, state_angVel, :])\n",
        "    new_state, reward, done, info = env.step(action)\n",
        "    new_state_pos = np.digitize(new_state[0], pos_space)\n",
        "    new_state_vel = np.digitize(new_state[1], vel_space)\n",
        "    new_state_ang = np.digitize(new_state[2], ang_space)\n",
        "    new_state_angVel = np.digitize(new_state[3], angvel_space)\n",
        "    if done:\n",
        "      break\n",
        "      \n",
        "    #update the current state to the new state\n",
        "    state = new_state\n",
        "    state_pos = new_state_pos\n",
        "    state_vel = new_state_vel\n",
        "    state_ang = new_state_ang\n",
        "    state_angVel = new_state_angVel\n",
        "env.close()\n",
        "show_video()\n"
      ]
    },
    {
      "cell_type": "code",
      "execution_count": null,
      "metadata": {},
      "outputs": [],
      "source": []
    }
  ],
  "metadata": {
    "accelerator": "GPU",
    "colab": {
      "gpuType": "T4",
      "include_colab_link": true,
      "provenance": []
    },
    "kernelspec": {
      "display_name": "gpu_env",
      "language": "python",
      "name": "python3"
    },
    "language_info": {
      "codemirror_mode": {
        "name": "ipython",
        "version": 3
      },
      "file_extension": ".py",
      "mimetype": "text/x-python",
      "name": "python",
      "nbconvert_exporter": "python",
      "pygments_lexer": "ipython3",
      "version": "3.11.8"
    },
    "widgets": {
      "application/vnd.jupyter.widget-state+json": {
        "004fd3a750ca4f60a0ce0ca8ef3469c8": {
          "model_module": "@jupyter-widgets/base",
          "model_module_version": "1.2.0",
          "model_name": "LayoutModel",
          "state": {
            "_model_module": "@jupyter-widgets/base",
            "_model_module_version": "1.2.0",
            "_model_name": "LayoutModel",
            "_view_count": null,
            "_view_module": "@jupyter-widgets/base",
            "_view_module_version": "1.2.0",
            "_view_name": "LayoutView",
            "align_content": null,
            "align_items": null,
            "align_self": null,
            "border": null,
            "bottom": null,
            "display": null,
            "flex": null,
            "flex_flow": null,
            "grid_area": null,
            "grid_auto_columns": null,
            "grid_auto_flow": null,
            "grid_auto_rows": null,
            "grid_column": null,
            "grid_gap": null,
            "grid_row": null,
            "grid_template_areas": null,
            "grid_template_columns": null,
            "grid_template_rows": null,
            "height": null,
            "justify_content": null,
            "justify_items": null,
            "left": null,
            "margin": null,
            "max_height": null,
            "max_width": null,
            "min_height": null,
            "min_width": null,
            "object_fit": null,
            "object_position": null,
            "order": null,
            "overflow": null,
            "overflow_x": null,
            "overflow_y": null,
            "padding": null,
            "right": null,
            "top": null,
            "visibility": null,
            "width": null
          }
        },
        "0c1494cc69194096bf1c0efa98fbb393": {
          "model_module": "@jupyter-widgets/controls",
          "model_module_version": "1.5.0",
          "model_name": "ProgressStyleModel",
          "state": {
            "_model_module": "@jupyter-widgets/controls",
            "_model_module_version": "1.5.0",
            "_model_name": "ProgressStyleModel",
            "_view_count": null,
            "_view_module": "@jupyter-widgets/base",
            "_view_module_version": "1.2.0",
            "_view_name": "StyleView",
            "bar_color": null,
            "description_width": ""
          }
        },
        "2b9e81127f8f419da62098e6cff7ca88": {
          "model_module": "@jupyter-widgets/controls",
          "model_module_version": "1.5.0",
          "model_name": "HTMLModel",
          "state": {
            "_dom_classes": [],
            "_model_module": "@jupyter-widgets/controls",
            "_model_module_version": "1.5.0",
            "_model_name": "HTMLModel",
            "_view_count": null,
            "_view_module": "@jupyter-widgets/controls",
            "_view_module_version": "1.5.0",
            "_view_name": "HTMLView",
            "description": "",
            "description_tooltip": null,
            "layout": "IPY_MODEL_004fd3a750ca4f60a0ce0ca8ef3469c8",
            "placeholder": "​",
            "style": "IPY_MODEL_f24eb274832c457dac17f47afd8d7c41",
            "value": " 34%"
          }
        },
        "89410b430787401190190c1ed651539c": {
          "model_module": "@jupyter-widgets/base",
          "model_module_version": "1.2.0",
          "model_name": "LayoutModel",
          "state": {
            "_model_module": "@jupyter-widgets/base",
            "_model_module_version": "1.2.0",
            "_model_name": "LayoutModel",
            "_view_count": null,
            "_view_module": "@jupyter-widgets/base",
            "_view_module_version": "1.2.0",
            "_view_name": "LayoutView",
            "align_content": null,
            "align_items": null,
            "align_self": null,
            "border": null,
            "bottom": null,
            "display": null,
            "flex": null,
            "flex_flow": null,
            "grid_area": null,
            "grid_auto_columns": null,
            "grid_auto_flow": null,
            "grid_auto_rows": null,
            "grid_column": null,
            "grid_gap": null,
            "grid_row": null,
            "grid_template_areas": null,
            "grid_template_columns": null,
            "grid_template_rows": null,
            "height": null,
            "justify_content": null,
            "justify_items": null,
            "left": null,
            "margin": null,
            "max_height": null,
            "max_width": null,
            "min_height": null,
            "min_width": null,
            "object_fit": null,
            "object_position": null,
            "order": null,
            "overflow": null,
            "overflow_x": null,
            "overflow_y": null,
            "padding": null,
            "right": null,
            "top": null,
            "visibility": null,
            "width": null
          }
        },
        "92ce9a5a22434fd8b0be95e8f22653c3": {
          "model_module": "@jupyter-widgets/controls",
          "model_module_version": "1.5.0",
          "model_name": "FloatProgressModel",
          "state": {
            "_dom_classes": [],
            "_model_module": "@jupyter-widgets/controls",
            "_model_module_version": "1.5.0",
            "_model_name": "FloatProgressModel",
            "_view_count": null,
            "_view_module": "@jupyter-widgets/controls",
            "_view_module_version": "1.5.0",
            "_view_name": "ProgressView",
            "bar_style": "",
            "description": "",
            "description_tooltip": null,
            "layout": "IPY_MODEL_89410b430787401190190c1ed651539c",
            "max": 50000,
            "min": 0,
            "orientation": "horizontal",
            "style": "IPY_MODEL_0c1494cc69194096bf1c0efa98fbb393",
            "value": 16912
          }
        },
        "977ed80f092b45bebe84f520038177cb": {
          "model_module": "@jupyter-widgets/controls",
          "model_module_version": "1.5.0",
          "model_name": "HTMLModel",
          "state": {
            "_dom_classes": [],
            "_model_module": "@jupyter-widgets/controls",
            "_model_module_version": "1.5.0",
            "_model_name": "HTMLModel",
            "_view_count": null,
            "_view_module": "@jupyter-widgets/controls",
            "_view_module_version": "1.5.0",
            "_view_name": "HTMLView",
            "description": "",
            "description_tooltip": null,
            "layout": "IPY_MODEL_c92ebdbbaf144b8fbbc01d381f4c71f3",
            "placeholder": "​",
            "style": "IPY_MODEL_9bcc4337b2244541b58eb83653b21cdc",
            "value": " 16912/50000 [01:37&lt;04:20, 126.97it/s]"
          }
        },
        "9bcc4337b2244541b58eb83653b21cdc": {
          "model_module": "@jupyter-widgets/controls",
          "model_module_version": "1.5.0",
          "model_name": "DescriptionStyleModel",
          "state": {
            "_model_module": "@jupyter-widgets/controls",
            "_model_module_version": "1.5.0",
            "_model_name": "DescriptionStyleModel",
            "_view_count": null,
            "_view_module": "@jupyter-widgets/base",
            "_view_module_version": "1.2.0",
            "_view_name": "StyleView",
            "description_width": ""
          }
        },
        "b597fb8db36e4ce7be5e83a950526466": {
          "model_module": "@jupyter-widgets/controls",
          "model_module_version": "1.5.0",
          "model_name": "HBoxModel",
          "state": {
            "_dom_classes": [],
            "_model_module": "@jupyter-widgets/controls",
            "_model_module_version": "1.5.0",
            "_model_name": "HBoxModel",
            "_view_count": null,
            "_view_module": "@jupyter-widgets/controls",
            "_view_module_version": "1.5.0",
            "_view_name": "HBoxView",
            "box_style": "",
            "children": [
              "IPY_MODEL_2b9e81127f8f419da62098e6cff7ca88",
              "IPY_MODEL_92ce9a5a22434fd8b0be95e8f22653c3",
              "IPY_MODEL_977ed80f092b45bebe84f520038177cb"
            ],
            "layout": "IPY_MODEL_cf32df7141fc4119859f3d741cab6f28"
          }
        },
        "c92ebdbbaf144b8fbbc01d381f4c71f3": {
          "model_module": "@jupyter-widgets/base",
          "model_module_version": "1.2.0",
          "model_name": "LayoutModel",
          "state": {
            "_model_module": "@jupyter-widgets/base",
            "_model_module_version": "1.2.0",
            "_model_name": "LayoutModel",
            "_view_count": null,
            "_view_module": "@jupyter-widgets/base",
            "_view_module_version": "1.2.0",
            "_view_name": "LayoutView",
            "align_content": null,
            "align_items": null,
            "align_self": null,
            "border": null,
            "bottom": null,
            "display": null,
            "flex": null,
            "flex_flow": null,
            "grid_area": null,
            "grid_auto_columns": null,
            "grid_auto_flow": null,
            "grid_auto_rows": null,
            "grid_column": null,
            "grid_gap": null,
            "grid_row": null,
            "grid_template_areas": null,
            "grid_template_columns": null,
            "grid_template_rows": null,
            "height": null,
            "justify_content": null,
            "justify_items": null,
            "left": null,
            "margin": null,
            "max_height": null,
            "max_width": null,
            "min_height": null,
            "min_width": null,
            "object_fit": null,
            "object_position": null,
            "order": null,
            "overflow": null,
            "overflow_x": null,
            "overflow_y": null,
            "padding": null,
            "right": null,
            "top": null,
            "visibility": null,
            "width": null
          }
        },
        "cf32df7141fc4119859f3d741cab6f28": {
          "model_module": "@jupyter-widgets/base",
          "model_module_version": "1.2.0",
          "model_name": "LayoutModel",
          "state": {
            "_model_module": "@jupyter-widgets/base",
            "_model_module_version": "1.2.0",
            "_model_name": "LayoutModel",
            "_view_count": null,
            "_view_module": "@jupyter-widgets/base",
            "_view_module_version": "1.2.0",
            "_view_name": "LayoutView",
            "align_content": null,
            "align_items": null,
            "align_self": null,
            "border": null,
            "bottom": null,
            "display": null,
            "flex": null,
            "flex_flow": null,
            "grid_area": null,
            "grid_auto_columns": null,
            "grid_auto_flow": null,
            "grid_auto_rows": null,
            "grid_column": null,
            "grid_gap": null,
            "grid_row": null,
            "grid_template_areas": null,
            "grid_template_columns": null,
            "grid_template_rows": null,
            "height": null,
            "justify_content": null,
            "justify_items": null,
            "left": null,
            "margin": null,
            "max_height": null,
            "max_width": null,
            "min_height": null,
            "min_width": null,
            "object_fit": null,
            "object_position": null,
            "order": null,
            "overflow": null,
            "overflow_x": null,
            "overflow_y": null,
            "padding": null,
            "right": null,
            "top": null,
            "visibility": null,
            "width": null
          }
        },
        "f24eb274832c457dac17f47afd8d7c41": {
          "model_module": "@jupyter-widgets/controls",
          "model_module_version": "1.5.0",
          "model_name": "DescriptionStyleModel",
          "state": {
            "_model_module": "@jupyter-widgets/controls",
            "_model_module_version": "1.5.0",
            "_model_name": "DescriptionStyleModel",
            "_view_count": null,
            "_view_module": "@jupyter-widgets/base",
            "_view_module_version": "1.2.0",
            "_view_name": "StyleView",
            "description_width": ""
          }
        }
      }
    }
  },
  "nbformat": 4,
  "nbformat_minor": 0
}
