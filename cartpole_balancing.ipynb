{
  "nbformat": 4,
  "nbformat_minor": 0,
  "metadata": {
    "colab": {
      "provenance": [],
      "gpuType": "T4",
      "include_colab_link": true
    },
    "kernelspec": {
      "name": "python3",
      "display_name": "Python 3"
    },
    "language_info": {
      "name": "python"
    },
    "accelerator": "GPU",
    "widgets": {
      "application/vnd.jupyter.widget-state+json": {
        "b597fb8db36e4ce7be5e83a950526466": {
          "model_module": "@jupyter-widgets/controls",
          "model_name": "HBoxModel",
          "model_module_version": "1.5.0",
          "state": {
            "_dom_classes": [],
            "_model_module": "@jupyter-widgets/controls",
            "_model_module_version": "1.5.0",
            "_model_name": "HBoxModel",
            "_view_count": null,
            "_view_module": "@jupyter-widgets/controls",
            "_view_module_version": "1.5.0",
            "_view_name": "HBoxView",
            "box_style": "",
            "children": [
              "IPY_MODEL_2b9e81127f8f419da62098e6cff7ca88",
              "IPY_MODEL_92ce9a5a22434fd8b0be95e8f22653c3",
              "IPY_MODEL_977ed80f092b45bebe84f520038177cb"
            ],
            "layout": "IPY_MODEL_cf32df7141fc4119859f3d741cab6f28"
          }
        },
        "2b9e81127f8f419da62098e6cff7ca88": {
          "model_module": "@jupyter-widgets/controls",
          "model_name": "HTMLModel",
          "model_module_version": "1.5.0",
          "state": {
            "_dom_classes": [],
            "_model_module": "@jupyter-widgets/controls",
            "_model_module_version": "1.5.0",
            "_model_name": "HTMLModel",
            "_view_count": null,
            "_view_module": "@jupyter-widgets/controls",
            "_view_module_version": "1.5.0",
            "_view_name": "HTMLView",
            "description": "",
            "description_tooltip": null,
            "layout": "IPY_MODEL_004fd3a750ca4f60a0ce0ca8ef3469c8",
            "placeholder": "​",
            "style": "IPY_MODEL_f24eb274832c457dac17f47afd8d7c41",
            "value": " 34%"
          }
        },
        "92ce9a5a22434fd8b0be95e8f22653c3": {
          "model_module": "@jupyter-widgets/controls",
          "model_name": "FloatProgressModel",
          "model_module_version": "1.5.0",
          "state": {
            "_dom_classes": [],
            "_model_module": "@jupyter-widgets/controls",
            "_model_module_version": "1.5.0",
            "_model_name": "FloatProgressModel",
            "_view_count": null,
            "_view_module": "@jupyter-widgets/controls",
            "_view_module_version": "1.5.0",
            "_view_name": "ProgressView",
            "bar_style": "",
            "description": "",
            "description_tooltip": null,
            "layout": "IPY_MODEL_89410b430787401190190c1ed651539c",
            "max": 50000,
            "min": 0,
            "orientation": "horizontal",
            "style": "IPY_MODEL_0c1494cc69194096bf1c0efa98fbb393",
            "value": 16912
          }
        },
        "977ed80f092b45bebe84f520038177cb": {
          "model_module": "@jupyter-widgets/controls",
          "model_name": "HTMLModel",
          "model_module_version": "1.5.0",
          "state": {
            "_dom_classes": [],
            "_model_module": "@jupyter-widgets/controls",
            "_model_module_version": "1.5.0",
            "_model_name": "HTMLModel",
            "_view_count": null,
            "_view_module": "@jupyter-widgets/controls",
            "_view_module_version": "1.5.0",
            "_view_name": "HTMLView",
            "description": "",
            "description_tooltip": null,
            "layout": "IPY_MODEL_c92ebdbbaf144b8fbbc01d381f4c71f3",
            "placeholder": "​",
            "style": "IPY_MODEL_9bcc4337b2244541b58eb83653b21cdc",
            "value": " 16912/50000 [01:37&lt;04:20, 126.97it/s]"
          }
        },
        "cf32df7141fc4119859f3d741cab6f28": {
          "model_module": "@jupyter-widgets/base",
          "model_name": "LayoutModel",
          "model_module_version": "1.2.0",
          "state": {
            "_model_module": "@jupyter-widgets/base",
            "_model_module_version": "1.2.0",
            "_model_name": "LayoutModel",
            "_view_count": null,
            "_view_module": "@jupyter-widgets/base",
            "_view_module_version": "1.2.0",
            "_view_name": "LayoutView",
            "align_content": null,
            "align_items": null,
            "align_self": null,
            "border": null,
            "bottom": null,
            "display": null,
            "flex": null,
            "flex_flow": null,
            "grid_area": null,
            "grid_auto_columns": null,
            "grid_auto_flow": null,
            "grid_auto_rows": null,
            "grid_column": null,
            "grid_gap": null,
            "grid_row": null,
            "grid_template_areas": null,
            "grid_template_columns": null,
            "grid_template_rows": null,
            "height": null,
            "justify_content": null,
            "justify_items": null,
            "left": null,
            "margin": null,
            "max_height": null,
            "max_width": null,
            "min_height": null,
            "min_width": null,
            "object_fit": null,
            "object_position": null,
            "order": null,
            "overflow": null,
            "overflow_x": null,
            "overflow_y": null,
            "padding": null,
            "right": null,
            "top": null,
            "visibility": null,
            "width": null
          }
        },
        "004fd3a750ca4f60a0ce0ca8ef3469c8": {
          "model_module": "@jupyter-widgets/base",
          "model_name": "LayoutModel",
          "model_module_version": "1.2.0",
          "state": {
            "_model_module": "@jupyter-widgets/base",
            "_model_module_version": "1.2.0",
            "_model_name": "LayoutModel",
            "_view_count": null,
            "_view_module": "@jupyter-widgets/base",
            "_view_module_version": "1.2.0",
            "_view_name": "LayoutView",
            "align_content": null,
            "align_items": null,
            "align_self": null,
            "border": null,
            "bottom": null,
            "display": null,
            "flex": null,
            "flex_flow": null,
            "grid_area": null,
            "grid_auto_columns": null,
            "grid_auto_flow": null,
            "grid_auto_rows": null,
            "grid_column": null,
            "grid_gap": null,
            "grid_row": null,
            "grid_template_areas": null,
            "grid_template_columns": null,
            "grid_template_rows": null,
            "height": null,
            "justify_content": null,
            "justify_items": null,
            "left": null,
            "margin": null,
            "max_height": null,
            "max_width": null,
            "min_height": null,
            "min_width": null,
            "object_fit": null,
            "object_position": null,
            "order": null,
            "overflow": null,
            "overflow_x": null,
            "overflow_y": null,
            "padding": null,
            "right": null,
            "top": null,
            "visibility": null,
            "width": null
          }
        },
        "f24eb274832c457dac17f47afd8d7c41": {
          "model_module": "@jupyter-widgets/controls",
          "model_name": "DescriptionStyleModel",
          "model_module_version": "1.5.0",
          "state": {
            "_model_module": "@jupyter-widgets/controls",
            "_model_module_version": "1.5.0",
            "_model_name": "DescriptionStyleModel",
            "_view_count": null,
            "_view_module": "@jupyter-widgets/base",
            "_view_module_version": "1.2.0",
            "_view_name": "StyleView",
            "description_width": ""
          }
        },
        "89410b430787401190190c1ed651539c": {
          "model_module": "@jupyter-widgets/base",
          "model_name": "LayoutModel",
          "model_module_version": "1.2.0",
          "state": {
            "_model_module": "@jupyter-widgets/base",
            "_model_module_version": "1.2.0",
            "_model_name": "LayoutModel",
            "_view_count": null,
            "_view_module": "@jupyter-widgets/base",
            "_view_module_version": "1.2.0",
            "_view_name": "LayoutView",
            "align_content": null,
            "align_items": null,
            "align_self": null,
            "border": null,
            "bottom": null,
            "display": null,
            "flex": null,
            "flex_flow": null,
            "grid_area": null,
            "grid_auto_columns": null,
            "grid_auto_flow": null,
            "grid_auto_rows": null,
            "grid_column": null,
            "grid_gap": null,
            "grid_row": null,
            "grid_template_areas": null,
            "grid_template_columns": null,
            "grid_template_rows": null,
            "height": null,
            "justify_content": null,
            "justify_items": null,
            "left": null,
            "margin": null,
            "max_height": null,
            "max_width": null,
            "min_height": null,
            "min_width": null,
            "object_fit": null,
            "object_position": null,
            "order": null,
            "overflow": null,
            "overflow_x": null,
            "overflow_y": null,
            "padding": null,
            "right": null,
            "top": null,
            "visibility": null,
            "width": null
          }
        },
        "0c1494cc69194096bf1c0efa98fbb393": {
          "model_module": "@jupyter-widgets/controls",
          "model_name": "ProgressStyleModel",
          "model_module_version": "1.5.0",
          "state": {
            "_model_module": "@jupyter-widgets/controls",
            "_model_module_version": "1.5.0",
            "_model_name": "ProgressStyleModel",
            "_view_count": null,
            "_view_module": "@jupyter-widgets/base",
            "_view_module_version": "1.2.0",
            "_view_name": "StyleView",
            "bar_color": null,
            "description_width": ""
          }
        },
        "c92ebdbbaf144b8fbbc01d381f4c71f3": {
          "model_module": "@jupyter-widgets/base",
          "model_name": "LayoutModel",
          "model_module_version": "1.2.0",
          "state": {
            "_model_module": "@jupyter-widgets/base",
            "_model_module_version": "1.2.0",
            "_model_name": "LayoutModel",
            "_view_count": null,
            "_view_module": "@jupyter-widgets/base",
            "_view_module_version": "1.2.0",
            "_view_name": "LayoutView",
            "align_content": null,
            "align_items": null,
            "align_self": null,
            "border": null,
            "bottom": null,
            "display": null,
            "flex": null,
            "flex_flow": null,
            "grid_area": null,
            "grid_auto_columns": null,
            "grid_auto_flow": null,
            "grid_auto_rows": null,
            "grid_column": null,
            "grid_gap": null,
            "grid_row": null,
            "grid_template_areas": null,
            "grid_template_columns": null,
            "grid_template_rows": null,
            "height": null,
            "justify_content": null,
            "justify_items": null,
            "left": null,
            "margin": null,
            "max_height": null,
            "max_width": null,
            "min_height": null,
            "min_width": null,
            "object_fit": null,
            "object_position": null,
            "order": null,
            "overflow": null,
            "overflow_x": null,
            "overflow_y": null,
            "padding": null,
            "right": null,
            "top": null,
            "visibility": null,
            "width": null
          }
        },
        "9bcc4337b2244541b58eb83653b21cdc": {
          "model_module": "@jupyter-widgets/controls",
          "model_name": "DescriptionStyleModel",
          "model_module_version": "1.5.0",
          "state": {
            "_model_module": "@jupyter-widgets/controls",
            "_model_module_version": "1.5.0",
            "_model_name": "DescriptionStyleModel",
            "_view_count": null,
            "_view_module": "@jupyter-widgets/base",
            "_view_module_version": "1.2.0",
            "_view_name": "StyleView",
            "description_width": ""
          }
        }
      }
    }
  },
  "cells": [
    {
      "cell_type": "markdown",
      "metadata": {
        "id": "view-in-github",
        "colab_type": "text"
      },
      "source": [
        "<a href=\"https://colab.research.google.com/github/isaacchunn/cartpole-balancing/blob/main/cartpole_balancing.ipynb\" target=\"_parent\"><img src=\"https://colab.research.google.com/assets/colab-badge.svg\" alt=\"Open In Colab\"/></a>"
      ]
    },
    {
      "cell_type": "code",
      "source": [
        "# Import progress bar and other dependencies\n",
        "!pip install tqdm\n",
        "!pip3 install ipywidgets --user"
      ],
      "metadata": {
        "colab": {
          "base_uri": "https://localhost:8080/"
        },
        "id": "9KgDkjOsGCLQ",
        "outputId": "8dea0847-c958-452b-a24f-183c36c27e32"
      },
      "execution_count": 1,
      "outputs": [
        {
          "output_type": "stream",
          "name": "stdout",
          "text": [
            "Requirement already satisfied: tqdm in /usr/local/lib/python3.10/dist-packages (4.66.2)\n",
            "Requirement already satisfied: ipywidgets in /usr/local/lib/python3.10/dist-packages (7.7.1)\n",
            "Requirement already satisfied: ipykernel>=4.5.1 in /usr/local/lib/python3.10/dist-packages (from ipywidgets) (5.5.6)\n",
            "Requirement already satisfied: ipython-genutils~=0.2.0 in /usr/local/lib/python3.10/dist-packages (from ipywidgets) (0.2.0)\n",
            "Requirement already satisfied: traitlets>=4.3.1 in /usr/local/lib/python3.10/dist-packages (from ipywidgets) (5.7.1)\n",
            "Requirement already satisfied: widgetsnbextension~=3.6.0 in /usr/local/lib/python3.10/dist-packages (from ipywidgets) (3.6.6)\n",
            "Requirement already satisfied: ipython>=4.0.0 in /usr/local/lib/python3.10/dist-packages (from ipywidgets) (7.34.0)\n",
            "Requirement already satisfied: jupyterlab-widgets>=1.0.0 in /usr/local/lib/python3.10/dist-packages (from ipywidgets) (3.0.10)\n",
            "Requirement already satisfied: jupyter-client in /usr/local/lib/python3.10/dist-packages (from ipykernel>=4.5.1->ipywidgets) (6.1.12)\n",
            "Requirement already satisfied: tornado>=4.2 in /usr/local/lib/python3.10/dist-packages (from ipykernel>=4.5.1->ipywidgets) (6.3.3)\n",
            "Requirement already satisfied: setuptools>=18.5 in /usr/local/lib/python3.10/dist-packages (from ipython>=4.0.0->ipywidgets) (67.7.2)\n",
            "Collecting jedi>=0.16 (from ipython>=4.0.0->ipywidgets)\n",
            "  Downloading jedi-0.19.1-py2.py3-none-any.whl (1.6 MB)\n",
            "\u001b[2K     \u001b[90m━━━━━━━━━━━━━━━━━━━━━━━━━━━━━━━━━━━━━━━━\u001b[0m \u001b[32m1.6/1.6 MB\u001b[0m \u001b[31m5.5 MB/s\u001b[0m eta \u001b[36m0:00:00\u001b[0m\n",
            "\u001b[?25hRequirement already satisfied: decorator in /usr/local/lib/python3.10/dist-packages (from ipython>=4.0.0->ipywidgets) (4.4.2)\n",
            "Requirement already satisfied: pickleshare in /usr/local/lib/python3.10/dist-packages (from ipython>=4.0.0->ipywidgets) (0.7.5)\n",
            "Requirement already satisfied: prompt-toolkit!=3.0.0,!=3.0.1,<3.1.0,>=2.0.0 in /usr/local/lib/python3.10/dist-packages (from ipython>=4.0.0->ipywidgets) (3.0.43)\n",
            "Requirement already satisfied: pygments in /usr/local/lib/python3.10/dist-packages (from ipython>=4.0.0->ipywidgets) (2.16.1)\n",
            "Requirement already satisfied: backcall in /usr/local/lib/python3.10/dist-packages (from ipython>=4.0.0->ipywidgets) (0.2.0)\n",
            "Requirement already satisfied: matplotlib-inline in /usr/local/lib/python3.10/dist-packages (from ipython>=4.0.0->ipywidgets) (0.1.6)\n",
            "Requirement already satisfied: pexpect>4.3 in /usr/local/lib/python3.10/dist-packages (from ipython>=4.0.0->ipywidgets) (4.9.0)\n",
            "Requirement already satisfied: notebook>=4.4.1 in /usr/local/lib/python3.10/dist-packages (from widgetsnbextension~=3.6.0->ipywidgets) (6.5.5)\n",
            "Requirement already satisfied: parso<0.9.0,>=0.8.3 in /usr/local/lib/python3.10/dist-packages (from jedi>=0.16->ipython>=4.0.0->ipywidgets) (0.8.3)\n",
            "Requirement already satisfied: jinja2 in /usr/local/lib/python3.10/dist-packages (from notebook>=4.4.1->widgetsnbextension~=3.6.0->ipywidgets) (3.1.3)\n",
            "Requirement already satisfied: pyzmq<25,>=17 in /usr/local/lib/python3.10/dist-packages (from notebook>=4.4.1->widgetsnbextension~=3.6.0->ipywidgets) (23.2.1)\n",
            "Requirement already satisfied: argon2-cffi in /usr/local/lib/python3.10/dist-packages (from notebook>=4.4.1->widgetsnbextension~=3.6.0->ipywidgets) (23.1.0)\n",
            "Requirement already satisfied: jupyter-core>=4.6.1 in /usr/local/lib/python3.10/dist-packages (from notebook>=4.4.1->widgetsnbextension~=3.6.0->ipywidgets) (5.7.2)\n",
            "Requirement already satisfied: nbformat in /usr/local/lib/python3.10/dist-packages (from notebook>=4.4.1->widgetsnbextension~=3.6.0->ipywidgets) (5.10.3)\n",
            "Requirement already satisfied: nbconvert>=5 in /usr/local/lib/python3.10/dist-packages (from notebook>=4.4.1->widgetsnbextension~=3.6.0->ipywidgets) (6.5.4)\n",
            "Requirement already satisfied: nest-asyncio>=1.5 in /usr/local/lib/python3.10/dist-packages (from notebook>=4.4.1->widgetsnbextension~=3.6.0->ipywidgets) (1.6.0)\n",
            "Requirement already satisfied: Send2Trash>=1.8.0 in /usr/local/lib/python3.10/dist-packages (from notebook>=4.4.1->widgetsnbextension~=3.6.0->ipywidgets) (1.8.2)\n",
            "Requirement already satisfied: terminado>=0.8.3 in /usr/local/lib/python3.10/dist-packages (from notebook>=4.4.1->widgetsnbextension~=3.6.0->ipywidgets) (0.18.1)\n",
            "Requirement already satisfied: prometheus-client in /usr/local/lib/python3.10/dist-packages (from notebook>=4.4.1->widgetsnbextension~=3.6.0->ipywidgets) (0.20.0)\n",
            "Requirement already satisfied: nbclassic>=0.4.7 in /usr/local/lib/python3.10/dist-packages (from notebook>=4.4.1->widgetsnbextension~=3.6.0->ipywidgets) (1.0.0)\n",
            "Requirement already satisfied: python-dateutil>=2.1 in /usr/local/lib/python3.10/dist-packages (from jupyter-client->ipykernel>=4.5.1->ipywidgets) (2.8.2)\n",
            "Requirement already satisfied: ptyprocess>=0.5 in /usr/local/lib/python3.10/dist-packages (from pexpect>4.3->ipython>=4.0.0->ipywidgets) (0.7.0)\n",
            "Requirement already satisfied: wcwidth in /usr/local/lib/python3.10/dist-packages (from prompt-toolkit!=3.0.0,!=3.0.1,<3.1.0,>=2.0.0->ipython>=4.0.0->ipywidgets) (0.2.13)\n",
            "Requirement already satisfied: platformdirs>=2.5 in /usr/local/lib/python3.10/dist-packages (from jupyter-core>=4.6.1->notebook>=4.4.1->widgetsnbextension~=3.6.0->ipywidgets) (4.2.0)\n",
            "Requirement already satisfied: jupyter-server>=1.8 in /usr/local/lib/python3.10/dist-packages (from nbclassic>=0.4.7->notebook>=4.4.1->widgetsnbextension~=3.6.0->ipywidgets) (1.24.0)\n",
            "Requirement already satisfied: notebook-shim>=0.2.3 in /usr/local/lib/python3.10/dist-packages (from nbclassic>=0.4.7->notebook>=4.4.1->widgetsnbextension~=3.6.0->ipywidgets) (0.2.4)\n",
            "Requirement already satisfied: lxml in /usr/local/lib/python3.10/dist-packages (from nbconvert>=5->notebook>=4.4.1->widgetsnbextension~=3.6.0->ipywidgets) (4.9.4)\n",
            "Requirement already satisfied: beautifulsoup4 in /usr/local/lib/python3.10/dist-packages (from nbconvert>=5->notebook>=4.4.1->widgetsnbextension~=3.6.0->ipywidgets) (4.12.3)\n",
            "Requirement already satisfied: bleach in /usr/local/lib/python3.10/dist-packages (from nbconvert>=5->notebook>=4.4.1->widgetsnbextension~=3.6.0->ipywidgets) (6.1.0)\n",
            "Requirement already satisfied: defusedxml in /usr/local/lib/python3.10/dist-packages (from nbconvert>=5->notebook>=4.4.1->widgetsnbextension~=3.6.0->ipywidgets) (0.7.1)\n",
            "Requirement already satisfied: entrypoints>=0.2.2 in /usr/local/lib/python3.10/dist-packages (from nbconvert>=5->notebook>=4.4.1->widgetsnbextension~=3.6.0->ipywidgets) (0.4)\n",
            "Requirement already satisfied: jupyterlab-pygments in /usr/local/lib/python3.10/dist-packages (from nbconvert>=5->notebook>=4.4.1->widgetsnbextension~=3.6.0->ipywidgets) (0.3.0)\n",
            "Requirement already satisfied: MarkupSafe>=2.0 in /usr/local/lib/python3.10/dist-packages (from nbconvert>=5->notebook>=4.4.1->widgetsnbextension~=3.6.0->ipywidgets) (2.1.5)\n",
            "Requirement already satisfied: mistune<2,>=0.8.1 in /usr/local/lib/python3.10/dist-packages (from nbconvert>=5->notebook>=4.4.1->widgetsnbextension~=3.6.0->ipywidgets) (0.8.4)\n",
            "Requirement already satisfied: nbclient>=0.5.0 in /usr/local/lib/python3.10/dist-packages (from nbconvert>=5->notebook>=4.4.1->widgetsnbextension~=3.6.0->ipywidgets) (0.10.0)\n",
            "Requirement already satisfied: packaging in /usr/local/lib/python3.10/dist-packages (from nbconvert>=5->notebook>=4.4.1->widgetsnbextension~=3.6.0->ipywidgets) (24.0)\n",
            "Requirement already satisfied: pandocfilters>=1.4.1 in /usr/local/lib/python3.10/dist-packages (from nbconvert>=5->notebook>=4.4.1->widgetsnbextension~=3.6.0->ipywidgets) (1.5.1)\n",
            "Requirement already satisfied: tinycss2 in /usr/local/lib/python3.10/dist-packages (from nbconvert>=5->notebook>=4.4.1->widgetsnbextension~=3.6.0->ipywidgets) (1.2.1)\n",
            "Requirement already satisfied: fastjsonschema in /usr/local/lib/python3.10/dist-packages (from nbformat->notebook>=4.4.1->widgetsnbextension~=3.6.0->ipywidgets) (2.19.1)\n",
            "Requirement already satisfied: jsonschema>=2.6 in /usr/local/lib/python3.10/dist-packages (from nbformat->notebook>=4.4.1->widgetsnbextension~=3.6.0->ipywidgets) (4.19.2)\n",
            "Requirement already satisfied: six>=1.5 in /usr/local/lib/python3.10/dist-packages (from python-dateutil>=2.1->jupyter-client->ipykernel>=4.5.1->ipywidgets) (1.16.0)\n",
            "Requirement already satisfied: argon2-cffi-bindings in /usr/local/lib/python3.10/dist-packages (from argon2-cffi->notebook>=4.4.1->widgetsnbextension~=3.6.0->ipywidgets) (21.2.0)\n",
            "Requirement already satisfied: attrs>=22.2.0 in /usr/local/lib/python3.10/dist-packages (from jsonschema>=2.6->nbformat->notebook>=4.4.1->widgetsnbextension~=3.6.0->ipywidgets) (23.2.0)\n",
            "Requirement already satisfied: jsonschema-specifications>=2023.03.6 in /usr/local/lib/python3.10/dist-packages (from jsonschema>=2.6->nbformat->notebook>=4.4.1->widgetsnbextension~=3.6.0->ipywidgets) (2023.12.1)\n",
            "Requirement already satisfied: referencing>=0.28.4 in /usr/local/lib/python3.10/dist-packages (from jsonschema>=2.6->nbformat->notebook>=4.4.1->widgetsnbextension~=3.6.0->ipywidgets) (0.34.0)\n",
            "Requirement already satisfied: rpds-py>=0.7.1 in /usr/local/lib/python3.10/dist-packages (from jsonschema>=2.6->nbformat->notebook>=4.4.1->widgetsnbextension~=3.6.0->ipywidgets) (0.18.0)\n",
            "Requirement already satisfied: anyio<4,>=3.1.0 in /usr/local/lib/python3.10/dist-packages (from jupyter-server>=1.8->nbclassic>=0.4.7->notebook>=4.4.1->widgetsnbextension~=3.6.0->ipywidgets) (3.7.1)\n",
            "Requirement already satisfied: websocket-client in /usr/local/lib/python3.10/dist-packages (from jupyter-server>=1.8->nbclassic>=0.4.7->notebook>=4.4.1->widgetsnbextension~=3.6.0->ipywidgets) (1.7.0)\n",
            "Requirement already satisfied: cffi>=1.0.1 in /usr/local/lib/python3.10/dist-packages (from argon2-cffi-bindings->argon2-cffi->notebook>=4.4.1->widgetsnbextension~=3.6.0->ipywidgets) (1.16.0)\n",
            "Requirement already satisfied: soupsieve>1.2 in /usr/local/lib/python3.10/dist-packages (from beautifulsoup4->nbconvert>=5->notebook>=4.4.1->widgetsnbextension~=3.6.0->ipywidgets) (2.5)\n",
            "Requirement already satisfied: webencodings in /usr/local/lib/python3.10/dist-packages (from bleach->nbconvert>=5->notebook>=4.4.1->widgetsnbextension~=3.6.0->ipywidgets) (0.5.1)\n",
            "Requirement already satisfied: idna>=2.8 in /usr/local/lib/python3.10/dist-packages (from anyio<4,>=3.1.0->jupyter-server>=1.8->nbclassic>=0.4.7->notebook>=4.4.1->widgetsnbextension~=3.6.0->ipywidgets) (3.6)\n",
            "Requirement already satisfied: sniffio>=1.1 in /usr/local/lib/python3.10/dist-packages (from anyio<4,>=3.1.0->jupyter-server>=1.8->nbclassic>=0.4.7->notebook>=4.4.1->widgetsnbextension~=3.6.0->ipywidgets) (1.3.1)\n",
            "Requirement already satisfied: exceptiongroup in /usr/local/lib/python3.10/dist-packages (from anyio<4,>=3.1.0->jupyter-server>=1.8->nbclassic>=0.4.7->notebook>=4.4.1->widgetsnbextension~=3.6.0->ipywidgets) (1.2.0)\n",
            "Requirement already satisfied: pycparser in /usr/local/lib/python3.10/dist-packages (from cffi>=1.0.1->argon2-cffi-bindings->argon2-cffi->notebook>=4.4.1->widgetsnbextension~=3.6.0->ipywidgets) (2.21)\n",
            "Installing collected packages: jedi\n",
            "Successfully installed jedi-0.19.1\n"
          ]
        }
      ]
    },
    {
      "cell_type": "code",
      "execution_count": 2,
      "metadata": {
        "id": "oglE_xDO6DPe"
      },
      "outputs": [],
      "source": [
        "import gym\n",
        "from gym import logger as gymlogger\n",
        "from gym.wrappers import RecordVideo\n",
        "gymlogger.set_level(40) #error only\n",
        "import tensorflow as tf\n",
        "import numpy as np\n",
        "import random\n",
        "import matplotlib\n",
        "import matplotlib.pyplot as plt\n",
        "%matplotlib inline\n",
        "import math\n",
        "import glob\n",
        "import io\n",
        "import base64\n",
        "from IPython.display import HTML\n",
        "from IPython import display as ipythondisplay\n",
        "from tqdm.notebook import trange\n"
      ]
    },
    {
      "cell_type": "markdown",
      "source": [
        "# Render Video Function\n",
        "---"
      ],
      "metadata": {
        "id": "6819w6hLBHvM"
      }
    },
    {
      "cell_type": "code",
      "source": [
        "def show_video():\n",
        "  mp4list = glob.glob('video/*.mp4')\n",
        "  if len(mp4list) > 0:\n",
        "    mp4 = mp4list[0]\n",
        "    video = io.open(mp4, 'r+b').read()\n",
        "    encoded = base64.b64encode(video)\n",
        "    ipythondisplay.display(HTML(data='''<video alt=\"test\" autoplay\n",
        "                loop controls style=\"height: 400px;\">\n",
        "                <source src=\"data:video/mp4;base64,{0}\" type=\"video/mp4\" />\n",
        "             </video>'''.format(encoded.decode('ascii'))))\n",
        "  else:\n",
        "    print(\"Could not find video\")"
      ],
      "metadata": {
        "id": "2ADx08_pA48S",
        "colab": {
          "base_uri": "https://localhost:8080/"
        },
        "outputId": "17e86587-32ac-435a-c586-0659106f7c1d"
      },
      "execution_count": 3,
      "outputs": [
        {
          "output_type": "stream",
          "name": "stderr",
          "text": [
            "/usr/local/lib/python3.10/dist-packages/ipykernel/ipkernel.py:283: DeprecationWarning: `should_run_async` will not call `transform_cell` automatically in the future. Please pass the result to `transformed_cell` argument and any exception that happen during thetransform in `preprocessing_exc_tuple` in IPython 7.17 and above.\n",
            "  and should_run_async(code)\n"
          ]
        }
      ]
    },
    {
      "cell_type": "markdown",
      "source": [
        "# Loading CartPole Environment\n",
        "---"
      ],
      "metadata": {
        "id": "dA-cuaSnA9zE"
      }
    },
    {
      "cell_type": "code",
      "source": [
        "env = gym.make(\"CartPole-v1\")"
      ],
      "metadata": {
        "id": "tfFM0YfZA9Jk"
      },
      "execution_count": 4,
      "outputs": []
    },
    {
      "cell_type": "code",
      "source": [
        "#Print our observation space\n",
        "print(\"Observation Space\", env.observation_space)\n",
        "print(\"Sample Observation\", env.observation_space.sample()) #Display a random observation"
      ],
      "metadata": {
        "colab": {
          "base_uri": "https://localhost:8080/"
        },
        "id": "QW5myMibGlv5",
        "outputId": "2e03dccc-e145-47aa-ad24-20572e6e0e30"
      },
      "execution_count": 5,
      "outputs": [
        {
          "output_type": "stream",
          "name": "stdout",
          "text": [
            "Observation Space Box([-4.8000002e+00 -3.4028235e+38 -4.1887903e-01 -3.4028235e+38], [4.8000002e+00 3.4028235e+38 4.1887903e-01 3.4028235e+38], (4,), float32)\n",
            "Sample Observation [-1.7094618e+00 -1.5777194e+38 -3.1643775e-01  1.3519563e+38]\n"
          ]
        }
      ]
    },
    {
      "cell_type": "code",
      "source": [
        "#Print action space\n",
        "print(\"Action Space Shape\", env.action_space.n)\n",
        "print(\"Action Space Sample\", env.action_space.sample())"
      ],
      "metadata": {
        "colab": {
          "base_uri": "https://localhost:8080/"
        },
        "id": "D7fw3RxxG1RM",
        "outputId": "c3dc1839-6b1f-4bc4-e000-1e48fe9c4068"
      },
      "execution_count": 6,
      "outputs": [
        {
          "output_type": "stream",
          "name": "stdout",
          "text": [
            "Action Space Shape 2\n",
            "Action Space Sample 1\n"
          ]
        }
      ]
    },
    {
      "cell_type": "markdown",
      "source": [
        "## Initializing Hyperameters\n",
        "---\n"
      ],
      "metadata": {
        "id": "bM1yHzUCaAzE"
      }
    },
    {
      "cell_type": "markdown",
      "source": [
        "Definition of each hyperparameters :\n",
        "1. learning_rate =\n",
        "2. discount =\n",
        "3. epsilon =\n",
        "4. num_episodes =\n",
        "5."
      ],
      "metadata": {
        "id": "aJtPIXb4amuZ"
      }
    },
    {
      "cell_type": "markdown",
      "source": [
        "## Initializing Q-Table\n",
        "---\n",
        "\n"
      ],
      "metadata": {
        "id": "PBvry0bzdPmX"
      }
    },
    {
      "cell_type": "code",
      "source": [
        "#state_space = env.observation_space.shape\n",
        "#print(\"There are \", state_space, \" possible states\")\n",
        "\n",
        "#action_space = env.action_space.n\n",
        "#print(\"There are \", action_space, \" possible actions\")"
      ],
      "metadata": {
        "id": "xybR-BzIHfom"
      },
      "execution_count": 7,
      "outputs": []
    },
    {
      "cell_type": "code",
      "source": [
        "#Training parameters\n",
        "learning_rate = 0.2\n",
        "gamma = 0.95\n",
        "num_episodes = 50000\n",
        "\n",
        "#Environment parameters\n",
        "observation_size = [40,40,50,50]\n",
        "np_array_win_size = np.array([0.25, 0.25, 0.05, 0.5])\n",
        "\n",
        "#Exploration parameters\n",
        "max_epsilon = 1.0\n",
        "min_epsilon = 0.05\n",
        "epsilon_decay_rate = 0.0005\n",
        "\n",
        "rewardArr = []"
      ],
      "metadata": {
        "id": "OHlN7oZ_aJBX"
      },
      "execution_count": 8,
      "outputs": []
    },
    {
      "cell_type": "code",
      "source": [
        "q_table = np.zeros((observation_size + [env.action_space.n]))\n",
        "q_table.shape"
      ],
      "metadata": {
        "id": "J-i_1f97XAmR",
        "colab": {
          "base_uri": "https://localhost:8080/"
        },
        "outputId": "d38e7216-bbd9-4734-c246-c5b58f52d4cc"
      },
      "execution_count": 9,
      "outputs": [
        {
          "output_type": "execute_result",
          "data": {
            "text/plain": [
              "(40, 40, 50, 50, 2)"
            ]
          },
          "metadata": {},
          "execution_count": 9
        }
      ]
    },
    {
      "cell_type": "markdown",
      "source": [
        "## Discretize the state space\n",
        "---"
      ],
      "metadata": {
        "id": "qvaTeXKhde03"
      }
    },
    {
      "cell_type": "code",
      "source": [
        "def discretize_state(state):\n",
        "    discrete_state = state/np_array_win_size + np.array([15,10,1,10])\n",
        "    return tuple(discrete_state.astype(int))"
      ],
      "metadata": {
        "id": "-mHEHpVidxIF"
      },
      "execution_count": 10,
      "outputs": []
    },
    {
      "cell_type": "code",
      "source": [
        "print(\"Action Space Shape : \", env.action_space.n)\n",
        "print(\"Observation Space : \", env.observation_space)"
      ],
      "metadata": {
        "colab": {
          "base_uri": "https://localhost:8080/"
        },
        "id": "Sm_JMty7hAST",
        "outputId": "5b4e6d5d-d31b-4790-928d-6531b3c33471"
      },
      "execution_count": 11,
      "outputs": [
        {
          "output_type": "stream",
          "name": "stdout",
          "text": [
            "Action Space Shape :  2\n",
            "Observation Space :  Box([-4.8000002e+00 -3.4028235e+38 -4.1887903e-01 -3.4028235e+38], [4.8000002e+00 3.4028235e+38 4.1887903e-01 3.4028235e+38], (4,), float32)\n"
          ]
        }
      ]
    },
    {
      "cell_type": "code",
      "source": [
        "#Epsilon greedy policy (acting policy)\n",
        "def epsilon_greedy_policy(q_table, state, epsilon):\n",
        "    random_d = np.random.random()\n",
        "    if(random_d > epsilon):\n",
        "        action = np.argmax(q_table[state])\n",
        "    else:\n",
        "        action = env.action_space.sample()\n",
        "    return action"
      ],
      "metadata": {
        "id": "-cwhOzSbJLc1"
      },
      "execution_count": 12,
      "outputs": []
    },
    {
      "cell_type": "markdown",
      "source": [
        "## Task 1 - Training the Agent\n",
        "---\n"
      ],
      "metadata": {
        "id": "TW-mqgt0_pmC"
      }
    },
    {
      "cell_type": "code",
      "source": [
        "\n",
        "def train_agent(env, num_episodes, learning_rate, gamma, max_epsilon, epsilon_decay_rate, q_table):\n",
        "  total_reward = 0\n",
        "\n",
        "  for episode in trange(num_episodes):\n",
        "    #Reset the environment\n",
        "    state = env.reset()\n",
        "    #Find out the curr discrete state\n",
        "    curr_discrete_state = discretize_state(state[0])\n",
        "    #Calculate the new epsilon\n",
        "    epsilon = min_epsilon + (max_epsilon - min_epsilon) * np.exp(-epsilon_decay_rate * episode)\n",
        "\n",
        "    done = False\n",
        "    episode_reward = 0\n",
        "    episode_length = 0\n",
        "\n",
        "    if episode % 2500 == 0:\n",
        "      print(f\"Episode Count : {episode}\")\n",
        "\n",
        "    #Run till all the episodes are complete\n",
        "    while not done:\n",
        "        #Determine our policy based on epsilon greedy\n",
        "        action = epsilon_greedy_policy(q_table, curr_discrete_state, epsilon)\n",
        "\n",
        "        #Take the chosen action and observe the new state\n",
        "        new_state, reward, done, info = env.step(action)\n",
        "        episode_length += 1\n",
        "        episode_reward += reward\n",
        "        #Find the new discrete state given the new state calculated from action\n",
        "        new_discrete_state = discretize_state(new_state)\n",
        "\n",
        "        #Setup some rewards\n",
        "        if done:\n",
        "          if episode_reward >= 195:\n",
        "            reward = 1\n",
        "          else:\n",
        "            reward = -1\n",
        "        else:\n",
        "          reward = 0.1\n",
        "\n",
        "        #Update our q table based on the formula\n",
        "        q_table[curr_discrete_state + (action,)] += learning_rate * (reward + gamma * np.max(q_table[new_discrete_state]) - q_table[curr_discrete_state + (action,)])\n",
        "\n",
        "        if done:\n",
        "          break\n",
        "        #update the current state to the new state\n",
        "        curr_discrete_state = new_discrete_state\n",
        "\n",
        "    total_reward += episode_reward\n",
        "    rewardArr.append(episode_reward)\n",
        "\n",
        "    if episode % 2500 == 0:\n",
        "      print(f\"Epsilon : {epsilon}\")\n",
        "      mean_reward = total_reward / 2500\n",
        "      total_reward = 0\n",
        "      print(f\"Mean Reward : {mean_reward}\")\n",
        "\n",
        "  return q_table, curr_discrete_state, new_discrete_state\n"
      ],
      "metadata": {
        "id": "7J4NBfnHoCvB"
      },
      "execution_count": 13,
      "outputs": []
    },
    {
      "cell_type": "code",
      "source": [
        "#Train the table\n",
        "q_table_cart, cd, nd = train_agent(env, num_episodes, learning_rate, gamma, max_epsilon, epsilon_decay_rate, q_table)\n",
        "\n",
        "#q_table_cart\n",
        "cd"
      ],
      "metadata": {
        "colab": {
          "base_uri": "https://localhost:8080/",
          "height": 448,
          "referenced_widgets": [
            "b597fb8db36e4ce7be5e83a950526466",
            "2b9e81127f8f419da62098e6cff7ca88",
            "92ce9a5a22434fd8b0be95e8f22653c3",
            "977ed80f092b45bebe84f520038177cb",
            "cf32df7141fc4119859f3d741cab6f28",
            "004fd3a750ca4f60a0ce0ca8ef3469c8",
            "f24eb274832c457dac17f47afd8d7c41",
            "89410b430787401190190c1ed651539c",
            "0c1494cc69194096bf1c0efa98fbb393",
            "c92ebdbbaf144b8fbbc01d381f4c71f3",
            "9bcc4337b2244541b58eb83653b21cdc"
          ]
        },
        "id": "VZKXsty3M90S",
        "outputId": "9bdcf4e0-8276-49b9-f630-29e9b090ba35"
      },
      "execution_count": null,
      "outputs": [
        {
          "output_type": "display_data",
          "data": {
            "text/plain": [
              "  0%|          | 0/50000 [00:00<?, ?it/s]"
            ],
            "application/vnd.jupyter.widget-view+json": {
              "version_major": 2,
              "version_minor": 0,
              "model_id": "b597fb8db36e4ce7be5e83a950526466"
            }
          },
          "metadata": {}
        },
        {
          "output_type": "stream",
          "name": "stdout",
          "text": [
            "Episode Count : 0\n",
            "Epsilon : 1.0\n",
            "Mean Reward : 0.0192\n"
          ]
        },
        {
          "output_type": "stream",
          "name": "stderr",
          "text": [
            "/usr/local/lib/python3.10/dist-packages/gym/utils/passive_env_checker.py:241: DeprecationWarning: `np.bool8` is a deprecated alias for `np.bool_`.  (Deprecated NumPy 1.24)\n",
            "  if not isinstance(terminated, (bool, np.bool8)):\n"
          ]
        },
        {
          "output_type": "stream",
          "name": "stdout",
          "text": [
            "Episode Count : 2500\n",
            "Epsilon : 0.32217955701718054\n",
            "Mean Reward : 53.3648\n",
            "Episode Count : 5000\n",
            "Epsilon : 0.12798074869270387\n",
            "Mean Reward : 114.4224\n",
            "Episode Count : 7500\n",
            "Epsilon : 0.07234185856320866\n",
            "Mean Reward : 130.8548\n",
            "Episode Count : 10000\n",
            "Epsilon : 0.056401049649131195\n",
            "Mean Reward : 134.4096\n",
            "Episode Count : 12500\n",
            "Epsilon : 0.05183393142941633\n",
            "Mean Reward : 140.6324\n",
            "Episode Count : 15000\n",
            "Epsilon : 0.050525430151640446\n",
            "Mean Reward : 133.3796\n"
          ]
        }
      ]
    },
    {
      "cell_type": "code",
      "source": [
        "q_table_cart[(15, 10, -3, 8)]"
      ],
      "metadata": {
        "id": "sJxQDMRpT6sC"
      },
      "execution_count": null,
      "outputs": []
    },
    {
      "cell_type": "code",
      "source": [
        "env = RecordVideo(gym.make(\"CartPole-v1\", render_mode=\"human\"), \"./video\")\n",
        "observation = env.reset()\n",
        "discrete_state = discretize_state(observation[0])\n",
        "while not done:\n",
        "    env.render()\n",
        "    #your agent goes here\n",
        "    action = np.argmax(q_table[discrete_state])\n",
        "    new_state, reward, done, info = env.step(action)\n",
        "    discrete_state = discretize_state(new_state)\n",
        "    if done:\n",
        "      observation = env.reset()\n",
        "      discrete_state = discretize_state(observation[0])\n",
        "    print(done)\n",
        "show_video()\n"
      ],
      "metadata": {
        "id": "_CergYBNbGe2"
      },
      "execution_count": null,
      "outputs": []
    },
    {
      "cell_type": "markdown",
      "source": [
        "## Task 2 - Effectiveness of Agent\n",
        "---"
      ],
      "metadata": {
        "id": "88Ev9PEyn6ft"
      }
    },
    {
      "cell_type": "markdown",
      "source": [
        "**Episode End**\n",
        "1. The episode ends if any one of the following occurs:\n",
        "2. Termination: Pole Angle is greater than ±12°\n",
        "3. Termination: Cart Position is greater than ±2.4 (center of the cart reaches the edge of the display)\n",
        "4. Truncation: Episode length is greater than 500.\n"
      ],
      "metadata": {
        "id": "wKJVGnBjmfPk"
      }
    },
    {
      "cell_type": "code",
      "source": [
        "\n",
        "def evaluate_agent(env, q_table, n_eval_episodes = 100, max_steps = 500):\n",
        "  episode_rewards = []\n",
        "  for episode in trange(n_eval_episodes):\n",
        "    #Reset the environment\n",
        "    state = env.reset()\n",
        "    #Find out the curr discrete state\n",
        "    curr_discrete_state = discretize_state(state[0])\n",
        "    done = False\n",
        "    total_rewards_ep = 0\n",
        "\n",
        "    for step in range(max_steps) :\n",
        "      action = np.argmax(q_table[curr_discrete_state])\n",
        "      #Take the chosen action and observe the new state\n",
        "      new_state, reward, done, info = env.step(action)\n",
        "      total_rewards_ep += reward\n",
        "\n",
        "      if done:\n",
        "        break\n",
        "\n",
        "      #update the current state to the new state\n",
        "      curr_discrete_state = discretize_state(new_state)\n",
        "\n",
        "    #append the total rewards / episode to episode_rewards array\n",
        "    episode_rewards.append(total_rewards_ep)\n",
        "\n",
        "  mean_reward = np.mean(episode_rewards)\n",
        "  std_reward = np.std(episode_rewards)\n",
        "  env.close()\n",
        "  return mean_reward, std_reward\n"
      ],
      "metadata": {
        "id": "Vq3cFbicn8nD"
      },
      "execution_count": null,
      "outputs": []
    },
    {
      "cell_type": "code",
      "source": [
        "mean_reward, std_reward = evaluate_agent(env, q_table)\n"
      ],
      "metadata": {
        "id": "WSkfVHiKaf8f"
      },
      "execution_count": null,
      "outputs": []
    },
    {
      "cell_type": "code",
      "source": [
        "print(mean_reward,std_reward)"
      ],
      "metadata": {
        "id": "2o70TTJ4r5_h"
      },
      "execution_count": null,
      "outputs": []
    },
    {
      "cell_type": "code",
      "source": [
        "#Set the initial value of episode_reward to 0\n",
        "episode_reward = 0\n",
        "\n",
        "#Creating instance of RecordVideo\n",
        "env = RecordVideo(gym.make(\"CartPole-v1\", render_mode=\"human\"),\"./video\")\n",
        "\n",
        "#Reset env and obtain initial observation and discrete state\n",
        "observation = env.reset()\n",
        "discrete_state = discretize_state(observation[0])\n",
        "\n",
        "done = False\n",
        "while not done:\n",
        "    env.render()\n",
        "\n",
        "    #Determining action to take based on q_table values and select action with highest value\n",
        "    action = np.argmax(q_table[discrete_state])\n",
        "\n",
        "    #take chosen action in env and obtain new state, reward, and done flag\n",
        "    new_env = env.step(action)\n",
        "    new_state = new_env[0]\n",
        "    reward = new_env[1]\n",
        "    done = new_env[2]\n",
        "\n",
        "    #Add reward for the current step to the episode reward variable\n",
        "    episode_reward += reward\n",
        "\n",
        "    #Convert new state to its discrete equivalent and update discrete_state\n",
        "    new_discrete_state = discretize_state(new_state)\n",
        "    discrete_state = new_discrete_state\n",
        "\n",
        "    #if episode is complete, reset env and obtain initial observation and discrete state\n",
        "    if done:\n",
        "        observation = env.reset()\n",
        "        discrete_state = discretize_state(observation[0])\n",
        "\n",
        "env.close()\n",
        "show_video()\n",
        "print(episode_reward)"
      ],
      "metadata": {
        "id": "LfBwLXNfrh8k"
      },
      "execution_count": null,
      "outputs": []
    },
    {
      "cell_type": "code",
      "source": [
        "# def train_agent(env, NUM_EPISODES, LEARNING_RATE, DISCOUNT, max_epsilon, epsilon_decay_rate, q_table):\n",
        "#   total_reward = 0\n",
        "#   rewardsArr = []\n",
        "\n",
        "#   for episode in range(NUM_EPISODES):\n",
        "#     #reset the environment and initialize the state\n",
        "#     discrete_state = discretize_state(env.reset()[0])\n",
        "#     done = False\n",
        "#     episode_reward = 0\n",
        "\n",
        "#     #Run all the episodes until done flag is set to True\n",
        "#     while not done:\n",
        "\n",
        "#         #Using Q-Table, we choose the best action to take for current state\n",
        "#         action = np.argmax(q_table[discrete_state])\n",
        "\n",
        "#         #obtain the new state, reward and done flag after taking the best action\n",
        "#         updated_env = env.step(action)\n",
        "#         updated_state, reward, done = updated_env\n",
        "#         episode_reward += reward\n",
        "\n",
        "#         #We truncate the training if episodes length is greater than 500\n",
        "#         if episode_reward > 500:\n",
        "#           done = True\n",
        "\n",
        "#         #discretize the new state and update discrete_state\n",
        "#         discrete_state = discretize_state(updated_state)\n",
        "\n",
        "#         #if episode is completed, we reset the environment and reinitialize the observation and discrete state\n",
        "#         if done:\n",
        "#           observation = env.reset()\n",
        "#           discrete_state = discretize_state(observation[0])\n",
        "\n",
        "#     rewardsArr.append(episode_reward)\n",
        "\n",
        "#     env.close()\n",
        "#     return q_table, rewardArr\n",
        "\n",
        "# q_table, rewards = train_agent(env, NUM_EPISODES, LEARNING_RATE, DISCOUNT, max_epsilon, epsilon_decay_rate, q_table)"
      ],
      "metadata": {
        "id": "DRyzq_Wj_oA8"
      },
      "execution_count": null,
      "outputs": []
    },
    {
      "cell_type": "code",
      "source": [],
      "metadata": {
        "id": "ZBiMsxcAk_TE"
      },
      "execution_count": null,
      "outputs": []
    }
  ]
}