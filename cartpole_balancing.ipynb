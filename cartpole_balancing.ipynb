{
  "cells": [
    {
      "cell_type": "markdown",
      "metadata": {
        "colab_type": "text",
        "id": "view-in-github"
      },
      "source": [
        "<a href=\"https://colab.research.google.com/github/isaacchunn/cartpole-balancing/blob/main/cartpole_balancing.ipynb\" target=\"_parent\"><img src=\"https://colab.research.google.com/assets/colab-badge.svg\" alt=\"Open In Colab\"/></a>"
      ]
    },
    {
      "cell_type": "markdown",
      "metadata": {
        "id": "6HclSkxrjOvJ"
      },
      "source": [
        "# Balancing a Pole on a Cart\n",
        "23S2 SC3000/CZ3005 Assignment 1\n",
        "\n",
        "Team Members:\n",
        "\n",
        "1. Isaac Chun Jun Heng U2221389B\n",
        "2. J'sen Ong Jia Xuan U2220457J\n",
        "3. Marcus Ho Jian Feng"
      ]
    },
    {
      "cell_type": "markdown",
      "metadata": {
        "id": "WofLS_NJjOvL"
      },
      "source": [
        "### References\n",
        "\n",
        "1. https://github.com/openai/gym/blob/master/gym/envs/classic_control/cartpole.py\n",
        "    - Usage: To understand more about cartpole environment and how rewards are given.\n",
        "\n",
        "2. https://www.youtube.com/watch?v=nOBm4aYEYR4&ab_channel=YannicKilcher\n",
        "    - Usage: Understanding Q Learning fundamentals and how it works / updating q-tables\n",
        "\n",
        "3. https://www.datacamp.com/tutorial/introduction-q-learning-beginner-tutorial\n",
        "    - Usage: Practice Q Learning on Discrete environments such as Frozen Lake and help us setup the base for notebook on what to import and how to render videos and gifs\n"
      ]
    },
    {
      "cell_type": "markdown",
      "metadata": {
        "id": "z0XvKdbtjOvM"
      },
      "source": [
        "### Importing Libraries"
      ]
    },
    {
      "cell_type": "code",
      "execution_count": 105,
      "metadata": {
        "id": "oglE_xDO6DPe"
      },
      "outputs": [],
      "source": [
        "#Gymnasium\n",
        "import gym\n",
        "from gym import logger as gymlogger\n",
        "from gym.wrappers import RecordVideo\n",
        "from gym.error import DependencyNotInstalled\n",
        "gymlogger.set_level(40) #error only\n",
        "#I dont think we use tensorflow though\n",
        "import tensorflow as tf\n",
        "#Graph plotting stuff\n",
        "import numpy as np\n",
        "import matplotlib.pyplot as plt\n",
        "%matplotlib inline\n",
        "#Globals and os for file paths\n",
        "import glob\n",
        "import io\n",
        "import os\n",
        "import base64\n",
        "import math\n",
        "#Python displays\n",
        "from IPython.display import HTML\n",
        "from IPython import display as ipythondisplay\n",
        "#Progress bars to visualize training\n",
        "from tqdm.notebook import trange\n"
      ]
    },
    {
      "cell_type": "code",
      "execution_count": 106,
      "metadata": {
        "colab": {
          "base_uri": "https://localhost:8080/"
        },
        "id": "kXem5gcjjOvN",
        "outputId": "65e13af9-d237-4574-ecb0-de950d82a59d"
      },
      "outputs": [
        {
          "data": {
            "text/plain": [
              "True"
            ]
          },
          "execution_count": 106,
          "metadata": {},
          "output_type": "execute_result"
        }
      ],
      "source": [
        "#GPU accelerated notebooks to speed up the training of our agent in case I want to create custom environments and run in parallel\n",
        "import torch\n",
        "torch.cuda.is_available()"
      ]
    },
    {
      "cell_type": "markdown",
      "metadata": {
        "id": "6819w6hLBHvM"
      },
      "source": [
        "### Render Video Function\n",
        "---"
      ]
    },
    {
      "cell_type": "code",
      "execution_count": 107,
      "metadata": {
        "id": "2ADx08_pA48S"
      },
      "outputs": [],
      "source": [
        "def show_video():\n",
        "  '''\n",
        "  Collects all videos in the /video subfolder and picks the first file in that list to open and display a video.\n",
        "  '''\n",
        "  mp4list = glob.glob('video/*.mp4')\n",
        "  if len(mp4list) > 0:\n",
        "    mp4 = mp4list[0]\n",
        "    video = io.open(mp4, 'r+b').read()\n",
        "    encoded = base64.b64encode(video)\n",
        "    ipythondisplay.display(HTML(data='''<video alt=\"test\" autoplay\n",
        "                loop controls style=\"height: 400px;\">\n",
        "                <source src=\"data:video/mp4;base64,{0}\" type=\"video/mp4\" />\n",
        "             </video>'''.format(encoded.decode('ascii'))))\n",
        "  else:\n",
        "    print(\"Could not find video\")"
      ]
    },
    {
      "cell_type": "markdown",
      "metadata": {
        "id": "dA-cuaSnA9zE"
      },
      "source": [
        "# Loading CartPole Environment\n",
        "---\n",
        "\n",
        "gym reference : https://www.gymlibrary.dev/environments/classic_control/cart_pole/"
      ]
    },
    {
      "cell_type": "code",
      "execution_count": 108,
      "metadata": {
        "id": "tfFM0YfZA9Jk"
      },
      "outputs": [],
      "source": [
        "#Load our cartpole environment based on v1 version\n",
        "env = gym.make(\"CartPole-v1\")"
      ]
    },
    {
      "cell_type": "markdown",
      "metadata": {
        "id": "-B1GFDORjOvO"
      },
      "source": [
        "The observation space is given below. The first two arrays define the min and max values of the 4 observed values, corresponding to cart position, velocity and pole angle, angular velocity."
      ]
    },
    {
      "cell_type": "code",
      "execution_count": 109,
      "metadata": {
        "colab": {
          "base_uri": "https://localhost:8080/"
        },
        "id": "twas8xxzjOvO",
        "outputId": "90e8b371-143d-4c15-c782-57ff3da3df54"
      },
      "outputs": [
        {
          "name": "stdout",
          "output_type": "stream",
          "text": [
            "Observation Space Box([-4.8000002e+00 -3.4028235e+38 -4.1887903e-01 -3.4028235e+38], [4.8000002e+00 3.4028235e+38 4.1887903e-01 3.4028235e+38], (4,), float32)\n",
            "Sample Observation [4.4960823e+00 2.4599171e+37 3.3302465e-01 1.0584087e+38]\n"
          ]
        }
      ],
      "source": [
        "#Print our observation space\n",
        "print(\"Observation Space\", env.observation_space)\n",
        "print(\"Sample Observation\", env.observation_space.sample()) #Display a random observation"
      ]
    },
    {
      "cell_type": "code",
      "execution_count": 110,
      "metadata": {
        "colab": {
          "base_uri": "https://localhost:8080/"
        },
        "id": "D7fw3RxxG1RM",
        "outputId": "22b36e3d-863e-4250-af1f-91caf5e8d1c2"
      },
      "outputs": [
        {
          "name": "stdout",
          "output_type": "stream",
          "text": [
            "Action Space Discrete(2)\n",
            "Action Space Shape 2\n",
            "Action Space Sample 0\n"
          ]
        }
      ],
      "source": [
        "#Print action space\n",
        "print(\"Action Space\", env.action_space)\n",
        "print(\"Action Space Shape\", env.action_space.n)\n",
        "print(\"Action Space Sample\", env.action_space.sample())"
      ]
    },
    {
      "cell_type": "markdown",
      "metadata": {
        "id": "_62Q0mRojOvP"
      },
      "source": [
        "Our action space is discrete, its either we tell the thing to go left or go right, so our q table should have 2 columns, and for each possible state, it would be a A x B x C x ... x 2"
      ]
    },
    {
      "cell_type": "markdown",
      "metadata": {
        "id": "PBvry0bzdPmX"
      },
      "source": [
        "### Initializing Q-Table\n",
        "---\n",
        "\n"
      ]
    },
    {
      "cell_type": "markdown",
      "metadata": {
        "id": "4tS0FFXGjOvP"
      },
      "source": [
        "Since the space is continuous, we will split the observation space into a set amount of segments to be refined and tested. For each of the continuous variables in the observation space, we will split them into discrete sections.\n",
        "\n",
        "| Num | Observation | Min | Max|\n",
        "|--|--|--|--|\n",
        "| 0 | Cart Position |-4.8| 4.8\n",
        "| 1 | Cart Velocity |-Inf| Inf\n",
        "| 2 | Pole Angle |~ -0.418 rad (-24°)| ~ 0.418 rad (24°)\n",
        "| 3 | Pole Angular Velocity |-Inf| Inf\n",
        "\n",
        "However, even if the observation space has their own min and maxes, the following is noted:\n",
        "\n",
        "1. The cart x-position (index 0) can take values between (-4.8, 4.8), but the episode *terminates* if the cart leaves the (-2.4, 2.4) range.\n",
        "\n",
        "2. The pole angle can be observed between (-.418, .418) radians (or ±24°), but the episode *terminates* if the pole angle is not in the range (-.2095, .2095) (or ±12°)\n",
        "\n",
        "3. For cart velocity and cart angular velocity, there are inf, but we cant divide them infinite into discrete segments, so our range of -4 to 4 is the usual range that the cart goes by printing out the max and min velocity of the cart between episodes."
      ]
    },
    {
      "cell_type": "code",
      "execution_count": 111,
      "metadata": {
        "id": "GwUb0V9VjOvP"
      },
      "outputs": [],
      "source": [
        "#Declare num of segments to split continuous space into\n",
        "num_segments = 10\n",
        "\n",
        "#Converted into a linear space of segments given our requirements\n",
        "pos_space = np.linspace(-2.4, 2.4, num_segments)\n",
        "vel_space = np.linspace(-4, 4, num_segments)\n",
        "ang_space = np.linspace(-0.2095, 0.2095, num_segments)\n",
        "angvel_space = np.linspace(-4, 4, num_segments)\n",
        "\n",
        "def initialize_qtable(pos_space = pos_space, vel_space = vel_space, ang_space = ang_space, av_space = angvel_space, num_segments = num_segments):\n",
        "    #Make our q table which is a 11 x 11 x 11 x 11 x 2 (a very large table that increases exponentially with more segments!) -> +1 due to np.digitize function\n",
        "    Qtable = np.zeros((len(pos_space) + 1, len(vel_space) + 1, len(ang_space) + 1, len(angvel_space) + 1, env.action_space.n))\n",
        "    return Qtable\n",
        "\n",
        "#Make our q table which is a 11 x 11 x 11 x 11 x 2 (a very large table that increases exponentially with more segments!) -> +1 due to np.digitize function\n",
        "q_table_cart = initialize_qtable()"
      ]
    },
    {
      "cell_type": "code",
      "execution_count": 112,
      "metadata": {
        "colab": {
          "base_uri": "https://localhost:8080/"
        },
        "id": "dqtKob_YjOvP",
        "outputId": "3cb9b2f4-a0e7-47b8-b122-069fdc2cc777"
      },
      "outputs": [
        {
          "data": {
            "text/plain": [
              "(11, 11, 11, 11, 2)"
            ]
          },
          "execution_count": 112,
          "metadata": {},
          "output_type": "execute_result"
        }
      ],
      "source": [
        "q_table_cart.shape"
      ]
    },
    {
      "cell_type": "markdown",
      "metadata": {
        "id": "bM1yHzUCaAzE"
      },
      "source": [
        "### Initializing Hyperpameters\n",
        "---\n"
      ]
    },
    {
      "cell_type": "code",
      "execution_count": 113,
      "metadata": {
        "id": "OHlN7oZ_aJBX"
      },
      "outputs": [],
      "source": [
        "#Training parameters\n",
        "learning_rate = 0.1\n",
        "gamma = 0.99\n",
        "num_episodes = 25000\n",
        "\n",
        "#Exploration parameters\n",
        "max_epsilon = 1.0\n",
        "min_epsilon = 0.01\n",
        "epsilon_decay_rate = 0.0001\n",
        "\n",
        "#Other training parameters\n",
        "desired_mean_reward = 480"
      ]
    },
    {
      "cell_type": "code",
      "execution_count": 114,
      "metadata": {
        "id": "5iRYb3cPjOvQ"
      },
      "outputs": [],
      "source": [
        "#Other parameters such as episodic steps to print out progress\n",
        "episode_steps = 1000"
      ]
    },
    {
      "cell_type": "markdown",
      "metadata": {
        "id": "qvaTeXKhde03"
      },
      "source": [
        "### Declare an epsilon greedy policy\n",
        "---"
      ]
    },
    {
      "cell_type": "code",
      "execution_count": 115,
      "metadata": {
        "id": "-cwhOzSbJLc1"
      },
      "outputs": [],
      "source": [
        "#Epsilon greedy policy (acting policy)\n",
        "#In this case, state is a tuple that is passed in where state holds the following information at this time\n",
        "# state[0] = cart position\n",
        "# state[1] = cart velocity\n",
        "# state[2] = cart angle\n",
        "# state[3] = cart ang velocity\n",
        "def epsilon_greedy_policy(q_table, state, epsilon):\n",
        "    #Random some number\n",
        "    random_d = np.random.random()\n",
        "    #If its above epsilon, then the action is the optimal given this current state with the highest q value\n",
        "    if(random_d > epsilon):\n",
        "        action = np.argmax(q_table[state[0], state[1], state[2], state[3], :])\n",
        "    else:\n",
        "        #Else the action is random to allow exploration\n",
        "        action = env.action_space.sample()\n",
        "    return action"
      ]
    },
    {
      "cell_type": "markdown",
      "metadata": {
        "id": "TW-mqgt0_pmC"
      },
      "source": [
        "## Task 1 - Training the Agent\n",
        "---\n",
        "\n",
        "For training, we will attempt two different strategies to train our agent.\n",
        "\n",
        "1. Episodic Default Training (user defined episode)\n",
        "2. Training till Desired Mean (user defined target mean)\n",
        "\n",
        "For our epsilon decay formula, we will use epsilon = min_epsilon + (max_epsilon - min_epsilon) * np.exp(-epsilon_decay_rate * episode), and exponential curve such it never goes past min epsilon and allows smooth decay for intiial rapid decline and slow as epsilon reaches minimal value for still chances at exploration\n"
      ]
    },
    {
      "cell_type": "markdown",
      "metadata": {
        "id": "O9q6P4dwjOvQ"
      },
      "source": [
        "### 1. Episodic Default Training of Agent\n",
        "\n",
        "This approach uses a set amount of episodes based on hyperparameters and trains the agent using epsilon greedy policy and simple updating of the policies. The rewards are used as is to update the qtable"
      ]
    },
    {
      "cell_type": "code",
      "execution_count": 116,
      "metadata": {
        "id": "7J4NBfnHoCvB"
      },
      "outputs": [],
      "source": [
        "#Store an array of zeros for the rewards per episode to keep track for plotting later on\n",
        "reward_per_episode = []\n",
        "def train_agent_default(env, num_episodes, learning_rate, gamma, max_epsilon, epsilon_decay_rate, q_table):\n",
        "  total_reward = 0\n",
        "  #Initialize epsilon to the max\n",
        "  #epsilon = max_epsilon\n",
        "  for episode in trange(num_episodes):\n",
        "    #Calculate the new epsilon using a formula that decreases exponentially through episodes\n",
        "    epsilon = min_epsilon + (max_epsilon - min_epsilon) * np.exp(-epsilon_decay_rate * episode)\n",
        "    #Reset the environment\n",
        "    state = env.reset()\n",
        "    #Digitize and get the state data\n",
        "    state_pos = np.digitize(state[0], pos_space)\n",
        "    state_vel = np.digitize(state[1], vel_space)\n",
        "    state_ang = np.digitize(state[2], ang_space)\n",
        "    state_angVel = np.digitize(state[3], angvel_space)\n",
        "\n",
        "    done = False\n",
        "    episode_reward = 0\n",
        "\n",
        "    #Run till all the episodes are complete\n",
        "    while not done:\n",
        "      #Determine our policy based on epsilon greedy\n",
        "      action = epsilon_greedy_policy(q_table, (state_pos, state_vel, state_ang, state_angVel), epsilon)\n",
        "\n",
        "      #Take the chosen action and observe the new state\n",
        "      new_state, reward, done, info = env.step(action)\n",
        "      #Update on the new state stuff\n",
        "      new_state_pos = np.digitize(new_state[0], pos_space)\n",
        "      new_state_vel = np.digitize(new_state[1], vel_space)\n",
        "      new_state_ang = np.digitize(new_state[2], ang_space)\n",
        "      new_state_angVel = np.digitize(new_state[3], angvel_space)\n",
        "\n",
        "      #Update our q table based on the formula\n",
        "      q_table[state_pos, state_vel, state_ang, state_angVel, action] = q_table[state_pos, state_vel, state_ang, state_angVel, action] + learning_rate * (reward + gamma * np.max(q_table[new_state_pos, new_state_vel, new_state_ang, new_state_angVel, :]) -  q_table[state_pos, state_vel, state_ang, state_angVel, action])\n",
        "\n",
        "      #update the current state to the new state\n",
        "      state = new_state\n",
        "      state_pos = new_state_pos\n",
        "      state_vel = new_state_vel\n",
        "      state_ang = new_state_ang\n",
        "      state_angVel = new_state_angVel\n",
        "      #Update our rewards for this episode\n",
        "      episode_reward += reward\n",
        "\n",
        "    #Update our rewards per episode array\n",
        "    reward_per_episode.append(episode_reward)\n",
        "    #Update total reward\n",
        "    total_reward += episode_reward\n",
        "    #Print out progress every X episodes\n",
        "    mean_rewards = np.mean(reward_per_episode[len(reward_per_episode)-episode_steps:])\n",
        "    #Print out the results every \"episode_steps\" -> default value 100\n",
        "    if episode % episode_steps == 0:\n",
        "      print(f'Episode: {episode} Episode Reward: {episode_reward}  Epsilon: {epsilon:0.2f}  Mean Rewards for past {episode_steps} episodes : {mean_rewards:0.1f}')\n",
        "\n",
        "    #Decreate epsilon by decay rate\n",
        "    #epsilon = max(epsilon - epsilon_decay_rate, 0)\n",
        "  env.close()\n",
        "  return q_table"
      ]
    },
    {
      "cell_type": "code",
      "execution_count": 117,
      "metadata": {
        "colab": {
          "base_uri": "https://localhost:8080/",
          "height": 518,
          "referenced_widgets": [
            "ba1a253b4ace4d20b1d8afd57416be52",
            "d29885610c074a419a477075569b9681",
            "e23e255cbf974ad7935a4283381d5800",
            "59a5f7624eb44365b33a9638022b45bb",
            "988a71ed9a254545ae971c5174400e17",
            "85d9a9090cc74efab67a47b6067883d1",
            "f03e9f9c211442de89f291aa31cb0f88",
            "f0dd7ec4257b4f65a499f45911bae80f",
            "c7e6ada4b69a4fc0baa78a5f885746ea",
            "3070982b25444c52b17f298b97b42e29",
            "e30ad38d255744fcab78c2065fa74819"
          ]
        },
        "id": "VZKXsty3M90S",
        "outputId": "2fb3ff89-af82-4066-d456-021e5b8bcea9"
      },
      "outputs": [
        {
          "data": {
            "application/vnd.jupyter.widget-view+json": {
              "model_id": "f93e2d6666e54d66b23d262b142f9a03",
              "version_major": 2,
              "version_minor": 0
            },
            "text/plain": [
              "  0%|          | 0/25000 [00:00<?, ?it/s]"
            ]
          },
          "metadata": {},
          "output_type": "display_data"
        },
        {
          "name": "stdout",
          "output_type": "stream",
          "text": [
            "Episode: 0 Episode Reward: 20.0  Epsilon: 1.00  Mean Rewards for past 1000 episodes : 20.0\n",
            "Episode: 1000 Episode Reward: 14.0  Epsilon: 0.91  Mean Rewards for past 1000 episodes : 23.8\n",
            "Episode: 2000 Episode Reward: 17.0  Epsilon: 0.82  Mean Rewards for past 1000 episodes : 29.5\n",
            "Episode: 3000 Episode Reward: 65.0  Epsilon: 0.74  Mean Rewards for past 1000 episodes : 34.8\n",
            "Episode: 4000 Episode Reward: 17.0  Epsilon: 0.67  Mean Rewards for past 1000 episodes : 41.2\n",
            "Episode: 5000 Episode Reward: 33.0  Epsilon: 0.61  Mean Rewards for past 1000 episodes : 48.0\n",
            "Episode: 6000 Episode Reward: 75.0  Epsilon: 0.55  Mean Rewards for past 1000 episodes : 57.5\n",
            "Episode: 7000 Episode Reward: 124.0  Epsilon: 0.50  Mean Rewards for past 1000 episodes : 68.2\n",
            "Episode: 8000 Episode Reward: 119.0  Epsilon: 0.45  Mean Rewards for past 1000 episodes : 80.1\n",
            "Episode: 9000 Episode Reward: 32.0  Epsilon: 0.41  Mean Rewards for past 1000 episodes : 90.3\n",
            "Episode: 10000 Episode Reward: 177.0  Epsilon: 0.37  Mean Rewards for past 1000 episodes : 108.8\n",
            "Episode: 11000 Episode Reward: 118.0  Epsilon: 0.34  Mean Rewards for past 1000 episodes : 121.8\n",
            "Episode: 12000 Episode Reward: 199.0  Epsilon: 0.31  Mean Rewards for past 1000 episodes : 133.7\n",
            "Episode: 13000 Episode Reward: 223.0  Epsilon: 0.28  Mean Rewards for past 1000 episodes : 157.1\n",
            "Episode: 14000 Episode Reward: 491.0  Epsilon: 0.25  Mean Rewards for past 1000 episodes : 185.0\n",
            "Episode: 15000 Episode Reward: 275.0  Epsilon: 0.23  Mean Rewards for past 1000 episodes : 228.6\n",
            "Episode: 16000 Episode Reward: 342.0  Epsilon: 0.21  Mean Rewards for past 1000 episodes : 254.8\n",
            "Episode: 17000 Episode Reward: 144.0  Epsilon: 0.19  Mean Rewards for past 1000 episodes : 245.9\n",
            "Episode: 18000 Episode Reward: 312.0  Epsilon: 0.17  Mean Rewards for past 1000 episodes : 260.8\n",
            "Episode: 19000 Episode Reward: 427.0  Epsilon: 0.16  Mean Rewards for past 1000 episodes : 249.0\n",
            "Episode: 20000 Episode Reward: 317.0  Epsilon: 0.14  Mean Rewards for past 1000 episodes : 269.6\n",
            "Episode: 21000 Episode Reward: 193.0  Epsilon: 0.13  Mean Rewards for past 1000 episodes : 268.9\n",
            "Episode: 22000 Episode Reward: 140.0  Epsilon: 0.12  Mean Rewards for past 1000 episodes : 284.7\n",
            "Episode: 23000 Episode Reward: 317.0  Epsilon: 0.11  Mean Rewards for past 1000 episodes : 246.1\n",
            "Episode: 24000 Episode Reward: 500.0  Epsilon: 0.10  Mean Rewards for past 1000 episodes : 297.8\n"
          ]
        }
      ],
      "source": [
        "#Train the table\n",
        "#initialize q_table cart\n",
        "q_table_cart = initialize_qtable()\n",
        "q_table_cart = train_agent_default(env, num_episodes, learning_rate, gamma, max_epsilon, epsilon_decay_rate, q_table_cart)"
      ]
    },
    {
      "cell_type": "code",
      "execution_count": 118,
      "metadata": {
        "colab": {
          "base_uri": "https://localhost:8080/",
          "height": 405
        },
        "id": "MlEOi-rQjOvQ",
        "outputId": "80205835-cdf9-493b-fee9-33f2c44599de"
      },
      "outputs": [
        {
          "data": {
            "text/plain": [
              "[<matplotlib.lines.Line2D at 0x27e10cc0c90>]"
            ]
          },
          "execution_count": 118,
          "metadata": {},
          "output_type": "execute_result"
        },
        {
          "data": {
            "image/png": "[encoded data removed]",
            "text/plain": [
              "<Figure size 500x400 with 1 Axes>"
            ]
          },
          "metadata": {},
          "output_type": "display_data"
        }
      ],
      "source": [
        "mean_rewards = []\n",
        "for t in range(num_episodes):\n",
        "    mean_rewards.append(np.mean(reward_per_episode[max(0, t-100):(t+1)]))\n",
        "\n",
        "plt.figure(figsize = (5,4))\n",
        "plt.xlabel(\"Episodes\")\n",
        "plt.ylabel(\"Mean Reward\")\n",
        "plt.plot(mean_rewards)"
      ]
    },
    {
      "cell_type": "markdown",
      "metadata": {
        "id": "rUXrH2IGjOvR"
      },
      "source": [
        "### 2. Training of Agent till Desired Mean Reward\n",
        "\n",
        "This approach trains the agent until the mean rewards has hit the amount defined in the hyperparameters, and also serves as a guide to approximate how many episodes are needed to achieve a mean reward to help finetune our hyperparameters"
      ]
    },
    {
      "cell_type": "code",
      "execution_count": 119,
      "metadata": {
        "id": "d7tCie0pjOvR"
      },
      "outputs": [],
      "source": [
        "#Setup some parameters for this type of training\n",
        "reward_per_episode_mean = []\n",
        "def train_agent_to_desired_mean(env, learning_rate, gamma, max_epsilon, epsilon_decay_rate, q_table):\n",
        "  #Starting from episode 1\n",
        "  episode = 0\n",
        "  while True:\n",
        "    #Calculate the new epsilon using a formula that decreases exponentially through episodes\n",
        "    epsilon = min_epsilon + (max_epsilon - min_epsilon) * np.exp(-epsilon_decay_rate * episode)\n",
        "    #Reset the environment\n",
        "    state = env.reset()\n",
        "    #Digitize and get the state data\n",
        "    state_pos = np.digitize(state[0], pos_space)\n",
        "    state_vel = np.digitize(state[1], vel_space)\n",
        "    state_ang = np.digitize(state[2], ang_space)\n",
        "    state_angVel = np.digitize(state[3], angvel_space)\n",
        "\n",
        "    done = False\n",
        "    episode_reward = 0\n",
        "\n",
        "    #Run till we have hit our desired episode rewards\n",
        "    while not done:\n",
        "      #Determine our policy based on epsilon greedy\n",
        "      action = epsilon_greedy_policy(q_table, (state_pos, state_vel, state_ang, state_angVel), epsilon)\n",
        "\n",
        "      #Take the chosen action and observe the new state\n",
        "      new_state, reward, done, info = env.step(action)\n",
        "      #Update on the new state stuff\n",
        "      new_state_pos = np.digitize(new_state[0], pos_space)\n",
        "      new_state_vel = np.digitize(new_state[1], vel_space)\n",
        "      new_state_ang = np.digitize(new_state[2], ang_space)\n",
        "      new_state_angVel = np.digitize(new_state[3], angvel_space)\n",
        "\n",
        "      #Update our qtable based on this state\n",
        "      q_table[state_pos, state_vel, state_ang, state_angVel, action] = q_table[state_pos, state_vel, state_ang, state_angVel, action] + learning_rate * (reward + gamma * np.max(q_table[new_state_pos, new_state_vel, new_state_ang, new_state_angVel, :]) -  q_table[state_pos, state_vel, state_ang, state_angVel, action])\n",
        "\n",
        "      #update the current state to the new state\n",
        "      state = new_state\n",
        "      state_pos = new_state_pos\n",
        "      state_vel = new_state_vel\n",
        "      state_ang = new_state_ang\n",
        "      state_angVel = new_state_angVel\n",
        "\n",
        "      #Update our rewards for this episode\n",
        "      episode_reward += reward\n",
        "\n",
        "    #Append this reward into the episode dynamic list\n",
        "    reward_per_episode_mean.append(episode_reward)\n",
        "    #Calculate the mean rewards for the past 100 episodes\n",
        "    mean_rewards = np.mean(reward_per_episode_mean[len(reward_per_episode_mean)-episode_steps:])\n",
        "    #Print out the results every \"episode_steps\" -> default value 100\n",
        "    if episode % episode_steps == 0:\n",
        "      print(f'Episode: {episode} Episode Reward: {episode_reward}  Epsilon: {epsilon:0.2f}  Mean Rewards for past {episode_steps} episodes : {mean_rewards:0.1f}')\n",
        "\n",
        "    #Break if we have reached our desired mean (set in hyper parameters)\n",
        "    if mean_rewards >= desired_mean_reward:\n",
        "      print(f'Finished at Episode: {episode} Episode Reward: {episode_reward}  Epsilon: {epsilon:0.2f}  Mean Rewards for past {episode_steps} episodes : {mean_rewards:0.1f}')\n",
        "      break\n",
        "\n",
        "    #Increment our episode\n",
        "    episode += 1\n",
        "  env.close()\n",
        "  return q_table\n"
      ]
    },
    {
      "cell_type": "code",
      "execution_count": 120,
      "metadata": {
        "colab": {
          "base_uri": "https://localhost:8080/"
        },
        "id": "ga-UnPc5jOvR",
        "outputId": "46af04df-3b2f-4def-97ed-032a1c147bad"
      },
      "outputs": [
        {
          "name": "stdout",
          "output_type": "stream",
          "text": [
            "Episode: 0 Episode Reward: 44.0  Epsilon: 1.00  Mean Rewards for past 1000 episodes : 44.0\n",
            "Episode: 1000 Episode Reward: 16.0  Epsilon: 0.91  Mean Rewards for past 1000 episodes : 22.8\n",
            "Episode: 2000 Episode Reward: 35.0  Epsilon: 0.82  Mean Rewards for past 1000 episodes : 28.9\n",
            "Episode: 3000 Episode Reward: 15.0  Epsilon: 0.74  Mean Rewards for past 1000 episodes : 34.4\n",
            "Episode: 4000 Episode Reward: 36.0  Epsilon: 0.67  Mean Rewards for past 1000 episodes : 43.6\n",
            "Episode: 5000 Episode Reward: 77.0  Epsilon: 0.61  Mean Rewards for past 1000 episodes : 52.2\n",
            "Episode: 6000 Episode Reward: 66.0  Epsilon: 0.55  Mean Rewards for past 1000 episodes : 55.6\n",
            "Episode: 7000 Episode Reward: 14.0  Epsilon: 0.50  Mean Rewards for past 1000 episodes : 63.1\n",
            "Episode: 8000 Episode Reward: 167.0  Epsilon: 0.45  Mean Rewards for past 1000 episodes : 75.8\n",
            "Episode: 9000 Episode Reward: 63.0  Epsilon: 0.41  Mean Rewards for past 1000 episodes : 93.5\n",
            "Episode: 10000 Episode Reward: 175.0  Epsilon: 0.37  Mean Rewards for past 1000 episodes : 101.8\n",
            "Episode: 11000 Episode Reward: 196.0  Epsilon: 0.34  Mean Rewards for past 1000 episodes : 122.7\n",
            "Episode: 12000 Episode Reward: 105.0  Epsilon: 0.31  Mean Rewards for past 1000 episodes : 142.9\n",
            "Episode: 13000 Episode Reward: 193.0  Epsilon: 0.28  Mean Rewards for past 1000 episodes : 166.0\n",
            "Episode: 14000 Episode Reward: 304.0  Epsilon: 0.25  Mean Rewards for past 1000 episodes : 193.8\n",
            "Episode: 15000 Episode Reward: 52.0  Epsilon: 0.23  Mean Rewards for past 1000 episodes : 217.3\n",
            "Episode: 16000 Episode Reward: 348.0  Epsilon: 0.21  Mean Rewards for past 1000 episodes : 230.0\n",
            "Episode: 17000 Episode Reward: 164.0  Epsilon: 0.19  Mean Rewards for past 1000 episodes : 257.0\n",
            "Episode: 18000 Episode Reward: 166.0  Epsilon: 0.17  Mean Rewards for past 1000 episodes : 287.9\n",
            "Episode: 19000 Episode Reward: 500.0  Epsilon: 0.16  Mean Rewards for past 1000 episodes : 307.2\n",
            "Episode: 20000 Episode Reward: 284.0  Epsilon: 0.14  Mean Rewards for past 1000 episodes : 296.4\n",
            "Episode: 21000 Episode Reward: 103.0  Epsilon: 0.13  Mean Rewards for past 1000 episodes : 310.1\n",
            "Episode: 22000 Episode Reward: 423.0  Epsilon: 0.12  Mean Rewards for past 1000 episodes : 303.5\n",
            "Episode: 23000 Episode Reward: 500.0  Epsilon: 0.11  Mean Rewards for past 1000 episodes : 353.6\n",
            "Episode: 24000 Episode Reward: 338.0  Epsilon: 0.10  Mean Rewards for past 1000 episodes : 326.0\n",
            "Episode: 25000 Episode Reward: 500.0  Epsilon: 0.09  Mean Rewards for past 1000 episodes : 331.6\n",
            "Episode: 26000 Episode Reward: 500.0  Epsilon: 0.08  Mean Rewards for past 1000 episodes : 371.5\n",
            "Episode: 27000 Episode Reward: 252.0  Epsilon: 0.08  Mean Rewards for past 1000 episodes : 378.8\n",
            "Episode: 28000 Episode Reward: 500.0  Epsilon: 0.07  Mean Rewards for past 1000 episodes : 387.8\n",
            "Episode: 29000 Episode Reward: 260.0  Epsilon: 0.06  Mean Rewards for past 1000 episodes : 366.8\n",
            "Episode: 30000 Episode Reward: 198.0  Epsilon: 0.06  Mean Rewards for past 1000 episodes : 400.4\n",
            "Episode: 31000 Episode Reward: 345.0  Epsilon: 0.05  Mean Rewards for past 1000 episodes : 439.0\n",
            "Episode: 32000 Episode Reward: 500.0  Epsilon: 0.05  Mean Rewards for past 1000 episodes : 463.3\n",
            "Finished at Episode: 32341 Episode Reward: 500.0  Epsilon: 0.05  Mean Rewards for past 1000 episodes : 480.1\n"
          ]
        }
      ],
      "source": [
        "#Train the table\n",
        "#initialize q_table cart\n",
        "q_table_cart_mean = initialize_qtable()\n",
        "q_table_cart_mean = train_agent_to_desired_mean(env, learning_rate, gamma, max_epsilon, epsilon_decay_rate, q_table_cart_mean)"
      ]
    },
    {
      "cell_type": "code",
      "execution_count": 121,
      "metadata": {
        "colab": {
          "base_uri": "https://localhost:8080/",
          "height": 405
        },
        "id": "zhzEPmKnjOvR",
        "outputId": "aa5bbe4a-29b3-4dd5-9203-1991df9cc7e3"
      },
      "outputs": [
        {
          "data": {
            "text/plain": [
              "[<matplotlib.lines.Line2D at 0x27e0bfd0890>]"
            ]
          },
          "execution_count": 121,
          "metadata": {},
          "output_type": "execute_result"
        },
        {
          "data": {
            "image/png": "[encoded data removed]",
            "text/plain": [
              "<Figure size 500x400 with 1 Axes>"
            ]
          },
          "metadata": {},
          "output_type": "display_data"
        }
      ],
      "source": [
        "mean_rewards = []\n",
        "for t in range(len(reward_per_episode_mean)):\n",
        "    mean_rewards.append(np.mean(reward_per_episode_mean[max(0, t-100):(t+1)]))\n",
        "plt.figure(figsize = (5,4))\n",
        "plt.xlabel(\"Episodes\")\n",
        "plt.ylabel(\"Mean Reward\")\n",
        "plt.plot(mean_rewards)"
      ]
    },
    {
      "cell_type": "markdown",
      "metadata": {
        "id": "AjdjSHgojOvR"
      },
      "source": [
        "### Answer for Task 1 : Sampling random state and outputting chosen action\n",
        "---"
      ]
    },
    {
      "cell_type": "code",
      "execution_count": 122,
      "metadata": {
        "colab": {
          "base_uri": "https://localhost:8080/",
          "height": 402
        },
        "id": "kelG5OoljOvR",
        "outputId": "dbbff70e-651e-4374-acba-3fc7de169746"
      },
      "outputs": [
        {
          "data": {
            "image/png": "[encoded data removed]",
            "text/plain": [
              "<Figure size 640x480 with 1 Axes>"
            ]
          },
          "metadata": {},
          "output_type": "display_data"
        },
        {
          "name": "stdout",
          "output_type": "stream",
          "text": [
            "Observation:  [ 0.02486226  0.02210482 -0.02335174  0.03840035]\n",
            "Chosen action:  0\n"
          ]
        }
      ],
      "source": [
        "#Remake our environment\n",
        "env = gym.make(\"CartPole-v1\")\n",
        "#Reset the environment and get our initial state\n",
        "state = env.reset()\n",
        "\n",
        "#Render the current state\n",
        "img = env.render(mode=\"rgb_array\")\n",
        "#Hide the ticks\n",
        "plt.xticks([])  # Set label locations.\n",
        "plt.yticks([])\n",
        "plt.imshow(img)\n",
        "plt.show()\n",
        "#\n",
        "#Print out the state\n",
        "print(\"Observation: \", state)\n",
        "#Get the discrete values from the state\n",
        "state_pos = np.digitize(state[0], pos_space)\n",
        "state_vel = np.digitize(state[1], vel_space)\n",
        "state_ang = np.digitize(state[2], ang_space)\n",
        "state_angVel = np.digitize(state[3], angvel_space)\n",
        "\n",
        "#Get the action using our q_table calculated\n",
        "action = np.argmax(q_table_cart_mean[state_pos, state_vel, state_ang, state_angVel, :])\n",
        "\n",
        "#Print chosen action\n",
        "print(\"Chosen action: \", action)"
      ]
    },
    {
      "cell_type": "markdown",
      "metadata": {
        "id": "1lb0GuJqjOvR"
      },
      "source": [
        "From the above diagram, the cartpole is slightly bent towards the left, which means the cartpole should move left to balance it, which means our agent is correct in this decision."
      ]
    },
    {
      "cell_type": "markdown",
      "metadata": {
        "id": "88Ev9PEyn6ft"
      },
      "source": [
        "## Task 2 - Effectiveness of Agent\n",
        "---\n",
        "\n",
        "For this task, use the agent developed in Task 1 to play the game for 100 episodes (refer to tutorial for how to play a round), record the cumulative reward for each round, and plot the reward for each round. A sample plotting code is given below. Note that you must include code to play for 100 episodes and use the code to obtain round_results for plotting. DO NOT record the round results in advance and paste the results to the notebook."
      ]
    },
    {
      "cell_type": "markdown",
      "metadata": {
        "id": "wKJVGnBjmfPk"
      },
      "source": [
        "**Episode End**\n",
        "1. The episode ends if any one of the following occurs:\n",
        "2. Termination: Pole Angle is greater than ±12°\n",
        "3. Termination: Cart Position is greater than ±2.4 (center of the cart reaches the edge of the display)\n",
        "4. Truncation: Episode length is greater than 500.\n"
      ]
    },
    {
      "cell_type": "code",
      "execution_count": 123,
      "metadata": {
        "id": "Vq3cFbicn8nD"
      },
      "outputs": [],
      "source": [
        "#Store the rewards stored in each episode\n",
        "def evaluate_agent(env, q_table, n_eval_episodes = 100):\n",
        "  episode_rewards = np.zeros(100)\n",
        "  for episode in trange(n_eval_episodes):\n",
        "    #Reset the environment\n",
        "    state = env.reset()\n",
        "\n",
        "    #Get each discrete variable\n",
        "    state_pos = np.digitize(state[0], pos_space)\n",
        "    state_vel = np.digitize(state[1], vel_space)\n",
        "    state_ang = np.digitize(state[2], ang_space)\n",
        "    state_angVel = np.digitize(state[3], angvel_space)\n",
        "\n",
        "    done = False\n",
        "    #Store the reward in each episode\n",
        "    episode_reward = 0\n",
        "\n",
        "    #Run each episode until it ends using our agent\n",
        "    while not done:\n",
        "      #Use our previously calculated q_table to always choose the best action instead of our greedy epsilon for training\n",
        "      action = np.argmax(q_table[state_pos, state_vel, state_ang, state_angVel, :])\n",
        "\n",
        "      #Take the chosen action and observe the new state\n",
        "      new_state, reward, done, info = env.step(action)\n",
        "      #Update on the new state stuff\n",
        "      new_state_pos = np.digitize(new_state[0], pos_space)\n",
        "      new_state_vel = np.digitize(new_state[1], vel_space)\n",
        "      new_state_ang = np.digitize(new_state[2], ang_space)\n",
        "      new_state_angVel = np.digitize(new_state[3], angvel_space)\n",
        "\n",
        "      #Add the reward into our current episode reward\n",
        "      episode_reward += reward\n",
        "\n",
        "      #Then update our states and previous states\n",
        "      state = new_state\n",
        "      state_pos = new_state_pos\n",
        "      state_vel = new_state_vel\n",
        "      state_ang = new_state_ang\n",
        "      state_angVel = new_state_angVel\n",
        "\n",
        "\n",
        "    #Append the reward gotten in this episode into our total reward arrays\n",
        "    episode_rewards[episode] = (episode_reward)\n",
        "\n",
        "  #Calculate the mean and std of our episode rewards array\n",
        "  mean_reward = np.mean(episode_rewards)\n",
        "  std_reward = np.std(episode_rewards)\n",
        "  env.close()\n",
        "  return episode_rewards, mean_reward, std_reward\n"
      ]
    },
    {
      "cell_type": "code",
      "execution_count": 140,
      "metadata": {
        "colab": {
          "base_uri": "https://localhost:8080/",
          "height": 49,
          "referenced_widgets": [
            "76dd0564f14649f7881b88352bec6b2a",
            "7964879c0dce40c4a534f5055234ae5d",
            "3e2b8a778e3847d986849adace6ec5d3",
            "ab09b6e3f07840e7b5947d3cd091ffd2",
            "0ba401f1a68042a18279326da96a7a0b",
            "593e316544ce43fda9a512b473db8141",
            "2aae90b9f3534141917974a56959b279",
            "c3167b560f4c428f9b2c619a6b06269e",
            "5708bcffb96544b48874f994b7ee43c9",
            "4db8237160da4ad49c4d527612f0b6d9",
            "7b46c59f0c2545588e439630c0af8f64"
          ]
        },
        "id": "oAhEzWlzjOvS",
        "outputId": "b7d15031-e216-4b11-e89a-91794e3f11df"
      },
      "outputs": [
        {
          "data": {
            "application/vnd.jupyter.widget-view+json": {
              "model_id": "fc989d907ec24651acf4b74342582e3e",
              "version_major": 2,
              "version_minor": 0
            },
            "text/plain": [
              "  0%|          | 0/100 [00:00<?, ?it/s]"
            ]
          },
          "metadata": {},
          "output_type": "display_data"
        },
        {
          "name": "stdout",
          "output_type": "stream",
          "text": [
            "Mean_reward=496.86 +/- 17.98\n"
          ]
        }
      ],
      "source": [
        "episode_rewards, mean_reward, std_reward = evaluate_agent(env, q_table_cart)\n",
        "print(f\"Mean_reward={mean_reward:.2f} +/- {std_reward:.2f}\")"
      ]
    },
    {
      "cell_type": "code",
      "execution_count": 141,
      "metadata": {
        "colab": {
          "base_uri": "https://localhost:8080/",
          "height": 507
        },
        "id": "R8cTvPV5jOvU",
        "outputId": "b521aac5-0710-4761-dd81-987c6ad77c8d"
      },
      "outputs": [
        {
          "name": "stdout",
          "output_type": "stream",
          "text": [
            "Average cumulative reward: 496.86\n",
            "\n"
          ]
        },
        {
          "data": {
            "image/png": "[encoded data removed]",
            "text/plain": [
              "<Figure size 640x480 with 1 Axes>"
            ]
          },
          "metadata": {},
          "output_type": "display_data"
        }
      ],
      "source": [
        "print(\"Average cumulative reward:\", episode_rewards.mean())\n",
        "print(\"\")\n",
        "plt.title('Cumulative reward for each episode')\n",
        "plt.ylabel('Cumulative reward')\n",
        "plt.xlabel('episode')\n",
        "plt.plot(episode_rewards)\n",
        "plt.show()\n"
      ]
    },
    {
      "cell_type": "markdown",
      "metadata": {
        "id": "TOoagQlOjOvU"
      },
      "source": [
        "## Task 3 - Render one episode played by the agent\n",
        "---\n",
        "\n"
      ]
    },
    {
      "cell_type": "code",
      "execution_count": 142,
      "metadata": {
        "colab": {
          "base_uri": "https://localhost:8080/",
          "height": 456
        },
        "id": "ZBiMsxcAk_TE",
        "outputId": "5990077a-cc8a-4bfc-b115-70a0388ecb3b"
      },
      "outputs": [
        {
          "name": "stderr",
          "output_type": "stream",
          "text": [
            "C:\\Users\\isaac\\AppData\\Local\\Packages\\PythonSoftwareFoundation.Python.3.11_qbz5n2kfra8p0\\LocalCache\\local-packages\\Python311\\site-packages\\gym\\utils\\passive_env_checker.py:241: DeprecationWarning: `np.bool8` is a deprecated alias for `np.bool_`.  (Deprecated NumPy 1.24)\n",
            "  if not isinstance(terminated, (bool, np.bool8)):\n"
          ]
        },
        {
          "data": {
            "text/html": [
              "<video alt=\"test\" autoplay\n",
              "                loop controls style=\"height: 400px;\">\n",
              "                <source src=\"data:video/mp4;base64,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\" type=\"video/mp4\" />\n",
              "             </video>"
            ],
            "text/plain": [
              "<IPython.core.display.HTML object>"
            ]
          },
          "metadata": {},
          "output_type": "display_data"
        }
      ],
      "source": [
        "env = RecordVideo(gym.make(\"CartPole-v1\"), \"./video\")\n",
        "state = env.reset()\n",
        "state_pos = np.digitize(state[0], pos_space)\n",
        "state_vel = np.digitize(state[1], vel_space)\n",
        "state_ang = np.digitize(state[2], ang_space)\n",
        "state_angVel = np.digitize(state[3], angvel_space)\n",
        "\n",
        "while True:\n",
        "    env.render()\n",
        "    #your agent goes here\n",
        "    action = np.argmax(q_table_cart[state_pos, state_vel, state_ang, state_angVel, :])\n",
        "    new_state, reward, done, info = env.step(action)\n",
        "    new_state_pos = np.digitize(new_state[0], pos_space)\n",
        "    new_state_vel = np.digitize(new_state[1], vel_space)\n",
        "    new_state_ang = np.digitize(new_state[2], ang_space)\n",
        "    new_state_angVel = np.digitize(new_state[3], angvel_space)\n",
        "    if done:\n",
        "      break\n",
        "\n",
        "    #update the current state to the new state\n",
        "    state = new_state\n",
        "    state_pos = new_state_pos\n",
        "    state_vel = new_state_vel\n",
        "    state_ang = new_state_ang\n",
        "    state_angVel = new_state_angVel\n",
        "env.close()\n",
        "show_video()\n"
      ]
    },
    {
      "cell_type": "code",
      "execution_count": null,
      "metadata": {
        "colab": {
          "base_uri": "https://localhost:8080/"
        },
        "id": "I_RPKNO6jOvV",
        "outputId": "c31e429b-66e1-49a2-9f6d-bcc112d41190"
      },
      "outputs": [],
      "source": []
    }
  ],
  "metadata": {
    "accelerator": "GPU",
    "colab": {
      "gpuType": "T4",
      "include_colab_link": true,
      "provenance": [],
      "toc_visible": true
    },
    "kernelspec": {
      "display_name": "gpu_env",
      "language": "python",
      "name": "python3"
    },
    "language_info": {
      "codemirror_mode": {
        "name": "ipython",
        "version": 3
      },
      "file_extension": ".py",
      "mimetype": "text/x-python",
      "name": "python",
      "nbconvert_exporter": "python",
      "pygments_lexer": "ipython3",
      "version": "3.11.8"
    },
    "widgets": {
      "application/vnd.jupyter.widget-state+json": {
        "0ba401f1a68042a18279326da96a7a0b": {
          "model_module": "@jupyter-widgets/base",
          "model_module_version": "1.2.0",
          "model_name": "LayoutModel",
          "state": {
            "_model_module": "@jupyter-widgets/base",
            "_model_module_version": "1.2.0",
            "_model_name": "LayoutModel",
            "_view_count": null,
            "_view_module": "@jupyter-widgets/base",
            "_view_module_version": "1.2.0",
            "_view_name": "LayoutView",
            "align_content": null,
            "align_items": null,
            "align_self": null,
            "border": null,
            "bottom": null,
            "display": null,
            "flex": null,
            "flex_flow": null,
            "grid_area": null,
            "grid_auto_columns": null,
            "grid_auto_flow": null,
            "grid_auto_rows": null,
            "grid_column": null,
            "grid_gap": null,
            "grid_row": null,
            "grid_template_areas": null,
            "grid_template_columns": null,
            "grid_template_rows": null,
            "height": null,
            "justify_content": null,
            "justify_items": null,
            "left": null,
            "margin": null,
            "max_height": null,
            "max_width": null,
            "min_height": null,
            "min_width": null,
            "object_fit": null,
            "object_position": null,
            "order": null,
            "overflow": null,
            "overflow_x": null,
            "overflow_y": null,
            "padding": null,
            "right": null,
            "top": null,
            "visibility": null,
            "width": null
          }
        },
        "2aae90b9f3534141917974a56959b279": {
          "model_module": "@jupyter-widgets/controls",
          "model_module_version": "1.5.0",
          "model_name": "DescriptionStyleModel",
          "state": {
            "_model_module": "@jupyter-widgets/controls",
            "_model_module_version": "1.5.0",
            "_model_name": "DescriptionStyleModel",
            "_view_count": null,
            "_view_module": "@jupyter-widgets/base",
            "_view_module_version": "1.2.0",
            "_view_name": "StyleView",
            "description_width": ""
          }
        },
        "3070982b25444c52b17f298b97b42e29": {
          "model_module": "@jupyter-widgets/base",
          "model_module_version": "1.2.0",
          "model_name": "LayoutModel",
          "state": {
            "_model_module": "@jupyter-widgets/base",
            "_model_module_version": "1.2.0",
            "_model_name": "LayoutModel",
            "_view_count": null,
            "_view_module": "@jupyter-widgets/base",
            "_view_module_version": "1.2.0",
            "_view_name": "LayoutView",
            "align_content": null,
            "align_items": null,
            "align_self": null,
            "border": null,
            "bottom": null,
            "display": null,
            "flex": null,
            "flex_flow": null,
            "grid_area": null,
            "grid_auto_columns": null,
            "grid_auto_flow": null,
            "grid_auto_rows": null,
            "grid_column": null,
            "grid_gap": null,
            "grid_row": null,
            "grid_template_areas": null,
            "grid_template_columns": null,
            "grid_template_rows": null,
            "height": null,
            "justify_content": null,
            "justify_items": null,
            "left": null,
            "margin": null,
            "max_height": null,
            "max_width": null,
            "min_height": null,
            "min_width": null,
            "object_fit": null,
            "object_position": null,
            "order": null,
            "overflow": null,
            "overflow_x": null,
            "overflow_y": null,
            "padding": null,
            "right": null,
            "top": null,
            "visibility": null,
            "width": null
          }
        },
        "3e2b8a778e3847d986849adace6ec5d3": {
          "model_module": "@jupyter-widgets/controls",
          "model_module_version": "1.5.0",
          "model_name": "FloatProgressModel",
          "state": {
            "_dom_classes": [],
            "_model_module": "@jupyter-widgets/controls",
            "_model_module_version": "1.5.0",
            "_model_name": "FloatProgressModel",
            "_view_count": null,
            "_view_module": "@jupyter-widgets/controls",
            "_view_module_version": "1.5.0",
            "_view_name": "ProgressView",
            "bar_style": "success",
            "description": "",
            "description_tooltip": null,
            "layout": "IPY_MODEL_c3167b560f4c428f9b2c619a6b06269e",
            "max": 100,
            "min": 0,
            "orientation": "horizontal",
            "style": "IPY_MODEL_5708bcffb96544b48874f994b7ee43c9",
            "value": 100
          }
        },
        "4db8237160da4ad49c4d527612f0b6d9": {
          "model_module": "@jupyter-widgets/base",
          "model_module_version": "1.2.0",
          "model_name": "LayoutModel",
          "state": {
            "_model_module": "@jupyter-widgets/base",
            "_model_module_version": "1.2.0",
            "_model_name": "LayoutModel",
            "_view_count": null,
            "_view_module": "@jupyter-widgets/base",
            "_view_module_version": "1.2.0",
            "_view_name": "LayoutView",
            "align_content": null,
            "align_items": null,
            "align_self": null,
            "border": null,
            "bottom": null,
            "display": null,
            "flex": null,
            "flex_flow": null,
            "grid_area": null,
            "grid_auto_columns": null,
            "grid_auto_flow": null,
            "grid_auto_rows": null,
            "grid_column": null,
            "grid_gap": null,
            "grid_row": null,
            "grid_template_areas": null,
            "grid_template_columns": null,
            "grid_template_rows": null,
            "height": null,
            "justify_content": null,
            "justify_items": null,
            "left": null,
            "margin": null,
            "max_height": null,
            "max_width": null,
            "min_height": null,
            "min_width": null,
            "object_fit": null,
            "object_position": null,
            "order": null,
            "overflow": null,
            "overflow_x": null,
            "overflow_y": null,
            "padding": null,
            "right": null,
            "top": null,
            "visibility": null,
            "width": null
          }
        },
        "5708bcffb96544b48874f994b7ee43c9": {
          "model_module": "@jupyter-widgets/controls",
          "model_module_version": "1.5.0",
          "model_name": "ProgressStyleModel",
          "state": {
            "_model_module": "@jupyter-widgets/controls",
            "_model_module_version": "1.5.0",
            "_model_name": "ProgressStyleModel",
            "_view_count": null,
            "_view_module": "@jupyter-widgets/base",
            "_view_module_version": "1.2.0",
            "_view_name": "StyleView",
            "bar_color": null,
            "description_width": ""
          }
        },
        "593e316544ce43fda9a512b473db8141": {
          "model_module": "@jupyter-widgets/base",
          "model_module_version": "1.2.0",
          "model_name": "LayoutModel",
          "state": {
            "_model_module": "@jupyter-widgets/base",
            "_model_module_version": "1.2.0",
            "_model_name": "LayoutModel",
            "_view_count": null,
            "_view_module": "@jupyter-widgets/base",
            "_view_module_version": "1.2.0",
            "_view_name": "LayoutView",
            "align_content": null,
            "align_items": null,
            "align_self": null,
            "border": null,
            "bottom": null,
            "display": null,
            "flex": null,
            "flex_flow": null,
            "grid_area": null,
            "grid_auto_columns": null,
            "grid_auto_flow": null,
            "grid_auto_rows": null,
            "grid_column": null,
            "grid_gap": null,
            "grid_row": null,
            "grid_template_areas": null,
            "grid_template_columns": null,
            "grid_template_rows": null,
            "height": null,
            "justify_content": null,
            "justify_items": null,
            "left": null,
            "margin": null,
            "max_height": null,
            "max_width": null,
            "min_height": null,
            "min_width": null,
            "object_fit": null,
            "object_position": null,
            "order": null,
            "overflow": null,
            "overflow_x": null,
            "overflow_y": null,
            "padding": null,
            "right": null,
            "top": null,
            "visibility": null,
            "width": null
          }
        },
        "59a5f7624eb44365b33a9638022b45bb": {
          "model_module": "@jupyter-widgets/controls",
          "model_module_version": "1.5.0",
          "model_name": "HTMLModel",
          "state": {
            "_dom_classes": [],
            "_model_module": "@jupyter-widgets/controls",
            "_model_module_version": "1.5.0",
            "_model_name": "HTMLModel",
            "_view_count": null,
            "_view_module": "@jupyter-widgets/controls",
            "_view_module_version": "1.5.0",
            "_view_name": "HTMLView",
            "description": "",
            "description_tooltip": null,
            "layout": "IPY_MODEL_3070982b25444c52b17f298b97b42e29",
            "placeholder": "​",
            "style": "IPY_MODEL_e30ad38d255744fcab78c2065fa74819",
            "value": " 25000/25000 [04:37&lt;00:00, 36.68it/s]"
          }
        },
        "76dd0564f14649f7881b88352bec6b2a": {
          "model_module": "@jupyter-widgets/controls",
          "model_module_version": "1.5.0",
          "model_name": "HBoxModel",
          "state": {
            "_dom_classes": [],
            "_model_module": "@jupyter-widgets/controls",
            "_model_module_version": "1.5.0",
            "_model_name": "HBoxModel",
            "_view_count": null,
            "_view_module": "@jupyter-widgets/controls",
            "_view_module_version": "1.5.0",
            "_view_name": "HBoxView",
            "box_style": "",
            "children": [
              "IPY_MODEL_7964879c0dce40c4a534f5055234ae5d",
              "IPY_MODEL_3e2b8a778e3847d986849adace6ec5d3",
              "IPY_MODEL_ab09b6e3f07840e7b5947d3cd091ffd2"
            ],
            "layout": "IPY_MODEL_0ba401f1a68042a18279326da96a7a0b"
          }
        },
        "7964879c0dce40c4a534f5055234ae5d": {
          "model_module": "@jupyter-widgets/controls",
          "model_module_version": "1.5.0",
          "model_name": "HTMLModel",
          "state": {
            "_dom_classes": [],
            "_model_module": "@jupyter-widgets/controls",
            "_model_module_version": "1.5.0",
            "_model_name": "HTMLModel",
            "_view_count": null,
            "_view_module": "@jupyter-widgets/controls",
            "_view_module_version": "1.5.0",
            "_view_name": "HTMLView",
            "description": "",
            "description_tooltip": null,
            "layout": "IPY_MODEL_593e316544ce43fda9a512b473db8141",
            "placeholder": "​",
            "style": "IPY_MODEL_2aae90b9f3534141917974a56959b279",
            "value": "100%"
          }
        },
        "7b46c59f0c2545588e439630c0af8f64": {
          "model_module": "@jupyter-widgets/controls",
          "model_module_version": "1.5.0",
          "model_name": "DescriptionStyleModel",
          "state": {
            "_model_module": "@jupyter-widgets/controls",
            "_model_module_version": "1.5.0",
            "_model_name": "DescriptionStyleModel",
            "_view_count": null,
            "_view_module": "@jupyter-widgets/base",
            "_view_module_version": "1.2.0",
            "_view_name": "StyleView",
            "description_width": ""
          }
        },
        "85d9a9090cc74efab67a47b6067883d1": {
          "model_module": "@jupyter-widgets/base",
          "model_module_version": "1.2.0",
          "model_name": "LayoutModel",
          "state": {
            "_model_module": "@jupyter-widgets/base",
            "_model_module_version": "1.2.0",
            "_model_name": "LayoutModel",
            "_view_count": null,
            "_view_module": "@jupyter-widgets/base",
            "_view_module_version": "1.2.0",
            "_view_name": "LayoutView",
            "align_content": null,
            "align_items": null,
            "align_self": null,
            "border": null,
            "bottom": null,
            "display": null,
            "flex": null,
            "flex_flow": null,
            "grid_area": null,
            "grid_auto_columns": null,
            "grid_auto_flow": null,
            "grid_auto_rows": null,
            "grid_column": null,
            "grid_gap": null,
            "grid_row": null,
            "grid_template_areas": null,
            "grid_template_columns": null,
            "grid_template_rows": null,
            "height": null,
            "justify_content": null,
            "justify_items": null,
            "left": null,
            "margin": null,
            "max_height": null,
            "max_width": null,
            "min_height": null,
            "min_width": null,
            "object_fit": null,
            "object_position": null,
            "order": null,
            "overflow": null,
            "overflow_x": null,
            "overflow_y": null,
            "padding": null,
            "right": null,
            "top": null,
            "visibility": null,
            "width": null
          }
        },
        "988a71ed9a254545ae971c5174400e17": {
          "model_module": "@jupyter-widgets/base",
          "model_module_version": "1.2.0",
          "model_name": "LayoutModel",
          "state": {
            "_model_module": "@jupyter-widgets/base",
            "_model_module_version": "1.2.0",
            "_model_name": "LayoutModel",
            "_view_count": null,
            "_view_module": "@jupyter-widgets/base",
            "_view_module_version": "1.2.0",
            "_view_name": "LayoutView",
            "align_content": null,
            "align_items": null,
            "align_self": null,
            "border": null,
            "bottom": null,
            "display": null,
            "flex": null,
            "flex_flow": null,
            "grid_area": null,
            "grid_auto_columns": null,
            "grid_auto_flow": null,
            "grid_auto_rows": null,
            "grid_column": null,
            "grid_gap": null,
            "grid_row": null,
            "grid_template_areas": null,
            "grid_template_columns": null,
            "grid_template_rows": null,
            "height": null,
            "justify_content": null,
            "justify_items": null,
            "left": null,
            "margin": null,
            "max_height": null,
            "max_width": null,
            "min_height": null,
            "min_width": null,
            "object_fit": null,
            "object_position": null,
            "order": null,
            "overflow": null,
            "overflow_x": null,
            "overflow_y": null,
            "padding": null,
            "right": null,
            "top": null,
            "visibility": null,
            "width": null
          }
        },
        "ab09b6e3f07840e7b5947d3cd091ffd2": {
          "model_module": "@jupyter-widgets/controls",
          "model_module_version": "1.5.0",
          "model_name": "HTMLModel",
          "state": {
            "_dom_classes": [],
            "_model_module": "@jupyter-widgets/controls",
            "_model_module_version": "1.5.0",
            "_model_name": "HTMLModel",
            "_view_count": null,
            "_view_module": "@jupyter-widgets/controls",
            "_view_module_version": "1.5.0",
            "_view_name": "HTMLView",
            "description": "",
            "description_tooltip": null,
            "layout": "IPY_MODEL_4db8237160da4ad49c4d527612f0b6d9",
            "placeholder": "​",
            "style": "IPY_MODEL_7b46c59f0c2545588e439630c0af8f64",
            "value": " 100/100 [00:15&lt;00:00, 24.77it/s]"
          }
        },
        "ba1a253b4ace4d20b1d8afd57416be52": {
          "model_module": "@jupyter-widgets/controls",
          "model_module_version": "1.5.0",
          "model_name": "HBoxModel",
          "state": {
            "_dom_classes": [],
            "_model_module": "@jupyter-widgets/controls",
            "_model_module_version": "1.5.0",
            "_model_name": "HBoxModel",
            "_view_count": null,
            "_view_module": "@jupyter-widgets/controls",
            "_view_module_version": "1.5.0",
            "_view_name": "HBoxView",
            "box_style": "",
            "children": [
              "IPY_MODEL_d29885610c074a419a477075569b9681",
              "IPY_MODEL_e23e255cbf974ad7935a4283381d5800",
              "IPY_MODEL_59a5f7624eb44365b33a9638022b45bb"
            ],
            "layout": "IPY_MODEL_988a71ed9a254545ae971c5174400e17"
          }
        },
        "c3167b560f4c428f9b2c619a6b06269e": {
          "model_module": "@jupyter-widgets/base",
          "model_module_version": "1.2.0",
          "model_name": "LayoutModel",
          "state": {
            "_model_module": "@jupyter-widgets/base",
            "_model_module_version": "1.2.0",
            "_model_name": "LayoutModel",
            "_view_count": null,
            "_view_module": "@jupyter-widgets/base",
            "_view_module_version": "1.2.0",
            "_view_name": "LayoutView",
            "align_content": null,
            "align_items": null,
            "align_self": null,
            "border": null,
            "bottom": null,
            "display": null,
            "flex": null,
            "flex_flow": null,
            "grid_area": null,
            "grid_auto_columns": null,
            "grid_auto_flow": null,
            "grid_auto_rows": null,
            "grid_column": null,
            "grid_gap": null,
            "grid_row": null,
            "grid_template_areas": null,
            "grid_template_columns": null,
            "grid_template_rows": null,
            "height": null,
            "justify_content": null,
            "justify_items": null,
            "left": null,
            "margin": null,
            "max_height": null,
            "max_width": null,
            "min_height": null,
            "min_width": null,
            "object_fit": null,
            "object_position": null,
            "order": null,
            "overflow": null,
            "overflow_x": null,
            "overflow_y": null,
            "padding": null,
            "right": null,
            "top": null,
            "visibility": null,
            "width": null
          }
        },
        "c7e6ada4b69a4fc0baa78a5f885746ea": {
          "model_module": "@jupyter-widgets/controls",
          "model_module_version": "1.5.0",
          "model_name": "ProgressStyleModel",
          "state": {
            "_model_module": "@jupyter-widgets/controls",
            "_model_module_version": "1.5.0",
            "_model_name": "ProgressStyleModel",
            "_view_count": null,
            "_view_module": "@jupyter-widgets/base",
            "_view_module_version": "1.2.0",
            "_view_name": "StyleView",
            "bar_color": null,
            "description_width": ""
          }
        },
        "d29885610c074a419a477075569b9681": {
          "model_module": "@jupyter-widgets/controls",
          "model_module_version": "1.5.0",
          "model_name": "HTMLModel",
          "state": {
            "_dom_classes": [],
            "_model_module": "@jupyter-widgets/controls",
            "_model_module_version": "1.5.0",
            "_model_name": "HTMLModel",
            "_view_count": null,
            "_view_module": "@jupyter-widgets/controls",
            "_view_module_version": "1.5.0",
            "_view_name": "HTMLView",
            "description": "",
            "description_tooltip": null,
            "layout": "IPY_MODEL_85d9a9090cc74efab67a47b6067883d1",
            "placeholder": "​",
            "style": "IPY_MODEL_f03e9f9c211442de89f291aa31cb0f88",
            "value": "100%"
          }
        },
        "e23e255cbf974ad7935a4283381d5800": {
          "model_module": "@jupyter-widgets/controls",
          "model_module_version": "1.5.0",
          "model_name": "FloatProgressModel",
          "state": {
            "_dom_classes": [],
            "_model_module": "@jupyter-widgets/controls",
            "_model_module_version": "1.5.0",
            "_model_name": "FloatProgressModel",
            "_view_count": null,
            "_view_module": "@jupyter-widgets/controls",
            "_view_module_version": "1.5.0",
            "_view_name": "ProgressView",
            "bar_style": "success",
            "description": "",
            "description_tooltip": null,
            "layout": "IPY_MODEL_f0dd7ec4257b4f65a499f45911bae80f",
            "max": 25000,
            "min": 0,
            "orientation": "horizontal",
            "style": "IPY_MODEL_c7e6ada4b69a4fc0baa78a5f885746ea",
            "value": 25000
          }
        },
        "e30ad38d255744fcab78c2065fa74819": {
          "model_module": "@jupyter-widgets/controls",
          "model_module_version": "1.5.0",
          "model_name": "DescriptionStyleModel",
          "state": {
            "_model_module": "@jupyter-widgets/controls",
            "_model_module_version": "1.5.0",
            "_model_name": "DescriptionStyleModel",
            "_view_count": null,
            "_view_module": "@jupyter-widgets/base",
            "_view_module_version": "1.2.0",
            "_view_name": "StyleView",
            "description_width": ""
          }
        },
        "f03e9f9c211442de89f291aa31cb0f88": {
          "model_module": "@jupyter-widgets/controls",
          "model_module_version": "1.5.0",
          "model_name": "DescriptionStyleModel",
          "state": {
            "_model_module": "@jupyter-widgets/controls",
            "_model_module_version": "1.5.0",
            "_model_name": "DescriptionStyleModel",
            "_view_count": null,
            "_view_module": "@jupyter-widgets/base",
            "_view_module_version": "1.2.0",
            "_view_name": "StyleView",
            "description_width": ""
          }
        },
        "f0dd7ec4257b4f65a499f45911bae80f": {
          "model_module": "@jupyter-widgets/base",
          "model_module_version": "1.2.0",
          "model_name": "LayoutModel",
          "state": {
            "_model_module": "@jupyter-widgets/base",
            "_model_module_version": "1.2.0",
            "_model_name": "LayoutModel",
            "_view_count": null,
            "_view_module": "@jupyter-widgets/base",
            "_view_module_version": "1.2.0",
            "_view_name": "LayoutView",
            "align_content": null,
            "align_items": null,
            "align_self": null,
            "border": null,
            "bottom": null,
            "display": null,
            "flex": null,
            "flex_flow": null,
            "grid_area": null,
            "grid_auto_columns": null,
            "grid_auto_flow": null,
            "grid_auto_rows": null,
            "grid_column": null,
            "grid_gap": null,
            "grid_row": null,
            "grid_template_areas": null,
            "grid_template_columns": null,
            "grid_template_rows": null,
            "height": null,
            "justify_content": null,
            "justify_items": null,
            "left": null,
            "margin": null,
            "max_height": null,
            "max_width": null,
            "min_height": null,
            "min_width": null,
            "object_fit": null,
            "object_position": null,
            "order": null,
            "overflow": null,
            "overflow_x": null,
            "overflow_y": null,
            "padding": null,
            "right": null,
            "top": null,
            "visibility": null,
            "width": null
          }
        }
      }
    }
  },
  "nbformat": 4,
  "nbformat_minor": 0
}
