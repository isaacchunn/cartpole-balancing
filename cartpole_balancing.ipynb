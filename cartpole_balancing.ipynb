{
  "cells": [
    {
      "cell_type": "markdown",
      "metadata": {
        "id": "view-in-github",
        "colab_type": "text"
      },
      "source": [
        "<a href=\"https://colab.research.google.com/github/isaacchunn/cartpole-balancing/blob/main/cartpole_balancing.ipynb\" target=\"_parent\"><img src=\"https://colab.research.google.com/assets/colab-badge.svg\" alt=\"Open In Colab\"/></a>"
      ]
    },
    {
      "cell_type": "markdown",
      "metadata": {
        "id": "6HclSkxrjOvJ"
      },
      "source": [
        "# Balancing a Pole on a Cart\n",
        "23S2 SC3000/CZ3005 Assignment 1\n",
        "\n",
        "Team Members:\n",
        "\n",
        "1. Isaac Chun Jun Heng U2221389B\n",
        "2. J'sen Ong Jia Xuan U2220457J\n",
        "3. Marcus Ho Jian Feng"
      ]
    },
    {
      "cell_type": "markdown",
      "metadata": {
        "id": "WofLS_NJjOvL"
      },
      "source": [
        "### References\n",
        "\n",
        "1. https://github.com/openai/gym/blob/master/gym/envs/classic_control/cartpole.py\n",
        "    - Usage: To understand more about cartpole environment and how rewards are given.\n",
        "\n",
        "2. https://www.youtube.com/watch?v=nOBm4aYEYR4&ab_channel=YannicKilcher\n",
        "    - Usage: Understanding Q Learning fundamentals and how it works / updating q-tables\n",
        "\n",
        "3. https://www.datacamp.com/tutorial/introduction-q-learning-beginner-tutorial\n",
        "    - Usage: Practice Q Learning on Discrete environments such as Frozen Lake and help us setup the base for notebook on what to import and how to render videos and gifs\n"
      ]
    },
    {
      "cell_type": "markdown",
      "metadata": {
        "id": "z0XvKdbtjOvM"
      },
      "source": [
        "### Importing Libraries"
      ]
    },
    {
      "cell_type": "code",
      "execution_count": 50,
      "metadata": {
        "id": "oglE_xDO6DPe"
      },
      "outputs": [],
      "source": [
        "#Gymnasium\n",
        "import gym\n",
        "from gym import logger as gymlogger\n",
        "from gym.wrappers import RecordVideo\n",
        "from gym.error import DependencyNotInstalled\n",
        "gymlogger.set_level(40) #error only\n",
        "#I dont think we use tensorflow though\n",
        "import tensorflow as tf\n",
        "#Graph plotting stuff\n",
        "import numpy as np\n",
        "import matplotlib.pyplot as plt\n",
        "%matplotlib inline\n",
        "#Globals and os for file paths\n",
        "import glob\n",
        "import io\n",
        "import os\n",
        "import base64\n",
        "import math\n",
        "#Python displays\n",
        "from IPython.display import HTML\n",
        "from IPython import display as ipythondisplay\n",
        "#Progress bars to visualize training\n",
        "from tqdm.notebook import trange\n"
      ]
    },
    {
      "cell_type": "code",
      "execution_count": 51,
      "metadata": {
        "colab": {
          "base_uri": "https://localhost:8080/"
        },
        "id": "kXem5gcjjOvN",
        "outputId": "65e13af9-d237-4574-ecb0-de950d82a59d"
      },
      "outputs": [
        {
          "output_type": "execute_result",
          "data": {
            "text/plain": [
              "True"
            ]
          },
          "metadata": {},
          "execution_count": 51
        }
      ],
      "source": [
        "#GPU accelerated notebooks to speed up the training of our agent in case I want to create custom environments and run in parallel\n",
        "import torch\n",
        "torch.cuda.is_available()"
      ]
    },
    {
      "cell_type": "markdown",
      "metadata": {
        "id": "6819w6hLBHvM"
      },
      "source": [
        "### Render Video Function\n",
        "---"
      ]
    },
    {
      "cell_type": "code",
      "execution_count": 52,
      "metadata": {
        "id": "2ADx08_pA48S"
      },
      "outputs": [],
      "source": [
        "def show_video():\n",
        "  '''\n",
        "  Collects all videos in the /video subfolder and picks the first file in that list to open and display a video.\n",
        "  '''\n",
        "  mp4list = glob.glob('video/*.mp4')\n",
        "  if len(mp4list) > 0:\n",
        "    mp4 = mp4list[0]\n",
        "    video = io.open(mp4, 'r+b').read()\n",
        "    encoded = base64.b64encode(video)\n",
        "    ipythondisplay.display(HTML(data='''<video alt=\"test\" autoplay\n",
        "                loop controls style=\"height: 400px;\">\n",
        "                <source src=\"data:video/mp4;base64,{0}\" type=\"video/mp4\" />\n",
        "             </video>'''.format(encoded.decode('ascii'))))\n",
        "  else:\n",
        "    print(\"Could not find video\")"
      ]
    },
    {
      "cell_type": "markdown",
      "metadata": {
        "id": "dA-cuaSnA9zE"
      },
      "source": [
        "# Loading CartPole Environment\n",
        "---\n",
        "\n",
        "gym reference : https://www.gymlibrary.dev/environments/classic_control/cart_pole/"
      ]
    },
    {
      "cell_type": "code",
      "execution_count": 53,
      "metadata": {
        "id": "tfFM0YfZA9Jk"
      },
      "outputs": [],
      "source": [
        "#Load our cartpole environment based on v1 version\n",
        "env = gym.make(\"CartPole-v1\")"
      ]
    },
    {
      "cell_type": "markdown",
      "metadata": {
        "id": "-B1GFDORjOvO"
      },
      "source": [
        "The observation space is given below. The first two arrays define the min and max values of the 4 observed values, corresponding to cart position, velocity and pole angle, angular velocity."
      ]
    },
    {
      "cell_type": "code",
      "execution_count": 54,
      "metadata": {
        "colab": {
          "base_uri": "https://localhost:8080/"
        },
        "id": "twas8xxzjOvO",
        "outputId": "90e8b371-143d-4c15-c782-57ff3da3df54"
      },
      "outputs": [
        {
          "output_type": "stream",
          "name": "stdout",
          "text": [
            "Observation Space Box([-4.8000002e+00 -3.4028235e+38 -4.1887903e-01 -3.4028235e+38], [4.8000002e+00 3.4028235e+38 4.1887903e-01 3.4028235e+38], (4,), float32)\n",
            "Sample Observation [-3.5614297e+00  1.1435864e+38 -2.3305024e-01  2.8091425e+38]\n"
          ]
        }
      ],
      "source": [
        "#Print our observation space\n",
        "print(\"Observation Space\", env.observation_space)\n",
        "print(\"Sample Observation\", env.observation_space.sample()) #Display a random observation"
      ]
    },
    {
      "cell_type": "code",
      "execution_count": 55,
      "metadata": {
        "colab": {
          "base_uri": "https://localhost:8080/"
        },
        "id": "D7fw3RxxG1RM",
        "outputId": "22b36e3d-863e-4250-af1f-91caf5e8d1c2"
      },
      "outputs": [
        {
          "output_type": "stream",
          "name": "stdout",
          "text": [
            "Action Space Discrete(2)\n",
            "Action Space Shape 2\n",
            "Action Space Sample 1\n"
          ]
        }
      ],
      "source": [
        "#Print action space\n",
        "print(\"Action Space\", env.action_space)\n",
        "print(\"Action Space Shape\", env.action_space.n)\n",
        "print(\"Action Space Sample\", env.action_space.sample())"
      ]
    },
    {
      "cell_type": "markdown",
      "metadata": {
        "id": "_62Q0mRojOvP"
      },
      "source": [
        "Our action space is discrete, its either we tell the thing to go left or go right, so our q table should have 2 columns, and for each possible state, it would be a A x B x C x ... x 2"
      ]
    },
    {
      "cell_type": "markdown",
      "metadata": {
        "id": "PBvry0bzdPmX"
      },
      "source": [
        "### Initializing Q-Table\n",
        "---\n",
        "\n"
      ]
    },
    {
      "cell_type": "markdown",
      "metadata": {
        "id": "4tS0FFXGjOvP"
      },
      "source": [
        "Since the space is continuous, we will split the observation space into a set amount of segments to be refined and tested. For each of the continuous variables in the observation space, we will split them into discrete sections.\n",
        "\n",
        "| Num | Observation | Min | Max|\n",
        "|--|--|--|--|\n",
        "| 0 | Cart Position |-4.8| 4.8\n",
        "| 1 | Cart Velocity |-Inf| Inf\n",
        "| 2 | Pole Angle |~ -0.418 rad (-24°)| ~ 0.418 rad (24°)\n",
        "| 3 | Pole Angular Velocity |-Inf| Inf\n",
        "\n",
        "However, even if the observation space has their own min and maxes, the following is noted:\n",
        "\n",
        "1. The cart x-position (index 0) can take values between (-4.8, 4.8), but the episode *terminates* if the cart leaves the (-2.4, 2.4) range.\n",
        "\n",
        "2. The pole angle can be observed between (-.418, .418) radians (or ±24°), but the episode *terminates* if the pole angle is not in the range (-.2095, .2095) (or ±12°)\n",
        "\n",
        "3. For cart velocity and cart angular velocity, there are inf, but we cant divide them infinite into discrete segments, so our range of -4 to 4 is the usual range that the cart goes by printing out the max and min velocity of the cart between episodes."
      ]
    },
    {
      "cell_type": "code",
      "execution_count": 56,
      "metadata": {
        "id": "GwUb0V9VjOvP"
      },
      "outputs": [],
      "source": [
        "#Declare num of segments to split continuous space into\n",
        "num_segments = 10\n",
        "\n",
        "#Converted into a linear space of segments given our requirements\n",
        "pos_space = np.linspace(-2.4, 2.4, num_segments)\n",
        "vel_space = np.linspace(-4, 4, num_segments)\n",
        "ang_space = np.linspace(-0.2095, 0.2095, num_segments)\n",
        "angvel_space = np.linspace(-4, 4, num_segments)\n",
        "\n",
        "def initialize_qtable(pos_space = pos_space, vel_space = vel_space, ang_space = ang_space, av_space = angvel_space, num_segments = num_segments):\n",
        "    #Make our q table which is a 11 x 11 x 11 x 11 x 2 (a very large table that increases exponentially with more segments!) -> +1 due to np.digitize function\n",
        "    Qtable = np.zeros((len(pos_space) + 1, len(vel_space) + 1, len(ang_space) + 1, len(angvel_space) + 1, env.action_space.n))\n",
        "    return Qtable\n",
        "\n",
        "#Make our q table which is a 11 x 11 x 11 x 11 x 2 (a very large table that increases exponentially with more segments!) -> +1 due to np.digitize function\n",
        "q_table_cart = initialize_qtable()"
      ]
    },
    {
      "cell_type": "code",
      "execution_count": 57,
      "metadata": {
        "colab": {
          "base_uri": "https://localhost:8080/"
        },
        "id": "dqtKob_YjOvP",
        "outputId": "3cb9b2f4-a0e7-47b8-b122-069fdc2cc777"
      },
      "outputs": [
        {
          "output_type": "execute_result",
          "data": {
            "text/plain": [
              "(11, 11, 11, 11, 2)"
            ]
          },
          "metadata": {},
          "execution_count": 57
        }
      ],
      "source": [
        "q_table_cart.shape"
      ]
    },
    {
      "cell_type": "markdown",
      "metadata": {
        "id": "bM1yHzUCaAzE"
      },
      "source": [
        "### Initializing Hyperpameters\n",
        "---\n"
      ]
    },
    {
      "cell_type": "code",
      "execution_count": 58,
      "metadata": {
        "id": "OHlN7oZ_aJBX"
      },
      "outputs": [],
      "source": [
        "#Training parameters\n",
        "learning_rate = 0.1\n",
        "gamma = 0.99\n",
        "num_episodes = 25000\n",
        "\n",
        "#Exploration parameters\n",
        "max_epsilon = 1.0\n",
        "min_epsilon = 0.01\n",
        "epsilon_decay_rate = 0.0001\n",
        "\n",
        "#Other training parameters\n",
        "desired_mean_reward = 480"
      ]
    },
    {
      "cell_type": "code",
      "execution_count": 59,
      "metadata": {
        "id": "5iRYb3cPjOvQ"
      },
      "outputs": [],
      "source": [
        "#Other parameters such as episodic steps to print out progress\n",
        "episode_steps = 1000"
      ]
    },
    {
      "cell_type": "markdown",
      "metadata": {
        "id": "qvaTeXKhde03"
      },
      "source": [
        "### Declare an epsilon greedy policy\n",
        "---"
      ]
    },
    {
      "cell_type": "code",
      "execution_count": 60,
      "metadata": {
        "id": "-cwhOzSbJLc1"
      },
      "outputs": [],
      "source": [
        "#Epsilon greedy policy (acting policy)\n",
        "#In this case, state is a tuple that is passed in where state holds the following information at this time\n",
        "# state[0] = cart position\n",
        "# state[1] = cart velocity\n",
        "# state[2] = cart angle\n",
        "# state[3] = cart ang velocity\n",
        "def epsilon_greedy_policy(q_table, state, epsilon):\n",
        "    #Random some number\n",
        "    random_d = np.random.random()\n",
        "    #If its above epsilon, then the action is the optimal given this current state with the highest q value\n",
        "    if(random_d > epsilon):\n",
        "        action = np.argmax(q_table[state[0], state[1], state[2], state[3], :])\n",
        "    else:\n",
        "        #Else the action is random to allow exploration\n",
        "        action = env.action_space.sample()\n",
        "    return action"
      ]
    },
    {
      "cell_type": "markdown",
      "metadata": {
        "id": "TW-mqgt0_pmC"
      },
      "source": [
        "## Task 1 - Training the Agent\n",
        "---\n",
        "\n",
        "For training, we will attempt two different strategies to train our agent.\n",
        "\n",
        "1. Episodic Default Training (user defined episode)\n",
        "2. Training till Desired Mean (user defined target mean)\n",
        "\n",
        "For our epsilon decay formula, we will use epsilon = min_epsilon + (max_epsilon - min_epsilon) * np.exp(-epsilon_decay_rate * episode), and exponential curve such it never goes past min epsilon and allows smooth decay for intiial rapid decline and slow as epsilon reaches minimal value for still chances at exploration\n"
      ]
    },
    {
      "cell_type": "markdown",
      "metadata": {
        "id": "O9q6P4dwjOvQ"
      },
      "source": [
        "### 1. Episodic Default Training of Agent\n",
        "\n",
        "This approach uses a set amount of episodes based on hyperparameters and trains the agent using epsilon greedy policy and simple updating of the policies. The rewards are used as is to update the qtable"
      ]
    },
    {
      "cell_type": "code",
      "execution_count": 61,
      "metadata": {
        "id": "7J4NBfnHoCvB"
      },
      "outputs": [],
      "source": [
        "#Store an array of zeros for the rewards per episode to keep track for plotting later on\n",
        "reward_per_episode = []\n",
        "def train_agent_default(env, num_episodes, learning_rate, gamma, max_epsilon, epsilon_decay_rate, q_table):\n",
        "  total_reward = 0\n",
        "  #Initialize epsilon to the max\n",
        "  #epsilon = max_epsilon\n",
        "  for episode in trange(num_episodes):\n",
        "    #Calculate the new epsilon using a formula that decreases exponentially through episodes\n",
        "    epsilon = min_epsilon + (max_epsilon - min_epsilon) * np.exp(-epsilon_decay_rate * episode)\n",
        "    #Reset the environment\n",
        "    state = env.reset()\n",
        "    #Digitize and get the state data\n",
        "    state_pos = np.digitize(state[0], pos_space)\n",
        "    state_vel = np.digitize(state[1], vel_space)\n",
        "    state_ang = np.digitize(state[2], ang_space)\n",
        "    state_angVel = np.digitize(state[3], angvel_space)\n",
        "\n",
        "    done = False\n",
        "    episode_reward = 0\n",
        "\n",
        "    #Run till all the episodes are complete\n",
        "    while not done:\n",
        "      #Determine our policy based on epsilon greedy\n",
        "      action = epsilon_greedy_policy(q_table, (state_pos, state_vel, state_ang, state_angVel), epsilon)\n",
        "\n",
        "      #Take the chosen action and observe the new state\n",
        "      new_state, reward, done, info = env.step(action)\n",
        "      #Update on the new state stuff\n",
        "      new_state_pos = np.digitize(new_state[0], pos_space)\n",
        "      new_state_vel = np.digitize(new_state[1], vel_space)\n",
        "      new_state_ang = np.digitize(new_state[2], ang_space)\n",
        "      new_state_angVel = np.digitize(new_state[3], angvel_space)\n",
        "\n",
        "      #Update our q table based on the formula\n",
        "      q_table[state_pos, state_vel, state_ang, state_angVel, action] = q_table[state_pos, state_vel, state_ang, state_angVel, action] + learning_rate * (reward + gamma * np.max(q_table[new_state_pos, new_state_vel, new_state_ang, new_state_angVel, :]) -  q_table[state_pos, state_vel, state_ang, state_angVel, action])\n",
        "\n",
        "      #update the current state to the new state\n",
        "      state = new_state\n",
        "      state_pos = new_state_pos\n",
        "      state_vel = new_state_vel\n",
        "      state_ang = new_state_ang\n",
        "      state_angVel = new_state_angVel\n",
        "      #Update our rewards for this episode\n",
        "      episode_reward += reward\n",
        "\n",
        "    #Update our rewards per episode array\n",
        "    reward_per_episode.append(episode_reward)\n",
        "    #Update total reward\n",
        "    total_reward += episode_reward\n",
        "    #Print out progress every X episodes\n",
        "    mean_rewards = np.mean(reward_per_episode[len(reward_per_episode)-episode_steps:])\n",
        "    #Print out the results every \"episode_steps\" -> default value 100\n",
        "    if episode % episode_steps == 0:\n",
        "      print(f'Episode: {episode} Episode Reward: {episode_reward}  Epsilon: {epsilon:0.2f}  Mean Rewards for past {episode_steps} episodes : {mean_rewards:0.1f}')\n",
        "\n",
        "    #Decreate epsilon by decay rate\n",
        "    #epsilon = max(epsilon - epsilon_decay_rate, 0)\n",
        "  env.close()\n",
        "  return q_table"
      ]
    },
    {
      "cell_type": "code",
      "execution_count": 62,
      "metadata": {
        "colab": {
          "base_uri": "https://localhost:8080/",
          "height": 518,
          "referenced_widgets": [
            "ba1a253b4ace4d20b1d8afd57416be52",
            "d29885610c074a419a477075569b9681",
            "e23e255cbf974ad7935a4283381d5800",
            "59a5f7624eb44365b33a9638022b45bb",
            "988a71ed9a254545ae971c5174400e17",
            "85d9a9090cc74efab67a47b6067883d1",
            "f03e9f9c211442de89f291aa31cb0f88",
            "f0dd7ec4257b4f65a499f45911bae80f",
            "c7e6ada4b69a4fc0baa78a5f885746ea",
            "3070982b25444c52b17f298b97b42e29",
            "e30ad38d255744fcab78c2065fa74819"
          ]
        },
        "id": "VZKXsty3M90S",
        "outputId": "2fb3ff89-af82-4066-d456-021e5b8bcea9"
      },
      "outputs": [
        {
          "output_type": "display_data",
          "data": {
            "text/plain": [
              "  0%|          | 0/25000 [00:00<?, ?it/s]"
            ],
            "application/vnd.jupyter.widget-view+json": {
              "version_major": 2,
              "version_minor": 0,
              "model_id": "ba1a253b4ace4d20b1d8afd57416be52"
            }
          },
          "metadata": {}
        },
        {
          "output_type": "stream",
          "name": "stdout",
          "text": [
            "Episode: 0 Episode Reward: 47.0  Epsilon: 1.00  Mean Rewards for past 1000 episodes : 47.0\n"
          ]
        },
        {
          "output_type": "stream",
          "name": "stderr",
          "text": [
            "/usr/local/lib/python3.10/dist-packages/gym/utils/passive_env_checker.py:241: DeprecationWarning: `np.bool8` is a deprecated alias for `np.bool_`.  (Deprecated NumPy 1.24)\n",
            "  if not isinstance(terminated, (bool, np.bool8)):\n"
          ]
        },
        {
          "output_type": "stream",
          "name": "stdout",
          "text": [
            "Episode: 1000 Episode Reward: 15.0  Epsilon: 0.91  Mean Rewards for past 1000 episodes : 23.7\n",
            "Episode: 2000 Episode Reward: 31.0  Epsilon: 0.82  Mean Rewards for past 1000 episodes : 29.4\n",
            "Episode: 3000 Episode Reward: 13.0  Epsilon: 0.74  Mean Rewards for past 1000 episodes : 35.6\n",
            "Episode: 4000 Episode Reward: 99.0  Epsilon: 0.67  Mean Rewards for past 1000 episodes : 40.2\n",
            "Episode: 5000 Episode Reward: 102.0  Epsilon: 0.61  Mean Rewards for past 1000 episodes : 49.4\n",
            "Episode: 6000 Episode Reward: 79.0  Epsilon: 0.55  Mean Rewards for past 1000 episodes : 58.1\n",
            "Episode: 7000 Episode Reward: 36.0  Epsilon: 0.50  Mean Rewards for past 1000 episodes : 65.9\n",
            "Episode: 8000 Episode Reward: 45.0  Epsilon: 0.45  Mean Rewards for past 1000 episodes : 79.9\n",
            "Episode: 9000 Episode Reward: 198.0  Epsilon: 0.41  Mean Rewards for past 1000 episodes : 94.4\n",
            "Episode: 10000 Episode Reward: 127.0  Epsilon: 0.37  Mean Rewards for past 1000 episodes : 107.2\n",
            "Episode: 11000 Episode Reward: 48.0  Epsilon: 0.34  Mean Rewards for past 1000 episodes : 128.6\n",
            "Episode: 12000 Episode Reward: 189.0  Epsilon: 0.31  Mean Rewards for past 1000 episodes : 154.3\n",
            "Episode: 13000 Episode Reward: 306.0  Epsilon: 0.28  Mean Rewards for past 1000 episodes : 177.1\n",
            "Episode: 14000 Episode Reward: 328.0  Epsilon: 0.25  Mean Rewards for past 1000 episodes : 191.0\n",
            "Episode: 15000 Episode Reward: 285.0  Epsilon: 0.23  Mean Rewards for past 1000 episodes : 221.8\n",
            "Episode: 16000 Episode Reward: 97.0  Epsilon: 0.21  Mean Rewards for past 1000 episodes : 246.9\n",
            "Episode: 17000 Episode Reward: 500.0  Epsilon: 0.19  Mean Rewards for past 1000 episodes : 252.1\n",
            "Episode: 18000 Episode Reward: 262.0  Epsilon: 0.17  Mean Rewards for past 1000 episodes : 270.3\n",
            "Episode: 19000 Episode Reward: 192.0  Epsilon: 0.16  Mean Rewards for past 1000 episodes : 257.3\n",
            "Episode: 20000 Episode Reward: 138.0  Epsilon: 0.14  Mean Rewards for past 1000 episodes : 283.9\n",
            "Episode: 21000 Episode Reward: 500.0  Epsilon: 0.13  Mean Rewards for past 1000 episodes : 321.5\n",
            "Episode: 22000 Episode Reward: 230.0  Epsilon: 0.12  Mean Rewards for past 1000 episodes : 348.8\n",
            "Episode: 23000 Episode Reward: 500.0  Epsilon: 0.11  Mean Rewards for past 1000 episodes : 342.0\n",
            "Episode: 24000 Episode Reward: 167.0  Epsilon: 0.10  Mean Rewards for past 1000 episodes : 384.3\n"
          ]
        }
      ],
      "source": [
        "#Train the table\n",
        "#initialize q_table cart\n",
        "q_table_cart = initialize_qtable()\n",
        "q_table_cart = train_agent_default(env, num_episodes, learning_rate, gamma, max_epsilon, epsilon_decay_rate, q_table_cart)"
      ]
    },
    {
      "cell_type": "code",
      "execution_count": 63,
      "metadata": {
        "colab": {
          "base_uri": "https://localhost:8080/",
          "height": 405
        },
        "id": "MlEOi-rQjOvQ",
        "outputId": "80205835-cdf9-493b-fee9-33f2c44599de"
      },
      "outputs": [
        {
          "output_type": "execute_result",
          "data": {
            "text/plain": [
              "[<matplotlib.lines.Line2D at 0x7f30b29930d0>]"
            ]
          },
          "metadata": {},
          "execution_count": 63
        },
        {
          "output_type": "display_data",
          "data": {
            "text/plain": [
              "<Figure size 500x400 with 1 Axes>"
            ],
            "image/png": "[encoded data removed]"
          },
          "metadata": {}
        }
      ],
      "source": [
        "mean_rewards = []\n",
        "for t in range(num_episodes):\n",
        "    mean_rewards.append(np.mean(reward_per_episode[max(0, t-100):(t+1)]))\n",
        "\n",
        "plt.figure(figsize = (5,4))\n",
        "plt.xlabel(\"Episodes\")\n",
        "plt.ylabel(\"Mean Reward\")\n",
        "plt.plot(mean_rewards)"
      ]
    },
    {
      "cell_type": "markdown",
      "metadata": {
        "id": "rUXrH2IGjOvR"
      },
      "source": [
        "### 2. Training of Agent till Desired Mean Reward\n",
        "\n",
        "This approach trains the agent until the mean rewards has hit the amount defined in the hyperparameters, and also serves as a guide to approximate how many episodes are needed to achieve a mean reward to help finetune our hyperparameters"
      ]
    },
    {
      "cell_type": "code",
      "execution_count": 64,
      "metadata": {
        "id": "d7tCie0pjOvR"
      },
      "outputs": [],
      "source": [
        "#Setup some parameters for this type of training\n",
        "reward_per_episode_mean = []\n",
        "def train_agent_to_desired_mean(env, learning_rate, gamma, max_epsilon, epsilon_decay_rate, q_table):\n",
        "  #Starting from episode 1\n",
        "  episode = 0\n",
        "  while True:\n",
        "    #Calculate the new epsilon using a formula that decreases exponentially through episodes\n",
        "    epsilon = min_epsilon + (max_epsilon - min_epsilon) * np.exp(-epsilon_decay_rate * episode)\n",
        "    #Reset the environment\n",
        "    state = env.reset()\n",
        "    #Digitize and get the state data\n",
        "    state_pos = np.digitize(state[0], pos_space)\n",
        "    state_vel = np.digitize(state[1], vel_space)\n",
        "    state_ang = np.digitize(state[2], ang_space)\n",
        "    state_angVel = np.digitize(state[3], angvel_space)\n",
        "\n",
        "    done = False\n",
        "    episode_reward = 0\n",
        "\n",
        "    #Run till we have hit our desired episode rewards\n",
        "    while not done:\n",
        "      #Determine our policy based on epsilon greedy\n",
        "      action = epsilon_greedy_policy(q_table, (state_pos, state_vel, state_ang, state_angVel), epsilon)\n",
        "\n",
        "      #Take the chosen action and observe the new state\n",
        "      new_state, reward, done, info = env.step(action)\n",
        "      #Update on the new state stuff\n",
        "      new_state_pos = np.digitize(new_state[0], pos_space)\n",
        "      new_state_vel = np.digitize(new_state[1], vel_space)\n",
        "      new_state_ang = np.digitize(new_state[2], ang_space)\n",
        "      new_state_angVel = np.digitize(new_state[3], angvel_space)\n",
        "\n",
        "      #Update our qtable based on this state\n",
        "      q_table[state_pos, state_vel, state_ang, state_angVel, action] = q_table[state_pos, state_vel, state_ang, state_angVel, action] + learning_rate * (reward + gamma * np.max(q_table[new_state_pos, new_state_vel, new_state_ang, new_state_angVel, :]) -  q_table[state_pos, state_vel, state_ang, state_angVel, action])\n",
        "\n",
        "      #update the current state to the new state\n",
        "      state = new_state\n",
        "      state_pos = new_state_pos\n",
        "      state_vel = new_state_vel\n",
        "      state_ang = new_state_ang\n",
        "      state_angVel = new_state_angVel\n",
        "\n",
        "      #Update our rewards for this episode\n",
        "      episode_reward += reward\n",
        "\n",
        "    #Append this reward into the episode dynamic list\n",
        "    reward_per_episode_mean.append(episode_reward)\n",
        "    #Calculate the mean rewards for the past 100 episodes\n",
        "    mean_rewards = np.mean(reward_per_episode_mean[len(reward_per_episode_mean)-episode_steps:])\n",
        "    #Print out the results every \"episode_steps\" -> default value 100\n",
        "    if episode % episode_steps == 0:\n",
        "      print(f'Episode: {episode} Episode Reward: {episode_reward}  Epsilon: {epsilon:0.2f}  Mean Rewards for past {episode_steps} episodes : {mean_rewards:0.1f}')\n",
        "\n",
        "    #Break if we have reached our desired mean (set in hyper parameters)\n",
        "    if mean_rewards >= desired_mean_reward:\n",
        "      print(f'Finished at Episode: {episode} Episode Reward: {episode_reward}  Epsilon: {epsilon:0.2f}  Mean Rewards for past {episode_steps} episodes : {mean_rewards:0.1f}')\n",
        "      break\n",
        "\n",
        "    #Increment our episode\n",
        "    episode += 1\n",
        "  env.close()\n",
        "  return q_table\n"
      ]
    },
    {
      "cell_type": "code",
      "execution_count": 65,
      "metadata": {
        "colab": {
          "base_uri": "https://localhost:8080/"
        },
        "id": "ga-UnPc5jOvR",
        "outputId": "46af04df-3b2f-4def-97ed-032a1c147bad"
      },
      "outputs": [
        {
          "output_type": "stream",
          "name": "stdout",
          "text": [
            "Episode: 0 Episode Reward: 39.0  Epsilon: 1.00  Mean Rewards for past 1000 episodes : 39.0\n",
            "Episode: 1000 Episode Reward: 35.0  Epsilon: 0.91  Mean Rewards for past 1000 episodes : 23.6\n",
            "Episode: 2000 Episode Reward: 16.0  Epsilon: 0.82  Mean Rewards for past 1000 episodes : 28.6\n",
            "Episode: 3000 Episode Reward: 56.0  Epsilon: 0.74  Mean Rewards for past 1000 episodes : 35.2\n",
            "Episode: 4000 Episode Reward: 112.0  Epsilon: 0.67  Mean Rewards for past 1000 episodes : 42.3\n",
            "Episode: 5000 Episode Reward: 12.0  Epsilon: 0.61  Mean Rewards for past 1000 episodes : 51.2\n",
            "Episode: 6000 Episode Reward: 34.0  Epsilon: 0.55  Mean Rewards for past 1000 episodes : 57.0\n",
            "Episode: 7000 Episode Reward: 47.0  Epsilon: 0.50  Mean Rewards for past 1000 episodes : 67.4\n",
            "Episode: 8000 Episode Reward: 14.0  Epsilon: 0.45  Mean Rewards for past 1000 episodes : 78.9\n",
            "Episode: 9000 Episode Reward: 110.0  Epsilon: 0.41  Mean Rewards for past 1000 episodes : 94.9\n",
            "Episode: 10000 Episode Reward: 40.0  Epsilon: 0.37  Mean Rewards for past 1000 episodes : 106.3\n",
            "Episode: 11000 Episode Reward: 223.0  Epsilon: 0.34  Mean Rewards for past 1000 episodes : 130.0\n",
            "Episode: 12000 Episode Reward: 122.0  Epsilon: 0.31  Mean Rewards for past 1000 episodes : 148.8\n",
            "Episode: 13000 Episode Reward: 158.0  Epsilon: 0.28  Mean Rewards for past 1000 episodes : 180.3\n",
            "Episode: 14000 Episode Reward: 204.0  Epsilon: 0.25  Mean Rewards for past 1000 episodes : 188.3\n",
            "Episode: 15000 Episode Reward: 190.0  Epsilon: 0.23  Mean Rewards for past 1000 episodes : 205.8\n",
            "Episode: 16000 Episode Reward: 114.0  Epsilon: 0.21  Mean Rewards for past 1000 episodes : 228.7\n",
            "Episode: 17000 Episode Reward: 17.0  Epsilon: 0.19  Mean Rewards for past 1000 episodes : 248.6\n",
            "Episode: 18000 Episode Reward: 431.0  Epsilon: 0.17  Mean Rewards for past 1000 episodes : 227.5\n",
            "Episode: 19000 Episode Reward: 170.0  Epsilon: 0.16  Mean Rewards for past 1000 episodes : 246.6\n",
            "Episode: 20000 Episode Reward: 215.0  Epsilon: 0.14  Mean Rewards for past 1000 episodes : 272.7\n",
            "Episode: 21000 Episode Reward: 118.0  Epsilon: 0.13  Mean Rewards for past 1000 episodes : 334.1\n",
            "Episode: 22000 Episode Reward: 135.0  Epsilon: 0.12  Mean Rewards for past 1000 episodes : 324.2\n",
            "Episode: 23000 Episode Reward: 454.0  Epsilon: 0.11  Mean Rewards for past 1000 episodes : 308.4\n",
            "Episode: 24000 Episode Reward: 176.0  Epsilon: 0.10  Mean Rewards for past 1000 episodes : 337.0\n",
            "Episode: 25000 Episode Reward: 500.0  Epsilon: 0.09  Mean Rewards for past 1000 episodes : 342.9\n",
            "Episode: 26000 Episode Reward: 337.0  Epsilon: 0.08  Mean Rewards for past 1000 episodes : 384.7\n",
            "Episode: 27000 Episode Reward: 132.0  Epsilon: 0.08  Mean Rewards for past 1000 episodes : 292.3\n",
            "Episode: 28000 Episode Reward: 500.0  Epsilon: 0.07  Mean Rewards for past 1000 episodes : 331.5\n",
            "Episode: 29000 Episode Reward: 172.0  Epsilon: 0.06  Mean Rewards for past 1000 episodes : 387.2\n",
            "Episode: 30000 Episode Reward: 372.0  Epsilon: 0.06  Mean Rewards for past 1000 episodes : 334.9\n",
            "Episode: 31000 Episode Reward: 500.0  Epsilon: 0.05  Mean Rewards for past 1000 episodes : 392.3\n",
            "Episode: 32000 Episode Reward: 500.0  Epsilon: 0.05  Mean Rewards for past 1000 episodes : 438.1\n",
            "Episode: 33000 Episode Reward: 295.0  Epsilon: 0.05  Mean Rewards for past 1000 episodes : 420.1\n",
            "Episode: 34000 Episode Reward: 214.0  Epsilon: 0.04  Mean Rewards for past 1000 episodes : 372.2\n",
            "Episode: 35000 Episode Reward: 500.0  Epsilon: 0.04  Mean Rewards for past 1000 episodes : 382.2\n",
            "Finished at Episode: 35776 Episode Reward: 500.0  Epsilon: 0.04  Mean Rewards for past 1000 episodes : 480.3\n"
          ]
        }
      ],
      "source": [
        "#Train the table\n",
        "#initialize q_table cart\n",
        "q_table_cart_mean = initialize_qtable()\n",
        "q_table_cart_mean = train_agent_to_desired_mean(env, learning_rate, gamma, max_epsilon, epsilon_decay_rate, q_table_cart_mean)"
      ]
    },
    {
      "cell_type": "code",
      "execution_count": 66,
      "metadata": {
        "colab": {
          "base_uri": "https://localhost:8080/",
          "height": 405
        },
        "id": "zhzEPmKnjOvR",
        "outputId": "aa5bbe4a-29b3-4dd5-9203-1991df9cc7e3"
      },
      "outputs": [
        {
          "output_type": "execute_result",
          "data": {
            "text/plain": [
              "[<matplotlib.lines.Line2D at 0x7f30b4dd8310>]"
            ]
          },
          "metadata": {},
          "execution_count": 66
        },
        {
          "output_type": "display_data",
          "data": {
            "text/plain": [
              "<Figure size 500x400 with 1 Axes>"
            ],
            "image/png": "[encoded data removed]"
          },
          "metadata": {}
        }
      ],
      "source": [
        "mean_rewards = []\n",
        "for t in range(len(reward_per_episode_mean)):\n",
        "    mean_rewards.append(np.mean(reward_per_episode_mean[max(0, t-100):(t+1)]))\n",
        "plt.figure(figsize = (5,4))\n",
        "plt.xlabel(\"Episodes\")\n",
        "plt.ylabel(\"Mean Reward\")\n",
        "plt.plot(mean_rewards)"
      ]
    },
    {
      "cell_type": "markdown",
      "metadata": {
        "id": "AjdjSHgojOvR"
      },
      "source": [
        "### Answer for Task 1 : Sampling random state and outputting chosen action\n",
        "---"
      ]
    },
    {
      "cell_type": "code",
      "execution_count": 67,
      "metadata": {
        "colab": {
          "base_uri": "https://localhost:8080/",
          "height": 402
        },
        "id": "kelG5OoljOvR",
        "outputId": "dbbff70e-651e-4374-acba-3fc7de169746"
      },
      "outputs": [
        {
          "output_type": "display_data",
          "data": {
            "text/plain": [
              "<Figure size 640x480 with 1 Axes>"
            ],
            "image/png": "[encoded data removed]"
          },
          "metadata": {}
        },
        {
          "output_type": "stream",
          "name": "stdout",
          "text": [
            "Observation:  [ 0.0016473   0.04071582 -0.0352829  -0.02745095]\n",
            "Chosen action:  0\n"
          ]
        }
      ],
      "source": [
        "#Remake our environment\n",
        "env = gym.make(\"CartPole-v1\")\n",
        "#Reset the environment and get our initial state\n",
        "state = env.reset()\n",
        "\n",
        "#Render the current state\n",
        "img = env.render(mode=\"rgb_array\")\n",
        "#Hide the ticks\n",
        "plt.xticks([])  # Set label locations.\n",
        "plt.yticks([])\n",
        "plt.imshow(img)\n",
        "plt.show()\n",
        "#\n",
        "#Print out the state\n",
        "print(\"Observation: \", state)\n",
        "#Get the discrete values from the state\n",
        "state_pos = np.digitize(state[0], pos_space)\n",
        "state_vel = np.digitize(state[1], vel_space)\n",
        "state_ang = np.digitize(state[2], ang_space)\n",
        "state_angVel = np.digitize(state[3], angvel_space)\n",
        "\n",
        "#Get the action using our q_table calculated\n",
        "action = np.argmax(q_table_cart_mean[state_pos, state_vel, state_ang, state_angVel, :])\n",
        "\n",
        "#Print chosen action\n",
        "print(\"Chosen action: \", action)"
      ]
    },
    {
      "cell_type": "markdown",
      "metadata": {
        "id": "1lb0GuJqjOvR"
      },
      "source": [
        "From the above diagram, the cartpole is slightly bent towards the left, which means the cartpole should move left to balance it, which means our agent is correct in this decision."
      ]
    },
    {
      "cell_type": "markdown",
      "metadata": {
        "id": "88Ev9PEyn6ft"
      },
      "source": [
        "## Task 2 - Effectiveness of Agent\n",
        "---\n",
        "\n",
        "For this task, use the agent developed in Task 1 to play the game for 100 episodes (refer to tutorial for how to play a round), record the cumulative reward for each round, and plot the reward for each round. A sample plotting code is given below. Note that you must include code to play for 100 episodes and use the code to obtain round_results for plotting. DO NOT record the round results in advance and paste the results to the notebook."
      ]
    },
    {
      "cell_type": "markdown",
      "metadata": {
        "id": "wKJVGnBjmfPk"
      },
      "source": [
        "**Episode End**\n",
        "1. The episode ends if any one of the following occurs:\n",
        "2. Termination: Pole Angle is greater than ±12°\n",
        "3. Termination: Cart Position is greater than ±2.4 (center of the cart reaches the edge of the display)\n",
        "4. Truncation: Episode length is greater than 500.\n"
      ]
    },
    {
      "cell_type": "code",
      "execution_count": 68,
      "metadata": {
        "id": "Vq3cFbicn8nD"
      },
      "outputs": [],
      "source": [
        "#Store the rewards stored in each episode\n",
        "def evaluate_agent(env, q_table, n_eval_episodes = 100):\n",
        "  episode_rewards = np.zeros(100)\n",
        "  for episode in trange(n_eval_episodes):\n",
        "    #Reset the environment\n",
        "    state = env.reset()\n",
        "\n",
        "    #Get each discrete variable\n",
        "    state_pos = np.digitize(state[0], pos_space)\n",
        "    state_vel = np.digitize(state[1], vel_space)\n",
        "    state_ang = np.digitize(state[2], ang_space)\n",
        "    state_angVel = np.digitize(state[3], angvel_space)\n",
        "\n",
        "    done = False\n",
        "    #Store the reward in each episode\n",
        "    episode_reward = 0\n",
        "\n",
        "    #Run each episode until it ends using our agent\n",
        "    while not done:\n",
        "      #Use our previously calculated q_table to always choose the best action instead of our greedy epsilon for training\n",
        "      action = np.argmax(q_table[state_pos, state_vel, state_ang, state_angVel, :])\n",
        "\n",
        "      #Take the chosen action and observe the new state\n",
        "      new_state, reward, done, info = env.step(action)\n",
        "      #Update on the new state stuff\n",
        "      new_state_pos = np.digitize(new_state[0], pos_space)\n",
        "      new_state_vel = np.digitize(new_state[1], vel_space)\n",
        "      new_state_ang = np.digitize(new_state[2], ang_space)\n",
        "      new_state_angVel = np.digitize(new_state[3], angvel_space)\n",
        "\n",
        "      #Add the reward into our current episode reward\n",
        "      episode_reward += reward\n",
        "\n",
        "      #Then update our states and previous states\n",
        "      state = new_state\n",
        "      state_pos = new_state_pos\n",
        "      state_vel = new_state_vel\n",
        "      state_ang = new_state_ang\n",
        "      state_angVel = new_state_angVel\n",
        "\n",
        "\n",
        "    #Append the reward gotten in this episode into our total reward arrays\n",
        "    episode_rewards[episode] = (episode_reward)\n",
        "\n",
        "  #Calculate the mean and std of our episode rewards array\n",
        "  mean_reward = np.mean(episode_rewards)\n",
        "  std_reward = np.std(episode_rewards)\n",
        "  env.close()\n",
        "  return episode_rewards, mean_reward, std_reward\n"
      ]
    },
    {
      "cell_type": "code",
      "execution_count": 75,
      "metadata": {
        "colab": {
          "base_uri": "https://localhost:8080/",
          "height": 49,
          "referenced_widgets": [
            "76dd0564f14649f7881b88352bec6b2a",
            "7964879c0dce40c4a534f5055234ae5d",
            "3e2b8a778e3847d986849adace6ec5d3",
            "ab09b6e3f07840e7b5947d3cd091ffd2",
            "0ba401f1a68042a18279326da96a7a0b",
            "593e316544ce43fda9a512b473db8141",
            "2aae90b9f3534141917974a56959b279",
            "c3167b560f4c428f9b2c619a6b06269e",
            "5708bcffb96544b48874f994b7ee43c9",
            "4db8237160da4ad49c4d527612f0b6d9",
            "7b46c59f0c2545588e439630c0af8f64"
          ]
        },
        "id": "oAhEzWlzjOvS",
        "outputId": "b7d15031-e216-4b11-e89a-91794e3f11df"
      },
      "outputs": [
        {
          "output_type": "display_data",
          "data": {
            "text/plain": [
              "  0%|          | 0/100 [00:00<?, ?it/s]"
            ],
            "application/vnd.jupyter.widget-view+json": {
              "version_major": 2,
              "version_minor": 0,
              "model_id": "76dd0564f14649f7881b88352bec6b2a"
            }
          },
          "metadata": {}
        }
      ],
      "source": [
        "episode_rewards, mean_reward, std_reward = evaluate_agent(env, q_table_cart)"
      ]
    },
    {
      "cell_type": "code",
      "execution_count": 76,
      "metadata": {
        "colab": {
          "base_uri": "https://localhost:8080/"
        },
        "id": "U_9AplvMjOvS",
        "outputId": "f0406740-2537-4d21-be94-a8116d5df290"
      },
      "outputs": [
        {
          "output_type": "stream",
          "name": "stdout",
          "text": [
            "Mean_reward=465.41 +/- 37.64\n"
          ]
        }
      ],
      "source": [
        "print(f\"Mean_reward={mean_reward:.2f} +/- {std_reward:.2f}\")\n"
      ]
    },
    {
      "cell_type": "code",
      "execution_count": 77,
      "metadata": {
        "colab": {
          "base_uri": "https://localhost:8080/",
          "height": 507
        },
        "id": "R8cTvPV5jOvU",
        "outputId": "b521aac5-0710-4761-dd81-987c6ad77c8d"
      },
      "outputs": [
        {
          "output_type": "stream",
          "name": "stdout",
          "text": [
            "Average cumulative reward: 465.41\n",
            "\n"
          ]
        },
        {
          "output_type": "display_data",
          "data": {
            "text/plain": [
              "<Figure size 640x480 with 1 Axes>"
            ],
            "image/png": "[encoded data removed]"
          },
          "metadata": {}
        }
      ],
      "source": [
        "print(\"Average cumulative reward:\", episode_rewards.mean())\n",
        "print(\"\")\n",
        "plt.title('Cumulative reward for each episode')\n",
        "plt.ylabel('Cumulative reward')\n",
        "plt.xlabel('episode')\n",
        "plt.plot(episode_rewards)\n",
        "plt.show()\n"
      ]
    },
    {
      "cell_type": "markdown",
      "metadata": {
        "id": "TOoagQlOjOvU"
      },
      "source": [
        "## Task 3 - Render one episode played by the agent\n",
        "---\n",
        "\n"
      ]
    },
    {
      "cell_type": "code",
      "execution_count": 78,
      "metadata": {
        "id": "ZBiMsxcAk_TE",
        "colab": {
          "base_uri": "https://localhost:8080/",
          "height": 456
        },
        "outputId": "5990077a-cc8a-4bfc-b115-70a0388ecb3b"
      },
      "outputs": [
        {
          "output_type": "stream",
          "name": "stderr",
          "text": [
            "/usr/local/lib/python3.10/dist-packages/gym/utils/passive_env_checker.py:241: DeprecationWarning: `np.bool8` is a deprecated alias for `np.bool_`.  (Deprecated NumPy 1.24)\n",
            "  if not isinstance(terminated, (bool, np.bool8)):\n"
          ]
        },
        {
          "output_type": "display_data",
          "data": {
            "text/plain": [
              "<IPython.core.display.HTML object>"
            ],
            "text/html": [
              "<video alt=\"test\" autoplay\n",
              "                loop controls style=\"height: 400px;\">\n",
              "                <source src=\"data:video/mp4;base64,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\" type=\"video/mp4\" />\n",
              "             </video>"
            ]
          },
          "metadata": {}
        }
      ],
      "source": [
        "env = RecordVideo(gym.make(\"CartPole-v1\"), \"./video\")\n",
        "state = env.reset()\n",
        "state_pos = np.digitize(state[0], pos_space)\n",
        "state_vel = np.digitize(state[1], vel_space)\n",
        "state_ang = np.digitize(state[2], ang_space)\n",
        "state_angVel = np.digitize(state[3], angvel_space)\n",
        "\n",
        "while True:\n",
        "    env.render()\n",
        "    #your agent goes here\n",
        "    action = np.argmax(q_table_cart[state_pos, state_vel, state_ang, state_angVel, :])\n",
        "    new_state, reward, done, info = env.step(action)\n",
        "    new_state_pos = np.digitize(new_state[0], pos_space)\n",
        "    new_state_vel = np.digitize(new_state[1], vel_space)\n",
        "    new_state_ang = np.digitize(new_state[2], ang_space)\n",
        "    new_state_angVel = np.digitize(new_state[3], angvel_space)\n",
        "    if done:\n",
        "      break\n",
        "\n",
        "    #update the current state to the new state\n",
        "    state = new_state\n",
        "    state_pos = new_state_pos\n",
        "    state_vel = new_state_vel\n",
        "    state_ang = new_state_ang\n",
        "    state_angVel = new_state_angVel\n",
        "env.close()\n",
        "show_video()\n"
      ]
    },
    {
      "cell_type": "code",
      "execution_count": 72,
      "metadata": {
        "colab": {
          "base_uri": "https://localhost:8080/"
        },
        "id": "I_RPKNO6jOvV",
        "outputId": "c31e429b-66e1-49a2-9f6d-bcc112d41190"
      },
      "outputs": [
        {
          "output_type": "stream",
          "name": "stderr",
          "text": [
            "/usr/local/lib/python3.10/dist-packages/ipykernel/ipkernel.py:283: DeprecationWarning: `should_run_async` will not call `transform_cell` automatically in the future. Please pass the result to `transformed_cell` argument and any exception that happen during thetransform in `preprocessing_exc_tuple` in IPython 7.17 and above.\n",
            "  and should_run_async(code)\n"
          ]
        }
      ],
      "source": []
    }
  ],
  "metadata": {
    "accelerator": "GPU",
    "colab": {
      "gpuType": "T4",
      "provenance": [],
      "toc_visible": true,
      "include_colab_link": true
    },
    "kernelspec": {
      "display_name": "gpu_env",
      "language": "python",
      "name": "python3"
    },
    "language_info": {
      "codemirror_mode": {
        "name": "ipython",
        "version": 3
      },
      "file_extension": ".py",
      "mimetype": "text/x-python",
      "name": "python",
      "nbconvert_exporter": "python",
      "pygments_lexer": "ipython3",
      "version": "3.11.8"
    },
    "widgets": {
      "application/vnd.jupyter.widget-state+json": {
        "ba1a253b4ace4d20b1d8afd57416be52": {
          "model_module": "@jupyter-widgets/controls",
          "model_name": "HBoxModel",
          "model_module_version": "1.5.0",
          "state": {
            "_dom_classes": [],
            "_model_module": "@jupyter-widgets/controls",
            "_model_module_version": "1.5.0",
            "_model_name": "HBoxModel",
            "_view_count": null,
            "_view_module": "@jupyter-widgets/controls",
            "_view_module_version": "1.5.0",
            "_view_name": "HBoxView",
            "box_style": "",
            "children": [
              "IPY_MODEL_d29885610c074a419a477075569b9681",
              "IPY_MODEL_e23e255cbf974ad7935a4283381d5800",
              "IPY_MODEL_59a5f7624eb44365b33a9638022b45bb"
            ],
            "layout": "IPY_MODEL_988a71ed9a254545ae971c5174400e17"
          }
        },
        "d29885610c074a419a477075569b9681": {
          "model_module": "@jupyter-widgets/controls",
          "model_name": "HTMLModel",
          "model_module_version": "1.5.0",
          "state": {
            "_dom_classes": [],
            "_model_module": "@jupyter-widgets/controls",
            "_model_module_version": "1.5.0",
            "_model_name": "HTMLModel",
            "_view_count": null,
            "_view_module": "@jupyter-widgets/controls",
            "_view_module_version": "1.5.0",
            "_view_name": "HTMLView",
            "description": "",
            "description_tooltip": null,
            "layout": "IPY_MODEL_85d9a9090cc74efab67a47b6067883d1",
            "placeholder": "​",
            "style": "IPY_MODEL_f03e9f9c211442de89f291aa31cb0f88",
            "value": "100%"
          }
        },
        "e23e255cbf974ad7935a4283381d5800": {
          "model_module": "@jupyter-widgets/controls",
          "model_name": "FloatProgressModel",
          "model_module_version": "1.5.0",
          "state": {
            "_dom_classes": [],
            "_model_module": "@jupyter-widgets/controls",
            "_model_module_version": "1.5.0",
            "_model_name": "FloatProgressModel",
            "_view_count": null,
            "_view_module": "@jupyter-widgets/controls",
            "_view_module_version": "1.5.0",
            "_view_name": "ProgressView",
            "bar_style": "success",
            "description": "",
            "description_tooltip": null,
            "layout": "IPY_MODEL_f0dd7ec4257b4f65a499f45911bae80f",
            "max": 25000,
            "min": 0,
            "orientation": "horizontal",
            "style": "IPY_MODEL_c7e6ada4b69a4fc0baa78a5f885746ea",
            "value": 25000
          }
        },
        "59a5f7624eb44365b33a9638022b45bb": {
          "model_module": "@jupyter-widgets/controls",
          "model_name": "HTMLModel",
          "model_module_version": "1.5.0",
          "state": {
            "_dom_classes": [],
            "_model_module": "@jupyter-widgets/controls",
            "_model_module_version": "1.5.0",
            "_model_name": "HTMLModel",
            "_view_count": null,
            "_view_module": "@jupyter-widgets/controls",
            "_view_module_version": "1.5.0",
            "_view_name": "HTMLView",
            "description": "",
            "description_tooltip": null,
            "layout": "IPY_MODEL_3070982b25444c52b17f298b97b42e29",
            "placeholder": "​",
            "style": "IPY_MODEL_e30ad38d255744fcab78c2065fa74819",
            "value": " 25000/25000 [04:37&lt;00:00, 36.68it/s]"
          }
        },
        "988a71ed9a254545ae971c5174400e17": {
          "model_module": "@jupyter-widgets/base",
          "model_name": "LayoutModel",
          "model_module_version": "1.2.0",
          "state": {
            "_model_module": "@jupyter-widgets/base",
            "_model_module_version": "1.2.0",
            "_model_name": "LayoutModel",
            "_view_count": null,
            "_view_module": "@jupyter-widgets/base",
            "_view_module_version": "1.2.0",
            "_view_name": "LayoutView",
            "align_content": null,
            "align_items": null,
            "align_self": null,
            "border": null,
            "bottom": null,
            "display": null,
            "flex": null,
            "flex_flow": null,
            "grid_area": null,
            "grid_auto_columns": null,
            "grid_auto_flow": null,
            "grid_auto_rows": null,
            "grid_column": null,
            "grid_gap": null,
            "grid_row": null,
            "grid_template_areas": null,
            "grid_template_columns": null,
            "grid_template_rows": null,
            "height": null,
            "justify_content": null,
            "justify_items": null,
            "left": null,
            "margin": null,
            "max_height": null,
            "max_width": null,
            "min_height": null,
            "min_width": null,
            "object_fit": null,
            "object_position": null,
            "order": null,
            "overflow": null,
            "overflow_x": null,
            "overflow_y": null,
            "padding": null,
            "right": null,
            "top": null,
            "visibility": null,
            "width": null
          }
        },
        "85d9a9090cc74efab67a47b6067883d1": {
          "model_module": "@jupyter-widgets/base",
          "model_name": "LayoutModel",
          "model_module_version": "1.2.0",
          "state": {
            "_model_module": "@jupyter-widgets/base",
            "_model_module_version": "1.2.0",
            "_model_name": "LayoutModel",
            "_view_count": null,
            "_view_module": "@jupyter-widgets/base",
            "_view_module_version": "1.2.0",
            "_view_name": "LayoutView",
            "align_content": null,
            "align_items": null,
            "align_self": null,
            "border": null,
            "bottom": null,
            "display": null,
            "flex": null,
            "flex_flow": null,
            "grid_area": null,
            "grid_auto_columns": null,
            "grid_auto_flow": null,
            "grid_auto_rows": null,
            "grid_column": null,
            "grid_gap": null,
            "grid_row": null,
            "grid_template_areas": null,
            "grid_template_columns": null,
            "grid_template_rows": null,
            "height": null,
            "justify_content": null,
            "justify_items": null,
            "left": null,
            "margin": null,
            "max_height": null,
            "max_width": null,
            "min_height": null,
            "min_width": null,
            "object_fit": null,
            "object_position": null,
            "order": null,
            "overflow": null,
            "overflow_x": null,
            "overflow_y": null,
            "padding": null,
            "right": null,
            "top": null,
            "visibility": null,
            "width": null
          }
        },
        "f03e9f9c211442de89f291aa31cb0f88": {
          "model_module": "@jupyter-widgets/controls",
          "model_name": "DescriptionStyleModel",
          "model_module_version": "1.5.0",
          "state": {
            "_model_module": "@jupyter-widgets/controls",
            "_model_module_version": "1.5.0",
            "_model_name": "DescriptionStyleModel",
            "_view_count": null,
            "_view_module": "@jupyter-widgets/base",
            "_view_module_version": "1.2.0",
            "_view_name": "StyleView",
            "description_width": ""
          }
        },
        "f0dd7ec4257b4f65a499f45911bae80f": {
          "model_module": "@jupyter-widgets/base",
          "model_name": "LayoutModel",
          "model_module_version": "1.2.0",
          "state": {
            "_model_module": "@jupyter-widgets/base",
            "_model_module_version": "1.2.0",
            "_model_name": "LayoutModel",
            "_view_count": null,
            "_view_module": "@jupyter-widgets/base",
            "_view_module_version": "1.2.0",
            "_view_name": "LayoutView",
            "align_content": null,
            "align_items": null,
            "align_self": null,
            "border": null,
            "bottom": null,
            "display": null,
            "flex": null,
            "flex_flow": null,
            "grid_area": null,
            "grid_auto_columns": null,
            "grid_auto_flow": null,
            "grid_auto_rows": null,
            "grid_column": null,
            "grid_gap": null,
            "grid_row": null,
            "grid_template_areas": null,
            "grid_template_columns": null,
            "grid_template_rows": null,
            "height": null,
            "justify_content": null,
            "justify_items": null,
            "left": null,
            "margin": null,
            "max_height": null,
            "max_width": null,
            "min_height": null,
            "min_width": null,
            "object_fit": null,
            "object_position": null,
            "order": null,
            "overflow": null,
            "overflow_x": null,
            "overflow_y": null,
            "padding": null,
            "right": null,
            "top": null,
            "visibility": null,
            "width": null
          }
        },
        "c7e6ada4b69a4fc0baa78a5f885746ea": {
          "model_module": "@jupyter-widgets/controls",
          "model_name": "ProgressStyleModel",
          "model_module_version": "1.5.0",
          "state": {
            "_model_module": "@jupyter-widgets/controls",
            "_model_module_version": "1.5.0",
            "_model_name": "ProgressStyleModel",
            "_view_count": null,
            "_view_module": "@jupyter-widgets/base",
            "_view_module_version": "1.2.0",
            "_view_name": "StyleView",
            "bar_color": null,
            "description_width": ""
          }
        },
        "3070982b25444c52b17f298b97b42e29": {
          "model_module": "@jupyter-widgets/base",
          "model_name": "LayoutModel",
          "model_module_version": "1.2.0",
          "state": {
            "_model_module": "@jupyter-widgets/base",
            "_model_module_version": "1.2.0",
            "_model_name": "LayoutModel",
            "_view_count": null,
            "_view_module": "@jupyter-widgets/base",
            "_view_module_version": "1.2.0",
            "_view_name": "LayoutView",
            "align_content": null,
            "align_items": null,
            "align_self": null,
            "border": null,
            "bottom": null,
            "display": null,
            "flex": null,
            "flex_flow": null,
            "grid_area": null,
            "grid_auto_columns": null,
            "grid_auto_flow": null,
            "grid_auto_rows": null,
            "grid_column": null,
            "grid_gap": null,
            "grid_row": null,
            "grid_template_areas": null,
            "grid_template_columns": null,
            "grid_template_rows": null,
            "height": null,
            "justify_content": null,
            "justify_items": null,
            "left": null,
            "margin": null,
            "max_height": null,
            "max_width": null,
            "min_height": null,
            "min_width": null,
            "object_fit": null,
            "object_position": null,
            "order": null,
            "overflow": null,
            "overflow_x": null,
            "overflow_y": null,
            "padding": null,
            "right": null,
            "top": null,
            "visibility": null,
            "width": null
          }
        },
        "e30ad38d255744fcab78c2065fa74819": {
          "model_module": "@jupyter-widgets/controls",
          "model_name": "DescriptionStyleModel",
          "model_module_version": "1.5.0",
          "state": {
            "_model_module": "@jupyter-widgets/controls",
            "_model_module_version": "1.5.0",
            "_model_name": "DescriptionStyleModel",
            "_view_count": null,
            "_view_module": "@jupyter-widgets/base",
            "_view_module_version": "1.2.0",
            "_view_name": "StyleView",
            "description_width": ""
          }
        },
        "76dd0564f14649f7881b88352bec6b2a": {
          "model_module": "@jupyter-widgets/controls",
          "model_name": "HBoxModel",
          "model_module_version": "1.5.0",
          "state": {
            "_dom_classes": [],
            "_model_module": "@jupyter-widgets/controls",
            "_model_module_version": "1.5.0",
            "_model_name": "HBoxModel",
            "_view_count": null,
            "_view_module": "@jupyter-widgets/controls",
            "_view_module_version": "1.5.0",
            "_view_name": "HBoxView",
            "box_style": "",
            "children": [
              "IPY_MODEL_7964879c0dce40c4a534f5055234ae5d",
              "IPY_MODEL_3e2b8a778e3847d986849adace6ec5d3",
              "IPY_MODEL_ab09b6e3f07840e7b5947d3cd091ffd2"
            ],
            "layout": "IPY_MODEL_0ba401f1a68042a18279326da96a7a0b"
          }
        },
        "7964879c0dce40c4a534f5055234ae5d": {
          "model_module": "@jupyter-widgets/controls",
          "model_name": "HTMLModel",
          "model_module_version": "1.5.0",
          "state": {
            "_dom_classes": [],
            "_model_module": "@jupyter-widgets/controls",
            "_model_module_version": "1.5.0",
            "_model_name": "HTMLModel",
            "_view_count": null,
            "_view_module": "@jupyter-widgets/controls",
            "_view_module_version": "1.5.0",
            "_view_name": "HTMLView",
            "description": "",
            "description_tooltip": null,
            "layout": "IPY_MODEL_593e316544ce43fda9a512b473db8141",
            "placeholder": "​",
            "style": "IPY_MODEL_2aae90b9f3534141917974a56959b279",
            "value": "100%"
          }
        },
        "3e2b8a778e3847d986849adace6ec5d3": {
          "model_module": "@jupyter-widgets/controls",
          "model_name": "FloatProgressModel",
          "model_module_version": "1.5.0",
          "state": {
            "_dom_classes": [],
            "_model_module": "@jupyter-widgets/controls",
            "_model_module_version": "1.5.0",
            "_model_name": "FloatProgressModel",
            "_view_count": null,
            "_view_module": "@jupyter-widgets/controls",
            "_view_module_version": "1.5.0",
            "_view_name": "ProgressView",
            "bar_style": "success",
            "description": "",
            "description_tooltip": null,
            "layout": "IPY_MODEL_c3167b560f4c428f9b2c619a6b06269e",
            "max": 100,
            "min": 0,
            "orientation": "horizontal",
            "style": "IPY_MODEL_5708bcffb96544b48874f994b7ee43c9",
            "value": 100
          }
        },
        "ab09b6e3f07840e7b5947d3cd091ffd2": {
          "model_module": "@jupyter-widgets/controls",
          "model_name": "HTMLModel",
          "model_module_version": "1.5.0",
          "state": {
            "_dom_classes": [],
            "_model_module": "@jupyter-widgets/controls",
            "_model_module_version": "1.5.0",
            "_model_name": "HTMLModel",
            "_view_count": null,
            "_view_module": "@jupyter-widgets/controls",
            "_view_module_version": "1.5.0",
            "_view_name": "HTMLView",
            "description": "",
            "description_tooltip": null,
            "layout": "IPY_MODEL_4db8237160da4ad49c4d527612f0b6d9",
            "placeholder": "​",
            "style": "IPY_MODEL_7b46c59f0c2545588e439630c0af8f64",
            "value": " 100/100 [00:15&lt;00:00, 24.77it/s]"
          }
        },
        "0ba401f1a68042a18279326da96a7a0b": {
          "model_module": "@jupyter-widgets/base",
          "model_name": "LayoutModel",
          "model_module_version": "1.2.0",
          "state": {
            "_model_module": "@jupyter-widgets/base",
            "_model_module_version": "1.2.0",
            "_model_name": "LayoutModel",
            "_view_count": null,
            "_view_module": "@jupyter-widgets/base",
            "_view_module_version": "1.2.0",
            "_view_name": "LayoutView",
            "align_content": null,
            "align_items": null,
            "align_self": null,
            "border": null,
            "bottom": null,
            "display": null,
            "flex": null,
            "flex_flow": null,
            "grid_area": null,
            "grid_auto_columns": null,
            "grid_auto_flow": null,
            "grid_auto_rows": null,
            "grid_column": null,
            "grid_gap": null,
            "grid_row": null,
            "grid_template_areas": null,
            "grid_template_columns": null,
            "grid_template_rows": null,
            "height": null,
            "justify_content": null,
            "justify_items": null,
            "left": null,
            "margin": null,
            "max_height": null,
            "max_width": null,
            "min_height": null,
            "min_width": null,
            "object_fit": null,
            "object_position": null,
            "order": null,
            "overflow": null,
            "overflow_x": null,
            "overflow_y": null,
            "padding": null,
            "right": null,
            "top": null,
            "visibility": null,
            "width": null
          }
        },
        "593e316544ce43fda9a512b473db8141": {
          "model_module": "@jupyter-widgets/base",
          "model_name": "LayoutModel",
          "model_module_version": "1.2.0",
          "state": {
            "_model_module": "@jupyter-widgets/base",
            "_model_module_version": "1.2.0",
            "_model_name": "LayoutModel",
            "_view_count": null,
            "_view_module": "@jupyter-widgets/base",
            "_view_module_version": "1.2.0",
            "_view_name": "LayoutView",
            "align_content": null,
            "align_items": null,
            "align_self": null,
            "border": null,
            "bottom": null,
            "display": null,
            "flex": null,
            "flex_flow": null,
            "grid_area": null,
            "grid_auto_columns": null,
            "grid_auto_flow": null,
            "grid_auto_rows": null,
            "grid_column": null,
            "grid_gap": null,
            "grid_row": null,
            "grid_template_areas": null,
            "grid_template_columns": null,
            "grid_template_rows": null,
            "height": null,
            "justify_content": null,
            "justify_items": null,
            "left": null,
            "margin": null,
            "max_height": null,
            "max_width": null,
            "min_height": null,
            "min_width": null,
            "object_fit": null,
            "object_position": null,
            "order": null,
            "overflow": null,
            "overflow_x": null,
            "overflow_y": null,
            "padding": null,
            "right": null,
            "top": null,
            "visibility": null,
            "width": null
          }
        },
        "2aae90b9f3534141917974a56959b279": {
          "model_module": "@jupyter-widgets/controls",
          "model_name": "DescriptionStyleModel",
          "model_module_version": "1.5.0",
          "state": {
            "_model_module": "@jupyter-widgets/controls",
            "_model_module_version": "1.5.0",
            "_model_name": "DescriptionStyleModel",
            "_view_count": null,
            "_view_module": "@jupyter-widgets/base",
            "_view_module_version": "1.2.0",
            "_view_name": "StyleView",
            "description_width": ""
          }
        },
        "c3167b560f4c428f9b2c619a6b06269e": {
          "model_module": "@jupyter-widgets/base",
          "model_name": "LayoutModel",
          "model_module_version": "1.2.0",
          "state": {
            "_model_module": "@jupyter-widgets/base",
            "_model_module_version": "1.2.0",
            "_model_name": "LayoutModel",
            "_view_count": null,
            "_view_module": "@jupyter-widgets/base",
            "_view_module_version": "1.2.0",
            "_view_name": "LayoutView",
            "align_content": null,
            "align_items": null,
            "align_self": null,
            "border": null,
            "bottom": null,
            "display": null,
            "flex": null,
            "flex_flow": null,
            "grid_area": null,
            "grid_auto_columns": null,
            "grid_auto_flow": null,
            "grid_auto_rows": null,
            "grid_column": null,
            "grid_gap": null,
            "grid_row": null,
            "grid_template_areas": null,
            "grid_template_columns": null,
            "grid_template_rows": null,
            "height": null,
            "justify_content": null,
            "justify_items": null,
            "left": null,
            "margin": null,
            "max_height": null,
            "max_width": null,
            "min_height": null,
            "min_width": null,
            "object_fit": null,
            "object_position": null,
            "order": null,
            "overflow": null,
            "overflow_x": null,
            "overflow_y": null,
            "padding": null,
            "right": null,
            "top": null,
            "visibility": null,
            "width": null
          }
        },
        "5708bcffb96544b48874f994b7ee43c9": {
          "model_module": "@jupyter-widgets/controls",
          "model_name": "ProgressStyleModel",
          "model_module_version": "1.5.0",
          "state": {
            "_model_module": "@jupyter-widgets/controls",
            "_model_module_version": "1.5.0",
            "_model_name": "ProgressStyleModel",
            "_view_count": null,
            "_view_module": "@jupyter-widgets/base",
            "_view_module_version": "1.2.0",
            "_view_name": "StyleView",
            "bar_color": null,
            "description_width": ""
          }
        },
        "4db8237160da4ad49c4d527612f0b6d9": {
          "model_module": "@jupyter-widgets/base",
          "model_name": "LayoutModel",
          "model_module_version": "1.2.0",
          "state": {
            "_model_module": "@jupyter-widgets/base",
            "_model_module_version": "1.2.0",
            "_model_name": "LayoutModel",
            "_view_count": null,
            "_view_module": "@jupyter-widgets/base",
            "_view_module_version": "1.2.0",
            "_view_name": "LayoutView",
            "align_content": null,
            "align_items": null,
            "align_self": null,
            "border": null,
            "bottom": null,
            "display": null,
            "flex": null,
            "flex_flow": null,
            "grid_area": null,
            "grid_auto_columns": null,
            "grid_auto_flow": null,
            "grid_auto_rows": null,
            "grid_column": null,
            "grid_gap": null,
            "grid_row": null,
            "grid_template_areas": null,
            "grid_template_columns": null,
            "grid_template_rows": null,
            "height": null,
            "justify_content": null,
            "justify_items": null,
            "left": null,
            "margin": null,
            "max_height": null,
            "max_width": null,
            "min_height": null,
            "min_width": null,
            "object_fit": null,
            "object_position": null,
            "order": null,
            "overflow": null,
            "overflow_x": null,
            "overflow_y": null,
            "padding": null,
            "right": null,
            "top": null,
            "visibility": null,
            "width": null
          }
        },
        "7b46c59f0c2545588e439630c0af8f64": {
          "model_module": "@jupyter-widgets/controls",
          "model_name": "DescriptionStyleModel",
          "model_module_version": "1.5.0",
          "state": {
            "_model_module": "@jupyter-widgets/controls",
            "_model_module_version": "1.5.0",
            "_model_name": "DescriptionStyleModel",
            "_view_count": null,
            "_view_module": "@jupyter-widgets/base",
            "_view_module_version": "1.2.0",
            "_view_name": "StyleView",
            "description_width": ""
          }
        }
      }
    }
  },
  "nbformat": 4,
  "nbformat_minor": 0
}